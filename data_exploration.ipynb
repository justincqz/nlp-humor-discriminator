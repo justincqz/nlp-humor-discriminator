{
  "nbformat": 4,
  "nbformat_minor": 0,
  "metadata": {
    "colab": {
      "name": "data_exploration.ipynb",
      "provenance": [],
      "toc_visible": true,
      "authorship_tag": "ABX9TyPdxf9CukOruxkWDhucVzqG",
      "include_colab_link": true
    },
    "kernelspec": {
      "name": "python3",
      "display_name": "Python 3"
    }
  },
  "cells": [
    {
      "cell_type": "markdown",
      "metadata": {
        "id": "view-in-github",
        "colab_type": "text"
      },
      "source": [
        "<a href=\"https://colab.research.google.com/github/justincqz/nlp-humor-discriminator/blob/main/data_exploration.ipynb\" target=\"_parent\"><img src=\"https://colab.research.google.com/assets/colab-badge.svg\" alt=\"Open In Colab\"/></a>"
      ]
    },
    {
      "cell_type": "code",
      "metadata": {
        "colab": {
          "base_uri": "https://localhost:8080/"
        },
        "id": "vfVBchKwb66U",
        "outputId": "4b02e52c-174a-4d1c-d096-82fa531d4f56"
      },
      "source": [
        "# Imports\n",
        "\n",
        "import re\n",
        "import torch\n",
        "import torch.nn as nn\n",
        "import pandas as pd\n",
        "import numpy as np\n",
        "import matplotlib.pyplot as plt\n",
        "\n",
        "import nltk\n",
        "nltk.download('stopwords')\n",
        "\n",
        "from sklearn.feature_extraction.text import CountVectorizer\n",
        "from torch.utils.data import Dataset, random_split\n",
        "from sklearn.feature_extraction.text import TfidfTransformer\n",
        "from sklearn.model_selection import train_test_split\n",
        "from sklearn.linear_model import LinearRegression\n",
        "import codecs"
      ],
      "execution_count": 201,
      "outputs": [
        {
          "output_type": "stream",
          "text": [
            "[nltk_data] Downloading package stopwords to /root/nltk_data...\n",
            "[nltk_data]   Unzipping corpora/stopwords.zip.\n"
          ],
          "name": "stdout"
        }
      ]
    },
    {
      "cell_type": "code",
      "metadata": {
        "colab": {
          "base_uri": "https://localhost:8080/"
        },
        "id": "rO6x3kgpb1R_",
        "outputId": "58c4eee0-32be-4c39-9ee5-1f271cb1c9f4"
      },
      "source": [
        "# Load data\n",
        "\n",
        "!wget -O train.csv https://drive.google.com/u/0/uc?id=1UgrdjcHHZmAthjusQDAKoSqd37up-41f&export=download\n",
        "!wget -O dev.csv https://drive.google.com/u/0/uc?id=1rY6A0cN_cxAMK3aMHlTFWxhbcLFomvQL&export=download\n",
        "\n",
        "train_df = pd.read_csv('./train.csv')\n",
        "test_df = pd.read_csv('./dev.csv')"
      ],
      "execution_count": 3,
      "outputs": [
        {
          "output_type": "stream",
          "text": [
            "--2021-02-20 12:35:24--  https://drive.google.com/u/0/uc?id=1UgrdjcHHZmAthjusQDAKoSqd37up-41f\n",
            "Resolving drive.google.com (drive.google.com)... 172.217.3.46, 2607:f8b0:4026:801::200e\n",
            "Connecting to drive.google.com (drive.google.com)|172.217.3.46|:443... connected.\n",
            "HTTP request sent, awaiting response... 302 Moved Temporarily\n",
            "Location: https://doc-00-cc-docs.googleusercontent.com/docs/securesc/ha0ro937gcuc7l7deffksulhg5h7mbp1/dt3bpidvr3ig01phnnb4pderpunfrua1/1613824500000/13802342090854404605/*/1UgrdjcHHZmAthjusQDAKoSqd37up-41f [following]\n",
            "Warning: wildcards not supported in HTTP.\n",
            "--2021-02-20 12:35:25--  https://doc-00-cc-docs.googleusercontent.com/docs/securesc/ha0ro937gcuc7l7deffksulhg5h7mbp1/dt3bpidvr3ig01phnnb4pderpunfrua1/1613824500000/13802342090854404605/*/1UgrdjcHHZmAthjusQDAKoSqd37up-41f\n",
            "Resolving doc-00-cc-docs.googleusercontent.com (doc-00-cc-docs.googleusercontent.com)... 216.58.192.65, 2607:f8b0:4026:802::2001\n",
            "Connecting to doc-00-cc-docs.googleusercontent.com (doc-00-cc-docs.googleusercontent.com)|216.58.192.65|:443... connected.\n",
            "HTTP request sent, awaiting response... 200 OK\n",
            "Length: 947914 (926K) [text/csv]\n",
            "Saving to: ‘train.csv’\n",
            "\n",
            "train.csv           100%[===================>] 925.70K  --.-KB/s    in 0.008s  \n",
            "\n",
            "2021-02-20 12:35:26 (114 MB/s) - ‘train.csv’ saved [947914/947914]\n",
            "\n",
            "--2021-02-20 12:35:26--  https://drive.google.com/u/0/uc?id=1rY6A0cN_cxAMK3aMHlTFWxhbcLFomvQL\n",
            "Resolving drive.google.com (drive.google.com)... 172.217.3.46, 2607:f8b0:4026:801::200e\n",
            "Connecting to drive.google.com (drive.google.com)|172.217.3.46|:443... connected.\n",
            "HTTP request sent, awaiting response... 302 Moved Temporarily\n",
            "Location: https://doc-0c-cc-docs.googleusercontent.com/docs/securesc/ha0ro937gcuc7l7deffksulhg5h7mbp1/a9dnp1s0ppqjo21sn5gcbqst9n6re0k9/1613824500000/13802342090854404605/*/1rY6A0cN_cxAMK3aMHlTFWxhbcLFomvQL [following]\n",
            "Warning: wildcards not supported in HTTP.\n",
            "--2021-02-20 12:35:26--  https://doc-0c-cc-docs.googleusercontent.com/docs/securesc/ha0ro937gcuc7l7deffksulhg5h7mbp1/a9dnp1s0ppqjo21sn5gcbqst9n6re0k9/1613824500000/13802342090854404605/*/1rY6A0cN_cxAMK3aMHlTFWxhbcLFomvQL\n",
            "Resolving doc-0c-cc-docs.googleusercontent.com (doc-0c-cc-docs.googleusercontent.com)... 216.58.192.65, 2607:f8b0:4026:802::2001\n",
            "Connecting to doc-0c-cc-docs.googleusercontent.com (doc-0c-cc-docs.googleusercontent.com)|216.58.192.65|:443... connected.\n",
            "HTTP request sent, awaiting response... 200 OK\n",
            "Length: 219349 (214K) [text/csv]\n",
            "Saving to: ‘dev.csv’\n",
            "\n",
            "dev.csv             100%[===================>] 214.21K  --.-KB/s    in 0.002s  \n",
            "\n",
            "2021-02-20 12:35:26 (99.6 MB/s) - ‘dev.csv’ saved [219349/219349]\n",
            "\n"
          ],
          "name": "stdout"
        }
      ]
    },
    {
      "cell_type": "code",
      "metadata": {
        "colab": {
          "base_uri": "https://localhost:8080/",
          "height": 423
        },
        "id": "a1f6eAQ2b_YL",
        "outputId": "a98ed722-5597-426e-bf8e-ec1b4f4a5b18"
      },
      "source": [
        "train_df"
      ],
      "execution_count": 133,
      "outputs": [
        {
          "output_type": "execute_result",
          "data": {
            "text/html": [
              "<div>\n",
              "<style scoped>\n",
              "    .dataframe tbody tr th:only-of-type {\n",
              "        vertical-align: middle;\n",
              "    }\n",
              "\n",
              "    .dataframe tbody tr th {\n",
              "        vertical-align: top;\n",
              "    }\n",
              "\n",
              "    .dataframe thead th {\n",
              "        text-align: right;\n",
              "    }\n",
              "</style>\n",
              "<table border=\"1\" class=\"dataframe\">\n",
              "  <thead>\n",
              "    <tr style=\"text-align: right;\">\n",
              "      <th></th>\n",
              "      <th>id</th>\n",
              "      <th>original</th>\n",
              "      <th>edit</th>\n",
              "      <th>grades</th>\n",
              "      <th>meanGrade</th>\n",
              "    </tr>\n",
              "  </thead>\n",
              "  <tbody>\n",
              "    <tr>\n",
              "      <th>0</th>\n",
              "      <td>14530</td>\n",
              "      <td>France is ‘ hunting down its citizens who join...</td>\n",
              "      <td>twins</td>\n",
              "      <td>10000</td>\n",
              "      <td>0.2</td>\n",
              "    </tr>\n",
              "    <tr>\n",
              "      <th>1</th>\n",
              "      <td>13034</td>\n",
              "      <td>Pentagon claims 2,000 % increase in Russian tr...</td>\n",
              "      <td>bowling</td>\n",
              "      <td>33110</td>\n",
              "      <td>1.6</td>\n",
              "    </tr>\n",
              "    <tr>\n",
              "      <th>2</th>\n",
              "      <td>8731</td>\n",
              "      <td>Iceland PM Calls Snap Vote as Pedophile Furor ...</td>\n",
              "      <td>party</td>\n",
              "      <td>22100</td>\n",
              "      <td>1.0</td>\n",
              "    </tr>\n",
              "    <tr>\n",
              "      <th>3</th>\n",
              "      <td>76</td>\n",
              "      <td>In an apparent first , Iran and Israel &lt;engage...</td>\n",
              "      <td>slap</td>\n",
              "      <td>20000</td>\n",
              "      <td>0.4</td>\n",
              "    </tr>\n",
              "    <tr>\n",
              "      <th>4</th>\n",
              "      <td>6164</td>\n",
              "      <td>Trump was told weeks ago that Flynn misled &lt;Vi...</td>\n",
              "      <td>school</td>\n",
              "      <td>0</td>\n",
              "      <td>0.0</td>\n",
              "    </tr>\n",
              "    <tr>\n",
              "      <th>...</th>\n",
              "      <td>...</td>\n",
              "      <td>...</td>\n",
              "      <td>...</td>\n",
              "      <td>...</td>\n",
              "      <td>...</td>\n",
              "    </tr>\n",
              "    <tr>\n",
              "      <th>9647</th>\n",
              "      <td>10899</td>\n",
              "      <td>State officials blast ' unprecedented ' DHS &lt;m...</td>\n",
              "      <td>idea</td>\n",
              "      <td>0</td>\n",
              "      <td>0.0</td>\n",
              "    </tr>\n",
              "    <tr>\n",
              "      <th>9648</th>\n",
              "      <td>1781</td>\n",
              "      <td>Protesters Rally for &lt;Refugees/&gt; Detained at J...</td>\n",
              "      <td>stewardesses</td>\n",
              "      <td>20000</td>\n",
              "      <td>0.4</td>\n",
              "    </tr>\n",
              "    <tr>\n",
              "      <th>9649</th>\n",
              "      <td>5628</td>\n",
              "      <td>Cruise line Carnival Corp. joins the fight aga...</td>\n",
              "      <td>raisin</td>\n",
              "      <td>21000</td>\n",
              "      <td>0.6</td>\n",
              "    </tr>\n",
              "    <tr>\n",
              "      <th>9650</th>\n",
              "      <td>14483</td>\n",
              "      <td>Columbia police hunt woman seen with &lt;gun/&gt; ne...</td>\n",
              "      <td>cake</td>\n",
              "      <td>32200</td>\n",
              "      <td>1.4</td>\n",
              "    </tr>\n",
              "    <tr>\n",
              "      <th>9651</th>\n",
              "      <td>5255</td>\n",
              "      <td>Here 's What 's In The House-Approved Health &lt;...</td>\n",
              "      <td>food</td>\n",
              "      <td>11000</td>\n",
              "      <td>0.4</td>\n",
              "    </tr>\n",
              "  </tbody>\n",
              "</table>\n",
              "<p>9652 rows × 5 columns</p>\n",
              "</div>"
            ],
            "text/plain": [
              "         id  ... meanGrade\n",
              "0     14530  ...       0.2\n",
              "1     13034  ...       1.6\n",
              "2      8731  ...       1.0\n",
              "3        76  ...       0.4\n",
              "4      6164  ...       0.0\n",
              "...     ...  ...       ...\n",
              "9647  10899  ...       0.0\n",
              "9648   1781  ...       0.4\n",
              "9649   5628  ...       0.6\n",
              "9650  14483  ...       1.4\n",
              "9651   5255  ...       0.4\n",
              "\n",
              "[9652 rows x 5 columns]"
            ]
          },
          "metadata": {
            "tags": []
          },
          "execution_count": 133
        }
      ]
    },
    {
      "cell_type": "code",
      "metadata": {
        "colab": {
          "base_uri": "https://localhost:8080/"
        },
        "id": "Q2qTRGfKptDG",
        "outputId": "b75cb140-35c4-4081-b84b-9939d7a6b67b"
      },
      "source": [
        "# Edit sentence with replacement word.\n",
        "def replace_word(orig, edit):\n",
        "  return re.sub(r\"\\<.*\\/\\>\", edit, orig)\n",
        "\n",
        "# Get word to be replaced.\n",
        "def get_replaced(orig):\n",
        "  return re.search(r\"\\<.*\\/\\>\", orig).group(0)[1:-2]\n",
        "\n",
        "orig = train_df.iloc[0]['original']\n",
        "edit = train_df.iloc[0]['edit']\n",
        "grade = train_df.iloc[0]['meanGrade']\n",
        "print(\"Orignal: {}\".format(text))\n",
        "print(\"Replacement word: {}\".format(edit))\n",
        "\n",
        "word = get_replaced(orig)\n",
        "print(\"Matched word: {}\".format(word))\n",
        "\n",
        "replaced_text = replace_word(orig, edit)\n",
        "print(\"Edited: {}\".format(replaced_text))\n",
        "print(\"Grade: {}\".format(grade))"
      ],
      "execution_count": 153,
      "outputs": [
        {
          "output_type": "stream",
          "text": [
            "Orignal: France is ‘ hunting down its citizens who joined <Isis/> ’ without trial in Iraq\n",
            "Replacement word: twins\n",
            "Matched word: Isis\n",
            "Edited: France is ‘ hunting down its citizens who joined twins ’ without trial in Iraq\n",
            "Grade: 0.2\n"
          ],
          "name": "stdout"
        }
      ]
    },
    {
      "cell_type": "code",
      "metadata": {
        "colab": {
          "base_uri": "https://localhost:8080/",
          "height": 597
        },
        "id": "iRnEzvh5y4hq",
        "outputId": "e0f8af13-b687-4fe6-a67b-30f7ae3b0231"
      },
      "source": [
        "# Add useful columns to dataframe.\n",
        "edits = train_df.apply(lambda row : replace_word(str(row[1]), str(row[2])), axis=1)\n",
        "train_df['editedSentence'] = train_df.apply(lambda row : replace_word(str(row[1]), str(row[2])), axis=1)\n",
        "train_df['replaceWord'] = train_df.apply(lambda row : get_replaced(str(row[1])), axis=1)\n",
        "train_df"
      ],
      "execution_count": 155,
      "outputs": [
        {
          "output_type": "execute_result",
          "data": {
            "text/html": [
              "<div>\n",
              "<style scoped>\n",
              "    .dataframe tbody tr th:only-of-type {\n",
              "        vertical-align: middle;\n",
              "    }\n",
              "\n",
              "    .dataframe tbody tr th {\n",
              "        vertical-align: top;\n",
              "    }\n",
              "\n",
              "    .dataframe thead th {\n",
              "        text-align: right;\n",
              "    }\n",
              "</style>\n",
              "<table border=\"1\" class=\"dataframe\">\n",
              "  <thead>\n",
              "    <tr style=\"text-align: right;\">\n",
              "      <th></th>\n",
              "      <th>id</th>\n",
              "      <th>original</th>\n",
              "      <th>edit</th>\n",
              "      <th>grades</th>\n",
              "      <th>meanGrade</th>\n",
              "      <th>editedSentence</th>\n",
              "      <th>replaceWord</th>\n",
              "    </tr>\n",
              "  </thead>\n",
              "  <tbody>\n",
              "    <tr>\n",
              "      <th>0</th>\n",
              "      <td>14530</td>\n",
              "      <td>France is ‘ hunting down its citizens who join...</td>\n",
              "      <td>twins</td>\n",
              "      <td>10000</td>\n",
              "      <td>0.2</td>\n",
              "      <td>France is ‘ hunting down its citizens who join...</td>\n",
              "      <td>Isis</td>\n",
              "    </tr>\n",
              "    <tr>\n",
              "      <th>1</th>\n",
              "      <td>13034</td>\n",
              "      <td>Pentagon claims 2,000 % increase in Russian tr...</td>\n",
              "      <td>bowling</td>\n",
              "      <td>33110</td>\n",
              "      <td>1.6</td>\n",
              "      <td>Pentagon claims 2,000 % increase in Russian tr...</td>\n",
              "      <td>Syria</td>\n",
              "    </tr>\n",
              "    <tr>\n",
              "      <th>2</th>\n",
              "      <td>8731</td>\n",
              "      <td>Iceland PM Calls Snap Vote as Pedophile Furor ...</td>\n",
              "      <td>party</td>\n",
              "      <td>22100</td>\n",
              "      <td>1.0</td>\n",
              "      <td>Iceland PM Calls Snap Vote as Pedophile Furor ...</td>\n",
              "      <td>Coalition</td>\n",
              "    </tr>\n",
              "    <tr>\n",
              "      <th>3</th>\n",
              "      <td>76</td>\n",
              "      <td>In an apparent first , Iran and Israel &lt;engage...</td>\n",
              "      <td>slap</td>\n",
              "      <td>20000</td>\n",
              "      <td>0.4</td>\n",
              "      <td>In an apparent first , Iran and Israel slap ea...</td>\n",
              "      <td>engage</td>\n",
              "    </tr>\n",
              "    <tr>\n",
              "      <th>4</th>\n",
              "      <td>6164</td>\n",
              "      <td>Trump was told weeks ago that Flynn misled &lt;Vi...</td>\n",
              "      <td>school</td>\n",
              "      <td>0</td>\n",
              "      <td>0.0</td>\n",
              "      <td>Trump was told weeks ago that Flynn misled sch...</td>\n",
              "      <td>Vice</td>\n",
              "    </tr>\n",
              "    <tr>\n",
              "      <th>...</th>\n",
              "      <td>...</td>\n",
              "      <td>...</td>\n",
              "      <td>...</td>\n",
              "      <td>...</td>\n",
              "      <td>...</td>\n",
              "      <td>...</td>\n",
              "      <td>...</td>\n",
              "    </tr>\n",
              "    <tr>\n",
              "      <th>9647</th>\n",
              "      <td>10899</td>\n",
              "      <td>State officials blast ' unprecedented ' DHS &lt;m...</td>\n",
              "      <td>idea</td>\n",
              "      <td>0</td>\n",
              "      <td>0.0</td>\n",
              "      <td>State officials blast ' unprecedented ' DHS id...</td>\n",
              "      <td>move</td>\n",
              "    </tr>\n",
              "    <tr>\n",
              "      <th>9648</th>\n",
              "      <td>1781</td>\n",
              "      <td>Protesters Rally for &lt;Refugees/&gt; Detained at J...</td>\n",
              "      <td>stewardesses</td>\n",
              "      <td>20000</td>\n",
              "      <td>0.4</td>\n",
              "      <td>Protesters Rally for stewardesses Detained at ...</td>\n",
              "      <td>Refugees</td>\n",
              "    </tr>\n",
              "    <tr>\n",
              "      <th>9649</th>\n",
              "      <td>5628</td>\n",
              "      <td>Cruise line Carnival Corp. joins the fight aga...</td>\n",
              "      <td>raisin</td>\n",
              "      <td>21000</td>\n",
              "      <td>0.6</td>\n",
              "      <td>Cruise line Carnival Corp. joins the fight aga...</td>\n",
              "      <td>marriage</td>\n",
              "    </tr>\n",
              "    <tr>\n",
              "      <th>9650</th>\n",
              "      <td>14483</td>\n",
              "      <td>Columbia police hunt woman seen with &lt;gun/&gt; ne...</td>\n",
              "      <td>cake</td>\n",
              "      <td>32200</td>\n",
              "      <td>1.4</td>\n",
              "      <td>Columbia police hunt woman seen with cake near...</td>\n",
              "      <td>gun</td>\n",
              "    </tr>\n",
              "    <tr>\n",
              "      <th>9651</th>\n",
              "      <td>5255</td>\n",
              "      <td>Here 's What 's In The House-Approved Health &lt;...</td>\n",
              "      <td>food</td>\n",
              "      <td>11000</td>\n",
              "      <td>0.4</td>\n",
              "      <td>Here 's What 's In The House-Approved Health f...</td>\n",
              "      <td>Care</td>\n",
              "    </tr>\n",
              "  </tbody>\n",
              "</table>\n",
              "<p>9652 rows × 7 columns</p>\n",
              "</div>"
            ],
            "text/plain": [
              "         id  ... replaceWord\n",
              "0     14530  ...        Isis\n",
              "1     13034  ...       Syria\n",
              "2      8731  ...   Coalition\n",
              "3        76  ...      engage\n",
              "4      6164  ...        Vice\n",
              "...     ...  ...         ...\n",
              "9647  10899  ...        move\n",
              "9648   1781  ...    Refugees\n",
              "9649   5628  ...    marriage\n",
              "9650  14483  ...         gun\n",
              "9651   5255  ...        Care\n",
              "\n",
              "[9652 rows x 7 columns]"
            ]
          },
          "metadata": {
            "tags": []
          },
          "execution_count": 155
        }
      ]
    },
    {
      "cell_type": "markdown",
      "metadata": {
        "id": "MSbei5UUKthL"
      },
      "source": [
        "## Sentence statistics"
      ]
    },
    {
      "cell_type": "markdown",
      "metadata": {
        "id": "MvY2dOU2onKc"
      },
      "source": [
        "### Grade distribution"
      ]
    },
    {
      "cell_type": "code",
      "metadata": {
        "colab": {
          "base_uri": "https://localhost:8080/"
        },
        "id": "RYohPFN-cDgf",
        "outputId": "1f7e5e49-0f7d-4a7b-b7a5-702031f19cce"
      },
      "source": [
        "grades = train_df['meanGrade']\n",
        "grades"
      ],
      "execution_count": 6,
      "outputs": [
        {
          "output_type": "execute_result",
          "data": {
            "text/plain": [
              "0       0.2\n",
              "1       1.6\n",
              "2       1.0\n",
              "3       0.4\n",
              "4       0.0\n",
              "       ... \n",
              "9647    0.0\n",
              "9648    0.4\n",
              "9649    0.6\n",
              "9650    1.4\n",
              "9651    0.4\n",
              "Name: meanGrade, Length: 9652, dtype: float64"
            ]
          },
          "metadata": {
            "tags": []
          },
          "execution_count": 6
        }
      ]
    },
    {
      "cell_type": "code",
      "metadata": {
        "colab": {
          "base_uri": "https://localhost:8080/",
          "height": 657
        },
        "id": "8Ce2Yg2xhlwS",
        "outputId": "af92aeee-a7be-4701-8222-11194bcb0692"
      },
      "source": [
        "print(\"Mean grade: {}\".format(grades.mean()))\n",
        "bins = np.arange(-0.1, 3.1, 0.1)\n",
        "print(\"bins: {}\".format(bins))\n",
        "\n",
        "grade_counts = grades.value_counts(bins=bins, sort=False)\n",
        "grade_counts.plot(figsize=(10,8), title=\"Grade Counts\", kind=\"bar\", xlabel=\"Grade\", ylabel=\"Counts\")"
      ],
      "execution_count": 163,
      "outputs": [
        {
          "output_type": "stream",
          "text": [
            "Mean grade: 0.9355712114932938\n",
            "bins: [-0.1  0.   0.1  0.2  0.3  0.4  0.5  0.6  0.7  0.8  0.9  1.   1.1  1.2\n",
            "  1.3  1.4  1.5  1.6  1.7  1.8  1.9  2.   2.1  2.2  2.3  2.4  2.5  2.6\n",
            "  2.7  2.8  2.9  3. ]\n"
          ],
          "name": "stdout"
        },
        {
          "output_type": "execute_result",
          "data": {
            "text/plain": [
              "<matplotlib.axes._subplots.AxesSubplot at 0x7fc44757e4e0>"
            ]
          },
          "metadata": {
            "tags": []
          },
          "execution_count": 163
        },
        {
          "output_type": "display_data",
          "data": {
            "image/png": "[encoded data removed]",
            "text/plain": [
              "<Figure size 720x576 with 1 Axes>"
            ]
          },
          "metadata": {
            "tags": [],
            "needs_background": "light"
          }
        }
      ]
    },
    {
      "cell_type": "markdown",
      "metadata": {
        "id": "4Fh5wi8joqGV"
      },
      "source": [
        "### Word/character count/length distribution"
      ]
    },
    {
      "cell_type": "code",
      "metadata": {
        "colab": {
          "base_uri": "https://localhost:8080/",
          "height": 625
        },
        "id": "SDGRfb75mDlt",
        "outputId": "00a72d4d-4c48-4cd5-e17e-f3f2d82b3311"
      },
      "source": [
        "def avg_word(sentence):\n",
        "  words = sentence.split()\n",
        "  return (sum(len(word) for word in words)/len(words))\n",
        "\n",
        "\n",
        "# Get average word length of edited sentence.\n",
        "train_df['avgWordLength'] = train_df['editedSentence'].apply(lambda x: avg_word(x))\n",
        "train_df.head()"
      ],
      "execution_count": 212,
      "outputs": [
        {
          "output_type": "execute_result",
          "data": {
            "text/html": [
              "<div>\n",
              "<style scoped>\n",
              "    .dataframe tbody tr th:only-of-type {\n",
              "        vertical-align: middle;\n",
              "    }\n",
              "\n",
              "    .dataframe tbody tr th {\n",
              "        vertical-align: top;\n",
              "    }\n",
              "\n",
              "    .dataframe thead th {\n",
              "        text-align: right;\n",
              "    }\n",
              "</style>\n",
              "<table border=\"1\" class=\"dataframe\">\n",
              "  <thead>\n",
              "    <tr style=\"text-align: right;\">\n",
              "      <th></th>\n",
              "      <th>id</th>\n",
              "      <th>original</th>\n",
              "      <th>edit</th>\n",
              "      <th>grades</th>\n",
              "      <th>meanGrade</th>\n",
              "      <th>editedSentence</th>\n",
              "      <th>replaceWord</th>\n",
              "      <th>avgWordLength</th>\n",
              "      <th>gradeCategory</th>\n",
              "      <th>wordCounts</th>\n",
              "      <th>charCounts</th>\n",
              "      <th>numStopWords</th>\n",
              "    </tr>\n",
              "  </thead>\n",
              "  <tbody>\n",
              "    <tr>\n",
              "      <th>0</th>\n",
              "      <td>14530</td>\n",
              "      <td>France is ‘ hunting down its citizens who join...</td>\n",
              "      <td>twins</td>\n",
              "      <td>10000</td>\n",
              "      <td>0.2</td>\n",
              "      <td>France is ‘ hunting down its citizens who join...</td>\n",
              "      <td>Isis</td>\n",
              "      <td>4.266667</td>\n",
              "      <td>&lt;0.5</td>\n",
              "      <td>15</td>\n",
              "      <td>78</td>\n",
              "      <td>5</td>\n",
              "    </tr>\n",
              "    <tr>\n",
              "      <th>1</th>\n",
              "      <td>13034</td>\n",
              "      <td>Pentagon claims 2,000 % increase in Russian tr...</td>\n",
              "      <td>bowling</td>\n",
              "      <td>33110</td>\n",
              "      <td>1.6</td>\n",
              "      <td>Pentagon claims 2,000 % increase in Russian tr...</td>\n",
              "      <td>Syria</td>\n",
              "      <td>4.705882</td>\n",
              "      <td>&lt;2.0</td>\n",
              "      <td>17</td>\n",
              "      <td>96</td>\n",
              "      <td>4</td>\n",
              "    </tr>\n",
              "    <tr>\n",
              "      <th>2</th>\n",
              "      <td>8731</td>\n",
              "      <td>Iceland PM Calls Snap Vote as Pedophile Furor ...</td>\n",
              "      <td>party</td>\n",
              "      <td>22100</td>\n",
              "      <td>1.0</td>\n",
              "      <td>Iceland PM Calls Snap Vote as Pedophile Furor ...</td>\n",
              "      <td>Coalition</td>\n",
              "      <td>5.000000</td>\n",
              "      <td>&lt;1.5</td>\n",
              "      <td>11</td>\n",
              "      <td>60</td>\n",
              "      <td>1</td>\n",
              "    </tr>\n",
              "    <tr>\n",
              "      <th>3</th>\n",
              "      <td>76</td>\n",
              "      <td>In an apparent first , Iran and Israel &lt;engage...</td>\n",
              "      <td>slap</td>\n",
              "      <td>20000</td>\n",
              "      <td>0.4</td>\n",
              "      <td>In an apparent first , Iran and Israel slap ea...</td>\n",
              "      <td>engage</td>\n",
              "      <td>4.500000</td>\n",
              "      <td>&lt;0.5</td>\n",
              "      <td>12</td>\n",
              "      <td>65</td>\n",
              "      <td>4</td>\n",
              "    </tr>\n",
              "    <tr>\n",
              "      <th>4</th>\n",
              "      <td>6164</td>\n",
              "      <td>Trump was told weeks ago that Flynn misled &lt;Vi...</td>\n",
              "      <td>school</td>\n",
              "      <td>0</td>\n",
              "      <td>0.0</td>\n",
              "      <td>Trump was told weeks ago that Flynn misled sch...</td>\n",
              "      <td>Vice</td>\n",
              "      <td>4.636364</td>\n",
              "      <td>&lt;0.5</td>\n",
              "      <td>11</td>\n",
              "      <td>61</td>\n",
              "      <td>2</td>\n",
              "    </tr>\n",
              "  </tbody>\n",
              "</table>\n",
              "</div>"
            ],
            "text/plain": [
              "      id  ... numStopWords\n",
              "0  14530  ...            5\n",
              "1  13034  ...            4\n",
              "2   8731  ...            1\n",
              "3     76  ...            4\n",
              "4   6164  ...            2\n",
              "\n",
              "[5 rows x 12 columns]"
            ]
          },
          "metadata": {
            "tags": []
          },
          "execution_count": 212
        }
      ]
    },
    {
      "cell_type": "code",
      "metadata": {
        "colab": {
          "base_uri": "https://localhost:8080/",
          "height": 644
        },
        "id": "BhGhy55A20zb",
        "outputId": "89296be3-c17e-4718-b23e-963e5138be4f"
      },
      "source": [
        "new_bins = np.arange(-0.1, 3, 0.5)\n",
        "print(\"New Bins: {}\".format(new_bins))\n",
        "train_df['gradeCategory'] = pd.cut(train_df['meanGrade'], bins=new_bins, labels=[\"<0.5\", \"<1.0\", \"<1.5\", \"<2.0\", \"<2.5\", \"<3.0\"])\n",
        "train_df.head()"
      ],
      "execution_count": 211,
      "outputs": [
        {
          "output_type": "stream",
          "text": [
            "New Bins: [-0.1  0.4  0.9  1.4  1.9  2.4  2.9]\n"
          ],
          "name": "stdout"
        },
        {
          "output_type": "execute_result",
          "data": {
            "text/html": [
              "<div>\n",
              "<style scoped>\n",
              "    .dataframe tbody tr th:only-of-type {\n",
              "        vertical-align: middle;\n",
              "    }\n",
              "\n",
              "    .dataframe tbody tr th {\n",
              "        vertical-align: top;\n",
              "    }\n",
              "\n",
              "    .dataframe thead th {\n",
              "        text-align: right;\n",
              "    }\n",
              "</style>\n",
              "<table border=\"1\" class=\"dataframe\">\n",
              "  <thead>\n",
              "    <tr style=\"text-align: right;\">\n",
              "      <th></th>\n",
              "      <th>id</th>\n",
              "      <th>original</th>\n",
              "      <th>edit</th>\n",
              "      <th>grades</th>\n",
              "      <th>meanGrade</th>\n",
              "      <th>editedSentence</th>\n",
              "      <th>replaceWord</th>\n",
              "      <th>avgWordLength</th>\n",
              "      <th>gradeCategory</th>\n",
              "      <th>wordCounts</th>\n",
              "      <th>charCounts</th>\n",
              "      <th>numStopWords</th>\n",
              "    </tr>\n",
              "  </thead>\n",
              "  <tbody>\n",
              "    <tr>\n",
              "      <th>0</th>\n",
              "      <td>14530</td>\n",
              "      <td>France is ‘ hunting down its citizens who join...</td>\n",
              "      <td>twins</td>\n",
              "      <td>10000</td>\n",
              "      <td>0.2</td>\n",
              "      <td>France is ‘ hunting down its citizens who join...</td>\n",
              "      <td>Isis</td>\n",
              "      <td>4.266667</td>\n",
              "      <td>&lt;0.5</td>\n",
              "      <td>15</td>\n",
              "      <td>78</td>\n",
              "      <td>5</td>\n",
              "    </tr>\n",
              "    <tr>\n",
              "      <th>1</th>\n",
              "      <td>13034</td>\n",
              "      <td>Pentagon claims 2,000 % increase in Russian tr...</td>\n",
              "      <td>bowling</td>\n",
              "      <td>33110</td>\n",
              "      <td>1.6</td>\n",
              "      <td>Pentagon claims 2,000 % increase in Russian tr...</td>\n",
              "      <td>Syria</td>\n",
              "      <td>4.705882</td>\n",
              "      <td>&lt;2.0</td>\n",
              "      <td>17</td>\n",
              "      <td>96</td>\n",
              "      <td>4</td>\n",
              "    </tr>\n",
              "    <tr>\n",
              "      <th>2</th>\n",
              "      <td>8731</td>\n",
              "      <td>Iceland PM Calls Snap Vote as Pedophile Furor ...</td>\n",
              "      <td>party</td>\n",
              "      <td>22100</td>\n",
              "      <td>1.0</td>\n",
              "      <td>Iceland PM Calls Snap Vote as Pedophile Furor ...</td>\n",
              "      <td>Coalition</td>\n",
              "      <td>5.000000</td>\n",
              "      <td>&lt;1.5</td>\n",
              "      <td>11</td>\n",
              "      <td>60</td>\n",
              "      <td>1</td>\n",
              "    </tr>\n",
              "    <tr>\n",
              "      <th>3</th>\n",
              "      <td>76</td>\n",
              "      <td>In an apparent first , Iran and Israel &lt;engage...</td>\n",
              "      <td>slap</td>\n",
              "      <td>20000</td>\n",
              "      <td>0.4</td>\n",
              "      <td>In an apparent first , Iran and Israel slap ea...</td>\n",
              "      <td>engage</td>\n",
              "      <td>4.500000</td>\n",
              "      <td>&lt;0.5</td>\n",
              "      <td>12</td>\n",
              "      <td>65</td>\n",
              "      <td>4</td>\n",
              "    </tr>\n",
              "    <tr>\n",
              "      <th>4</th>\n",
              "      <td>6164</td>\n",
              "      <td>Trump was told weeks ago that Flynn misled &lt;Vi...</td>\n",
              "      <td>school</td>\n",
              "      <td>0</td>\n",
              "      <td>0.0</td>\n",
              "      <td>Trump was told weeks ago that Flynn misled sch...</td>\n",
              "      <td>Vice</td>\n",
              "      <td>4.636364</td>\n",
              "      <td>&lt;0.5</td>\n",
              "      <td>11</td>\n",
              "      <td>61</td>\n",
              "      <td>2</td>\n",
              "    </tr>\n",
              "  </tbody>\n",
              "</table>\n",
              "</div>"
            ],
            "text/plain": [
              "      id  ... numStopWords\n",
              "0  14530  ...            5\n",
              "1  13034  ...            4\n",
              "2   8731  ...            1\n",
              "3     76  ...            4\n",
              "4   6164  ...            2\n",
              "\n",
              "[5 rows x 12 columns]"
            ]
          },
          "metadata": {
            "tags": []
          },
          "execution_count": 211
        }
      ]
    },
    {
      "cell_type": "code",
      "metadata": {
        "colab": {
          "base_uri": "https://localhost:8080/",
          "height": 268
        },
        "id": "lU9d0V282dMJ",
        "outputId": "65681e1c-e357-4560-8949-e7023270e930"
      },
      "source": [
        "train_df.groupby(['gradeCategory']).mean()"
      ],
      "execution_count": 182,
      "outputs": [
        {
          "output_type": "execute_result",
          "data": {
            "text/html": [
              "<div>\n",
              "<style scoped>\n",
              "    .dataframe tbody tr th:only-of-type {\n",
              "        vertical-align: middle;\n",
              "    }\n",
              "\n",
              "    .dataframe tbody tr th {\n",
              "        vertical-align: top;\n",
              "    }\n",
              "\n",
              "    .dataframe thead th {\n",
              "        text-align: right;\n",
              "    }\n",
              "</style>\n",
              "<table border=\"1\" class=\"dataframe\">\n",
              "  <thead>\n",
              "    <tr style=\"text-align: right;\">\n",
              "      <th></th>\n",
              "      <th>id</th>\n",
              "      <th>grades</th>\n",
              "      <th>meanGrade</th>\n",
              "      <th>avgWordLength</th>\n",
              "    </tr>\n",
              "    <tr>\n",
              "      <th>gradeCategory</th>\n",
              "      <th></th>\n",
              "      <th></th>\n",
              "      <th></th>\n",
              "      <th></th>\n",
              "    </tr>\n",
              "  </thead>\n",
              "  <tbody>\n",
              "    <tr>\n",
              "      <th>&lt;0.5</th>\n",
              "      <td>7592.063846</td>\n",
              "      <td>6.261905e+06</td>\n",
              "      <td>0.245280</td>\n",
              "      <td>4.997989</td>\n",
              "    </tr>\n",
              "    <tr>\n",
              "      <th>&lt;1.0</th>\n",
              "      <td>7529.421453</td>\n",
              "      <td>1.360546e+11</td>\n",
              "      <td>0.701168</td>\n",
              "      <td>4.956630</td>\n",
              "    </tr>\n",
              "    <tr>\n",
              "      <th>&lt;1.5</th>\n",
              "      <td>7535.619032</td>\n",
              "      <td>2.170480e+11</td>\n",
              "      <td>1.177829</td>\n",
              "      <td>4.921622</td>\n",
              "    </tr>\n",
              "    <tr>\n",
              "      <th>&lt;2.0</th>\n",
              "      <td>7381.708756</td>\n",
              "      <td>3.071965e+11</td>\n",
              "      <td>1.680584</td>\n",
              "      <td>4.847710</td>\n",
              "    </tr>\n",
              "    <tr>\n",
              "      <th>&lt;2.5</th>\n",
              "      <td>7685.178819</td>\n",
              "      <td>1.157486e+12</td>\n",
              "      <td>2.125174</td>\n",
              "      <td>4.861186</td>\n",
              "    </tr>\n",
              "    <tr>\n",
              "      <th>&lt;3.0</th>\n",
              "      <td>7586.538462</td>\n",
              "      <td>1.282371e+08</td>\n",
              "      <td>2.648077</td>\n",
              "      <td>4.518674</td>\n",
              "    </tr>\n",
              "  </tbody>\n",
              "</table>\n",
              "</div>"
            ],
            "text/plain": [
              "                        id        grades  meanGrade  avgWordLength\n",
              "gradeCategory                                                     \n",
              "<0.5           7592.063846  6.261905e+06   0.245280       4.997989\n",
              "<1.0           7529.421453  1.360546e+11   0.701168       4.956630\n",
              "<1.5           7535.619032  2.170480e+11   1.177829       4.921622\n",
              "<2.0           7381.708756  3.071965e+11   1.680584       4.847710\n",
              "<2.5           7685.178819  1.157486e+12   2.125174       4.861186\n",
              "<3.0           7586.538462  1.282371e+08   2.648077       4.518674"
            ]
          },
          "metadata": {
            "tags": []
          },
          "execution_count": 182
        }
      ]
    },
    {
      "cell_type": "code",
      "metadata": {
        "colab": {
          "base_uri": "https://localhost:8080/",
          "height": 422
        },
        "id": "4xmUJ8R43yY8",
        "outputId": "98e4fd0d-d44c-4727-a10a-9a1287997283"
      },
      "source": [
        "fig, axes = plt.subplots(nrows=1, ncols=2, figsize=(15,6))\n",
        "\n",
        "train_df.groupby(['meanGrade']).mean()['avgWordLength'].plot(title=\"Average Sentence Word Length by Grade\", ylabel=\"avgWordLength\", ax=axes[0])\n",
        "train_df.groupby(['gradeCategory']).mean()['avgWordLength'].plot(title=\"Average Sentence Word Length by Grade\", ylabel=\"avgWordLength\", ax=axes[1])"
      ],
      "execution_count": 192,
      "outputs": [
        {
          "output_type": "execute_result",
          "data": {
            "text/plain": [
              "<matplotlib.axes._subplots.AxesSubplot at 0x7fc446bd9278>"
            ]
          },
          "metadata": {
            "tags": []
          },
          "execution_count": 192
        },
        {
          "output_type": "display_data",
          "data": {
            "image/png": "[encoded data removed]",
            "text/plain": [
              "<Figure size 1080x432 with 2 Axes>"
            ]
          },
          "metadata": {
            "tags": [],
            "needs_background": "light"
          }
        }
      ]
    },
    {
      "cell_type": "code",
      "metadata": {
        "colab": {
          "base_uri": "https://localhost:8080/",
          "height": 625
        },
        "id": "3BA3KL3s6wl1",
        "outputId": "f6dc27b8-89e7-4ab0-8711-b383ec1f1212"
      },
      "source": [
        "train_df['wordCounts'] = train_df['editedSentence'].apply(lambda x: len(str(x).split(\" \")))\n",
        "train_df.head()"
      ],
      "execution_count": 209,
      "outputs": [
        {
          "output_type": "execute_result",
          "data": {
            "text/html": [
              "<div>\n",
              "<style scoped>\n",
              "    .dataframe tbody tr th:only-of-type {\n",
              "        vertical-align: middle;\n",
              "    }\n",
              "\n",
              "    .dataframe tbody tr th {\n",
              "        vertical-align: top;\n",
              "    }\n",
              "\n",
              "    .dataframe thead th {\n",
              "        text-align: right;\n",
              "    }\n",
              "</style>\n",
              "<table border=\"1\" class=\"dataframe\">\n",
              "  <thead>\n",
              "    <tr style=\"text-align: right;\">\n",
              "      <th></th>\n",
              "      <th>id</th>\n",
              "      <th>original</th>\n",
              "      <th>edit</th>\n",
              "      <th>grades</th>\n",
              "      <th>meanGrade</th>\n",
              "      <th>editedSentence</th>\n",
              "      <th>replaceWord</th>\n",
              "      <th>avgWordLength</th>\n",
              "      <th>gradeCategory</th>\n",
              "      <th>wordCounts</th>\n",
              "      <th>charCounts</th>\n",
              "      <th>numStopWords</th>\n",
              "    </tr>\n",
              "  </thead>\n",
              "  <tbody>\n",
              "    <tr>\n",
              "      <th>0</th>\n",
              "      <td>14530</td>\n",
              "      <td>France is ‘ hunting down its citizens who join...</td>\n",
              "      <td>twins</td>\n",
              "      <td>10000</td>\n",
              "      <td>0.2</td>\n",
              "      <td>France is ‘ hunting down its citizens who join...</td>\n",
              "      <td>Isis</td>\n",
              "      <td>4.266667</td>\n",
              "      <td>&lt;0.5</td>\n",
              "      <td>15</td>\n",
              "      <td>78</td>\n",
              "      <td>5</td>\n",
              "    </tr>\n",
              "    <tr>\n",
              "      <th>1</th>\n",
              "      <td>13034</td>\n",
              "      <td>Pentagon claims 2,000 % increase in Russian tr...</td>\n",
              "      <td>bowling</td>\n",
              "      <td>33110</td>\n",
              "      <td>1.6</td>\n",
              "      <td>Pentagon claims 2,000 % increase in Russian tr...</td>\n",
              "      <td>Syria</td>\n",
              "      <td>4.705882</td>\n",
              "      <td>&lt;2.0</td>\n",
              "      <td>17</td>\n",
              "      <td>96</td>\n",
              "      <td>4</td>\n",
              "    </tr>\n",
              "    <tr>\n",
              "      <th>2</th>\n",
              "      <td>8731</td>\n",
              "      <td>Iceland PM Calls Snap Vote as Pedophile Furor ...</td>\n",
              "      <td>party</td>\n",
              "      <td>22100</td>\n",
              "      <td>1.0</td>\n",
              "      <td>Iceland PM Calls Snap Vote as Pedophile Furor ...</td>\n",
              "      <td>Coalition</td>\n",
              "      <td>5.000000</td>\n",
              "      <td>&lt;1.5</td>\n",
              "      <td>11</td>\n",
              "      <td>60</td>\n",
              "      <td>1</td>\n",
              "    </tr>\n",
              "    <tr>\n",
              "      <th>3</th>\n",
              "      <td>76</td>\n",
              "      <td>In an apparent first , Iran and Israel &lt;engage...</td>\n",
              "      <td>slap</td>\n",
              "      <td>20000</td>\n",
              "      <td>0.4</td>\n",
              "      <td>In an apparent first , Iran and Israel slap ea...</td>\n",
              "      <td>engage</td>\n",
              "      <td>4.500000</td>\n",
              "      <td>&lt;0.5</td>\n",
              "      <td>12</td>\n",
              "      <td>65</td>\n",
              "      <td>4</td>\n",
              "    </tr>\n",
              "    <tr>\n",
              "      <th>4</th>\n",
              "      <td>6164</td>\n",
              "      <td>Trump was told weeks ago that Flynn misled &lt;Vi...</td>\n",
              "      <td>school</td>\n",
              "      <td>0</td>\n",
              "      <td>0.0</td>\n",
              "      <td>Trump was told weeks ago that Flynn misled sch...</td>\n",
              "      <td>Vice</td>\n",
              "      <td>4.636364</td>\n",
              "      <td>&lt;0.5</td>\n",
              "      <td>11</td>\n",
              "      <td>61</td>\n",
              "      <td>2</td>\n",
              "    </tr>\n",
              "  </tbody>\n",
              "</table>\n",
              "</div>"
            ],
            "text/plain": [
              "      id  ... numStopWords\n",
              "0  14530  ...            5\n",
              "1  13034  ...            4\n",
              "2   8731  ...            1\n",
              "3     76  ...            4\n",
              "4   6164  ...            2\n",
              "\n",
              "[5 rows x 12 columns]"
            ]
          },
          "metadata": {
            "tags": []
          },
          "execution_count": 209
        }
      ]
    },
    {
      "cell_type": "code",
      "metadata": {
        "colab": {
          "base_uri": "https://localhost:8080/",
          "height": 422
        },
        "id": "pRJCCfAs8FWi",
        "outputId": "d2848494-80eb-401e-afb3-19d7b9352f5b"
      },
      "source": [
        "fig, axes = plt.subplots(nrows=1, ncols=2, figsize=(15,6))\n",
        "\n",
        "train_df.groupby(['meanGrade']).mean()['wordCounts'].plot(title=\"Average Sentence Length by Grade\", ylabel=\"wordCounts\", ax=axes[0])\n",
        "train_df.groupby(['gradeCategory']).mean()['wordCounts'].plot(title=\"Average Sentence Length by Grade\", ylabel=\"wordCounts\", ax=axes[1])"
      ],
      "execution_count": 197,
      "outputs": [
        {
          "output_type": "execute_result",
          "data": {
            "text/plain": [
              "<matplotlib.axes._subplots.AxesSubplot at 0x7fc446baf048>"
            ]
          },
          "metadata": {
            "tags": []
          },
          "execution_count": 197
        },
        {
          "output_type": "display_data",
          "data": {
            "image/png": "[encoded data removed]",
            "text/plain": [
              "<Figure size 1080x432 with 2 Axes>"
            ]
          },
          "metadata": {
            "tags": [],
            "needs_background": "light"
          }
        }
      ]
    },
    {
      "cell_type": "code",
      "metadata": {
        "colab": {
          "base_uri": "https://localhost:8080/",
          "height": 625
        },
        "id": "yCzJU0yI8Xb4",
        "outputId": "979a828a-87d5-44e4-bcc8-86d4c0b05087"
      },
      "source": [
        "train_df['charCounts'] = train_df['editedSentence'].str.len()  # This also includes spaces.\n",
        "train_df.head()"
      ],
      "execution_count": 208,
      "outputs": [
        {
          "output_type": "execute_result",
          "data": {
            "text/html": [
              "<div>\n",
              "<style scoped>\n",
              "    .dataframe tbody tr th:only-of-type {\n",
              "        vertical-align: middle;\n",
              "    }\n",
              "\n",
              "    .dataframe tbody tr th {\n",
              "        vertical-align: top;\n",
              "    }\n",
              "\n",
              "    .dataframe thead th {\n",
              "        text-align: right;\n",
              "    }\n",
              "</style>\n",
              "<table border=\"1\" class=\"dataframe\">\n",
              "  <thead>\n",
              "    <tr style=\"text-align: right;\">\n",
              "      <th></th>\n",
              "      <th>id</th>\n",
              "      <th>original</th>\n",
              "      <th>edit</th>\n",
              "      <th>grades</th>\n",
              "      <th>meanGrade</th>\n",
              "      <th>editedSentence</th>\n",
              "      <th>replaceWord</th>\n",
              "      <th>avgWordLength</th>\n",
              "      <th>gradeCategory</th>\n",
              "      <th>wordCounts</th>\n",
              "      <th>charCounts</th>\n",
              "      <th>numStopWords</th>\n",
              "    </tr>\n",
              "  </thead>\n",
              "  <tbody>\n",
              "    <tr>\n",
              "      <th>0</th>\n",
              "      <td>14530</td>\n",
              "      <td>France is ‘ hunting down its citizens who join...</td>\n",
              "      <td>twins</td>\n",
              "      <td>10000</td>\n",
              "      <td>0.2</td>\n",
              "      <td>France is ‘ hunting down its citizens who join...</td>\n",
              "      <td>Isis</td>\n",
              "      <td>4.266667</td>\n",
              "      <td>&lt;0.5</td>\n",
              "      <td>15</td>\n",
              "      <td>78</td>\n",
              "      <td>5</td>\n",
              "    </tr>\n",
              "    <tr>\n",
              "      <th>1</th>\n",
              "      <td>13034</td>\n",
              "      <td>Pentagon claims 2,000 % increase in Russian tr...</td>\n",
              "      <td>bowling</td>\n",
              "      <td>33110</td>\n",
              "      <td>1.6</td>\n",
              "      <td>Pentagon claims 2,000 % increase in Russian tr...</td>\n",
              "      <td>Syria</td>\n",
              "      <td>4.705882</td>\n",
              "      <td>&lt;2.0</td>\n",
              "      <td>17</td>\n",
              "      <td>96</td>\n",
              "      <td>4</td>\n",
              "    </tr>\n",
              "    <tr>\n",
              "      <th>2</th>\n",
              "      <td>8731</td>\n",
              "      <td>Iceland PM Calls Snap Vote as Pedophile Furor ...</td>\n",
              "      <td>party</td>\n",
              "      <td>22100</td>\n",
              "      <td>1.0</td>\n",
              "      <td>Iceland PM Calls Snap Vote as Pedophile Furor ...</td>\n",
              "      <td>Coalition</td>\n",
              "      <td>5.000000</td>\n",
              "      <td>&lt;1.5</td>\n",
              "      <td>11</td>\n",
              "      <td>60</td>\n",
              "      <td>1</td>\n",
              "    </tr>\n",
              "    <tr>\n",
              "      <th>3</th>\n",
              "      <td>76</td>\n",
              "      <td>In an apparent first , Iran and Israel &lt;engage...</td>\n",
              "      <td>slap</td>\n",
              "      <td>20000</td>\n",
              "      <td>0.4</td>\n",
              "      <td>In an apparent first , Iran and Israel slap ea...</td>\n",
              "      <td>engage</td>\n",
              "      <td>4.500000</td>\n",
              "      <td>&lt;0.5</td>\n",
              "      <td>12</td>\n",
              "      <td>65</td>\n",
              "      <td>4</td>\n",
              "    </tr>\n",
              "    <tr>\n",
              "      <th>4</th>\n",
              "      <td>6164</td>\n",
              "      <td>Trump was told weeks ago that Flynn misled &lt;Vi...</td>\n",
              "      <td>school</td>\n",
              "      <td>0</td>\n",
              "      <td>0.0</td>\n",
              "      <td>Trump was told weeks ago that Flynn misled sch...</td>\n",
              "      <td>Vice</td>\n",
              "      <td>4.636364</td>\n",
              "      <td>&lt;0.5</td>\n",
              "      <td>11</td>\n",
              "      <td>61</td>\n",
              "      <td>2</td>\n",
              "    </tr>\n",
              "  </tbody>\n",
              "</table>\n",
              "</div>"
            ],
            "text/plain": [
              "      id  ... numStopWords\n",
              "0  14530  ...            5\n",
              "1  13034  ...            4\n",
              "2   8731  ...            1\n",
              "3     76  ...            4\n",
              "4   6164  ...            2\n",
              "\n",
              "[5 rows x 12 columns]"
            ]
          },
          "metadata": {
            "tags": []
          },
          "execution_count": 208
        }
      ]
    },
    {
      "cell_type": "code",
      "metadata": {
        "colab": {
          "base_uri": "https://localhost:8080/",
          "height": 422
        },
        "id": "adsB2bp58voM",
        "outputId": "816a5b12-90ff-4479-f269-bb1c8c8c82bd"
      },
      "source": [
        "fig, axes = plt.subplots(nrows=1, ncols=2, figsize=(15,6))\n",
        "\n",
        "train_df.groupby(['meanGrade']).mean()['charCounts'].plot(title=\"Average Sentence Char Count by Grade\", ylabel=\"charCounts\", ax=axes[0])\n",
        "train_df.groupby(['gradeCategory']).mean()['charCounts'].plot(title=\"Average Sentence Char Count by Grade\", ylabel=\"charCounts\", ax=axes[1])"
      ],
      "execution_count": 199,
      "outputs": [
        {
          "output_type": "execute_result",
          "data": {
            "text/plain": [
              "<matplotlib.axes._subplots.AxesSubplot at 0x7fc446a010b8>"
            ]
          },
          "metadata": {
            "tags": []
          },
          "execution_count": 199
        },
        {
          "output_type": "display_data",
          "data": {
            "image/png": "[encoded data removed]",
            "text/plain": [
              "<Figure size 1080x432 with 2 Axes>"
            ]
          },
          "metadata": {
            "tags": [],
            "needs_background": "light"
          }
        }
      ]
    },
    {
      "cell_type": "markdown",
      "metadata": {
        "id": "FVIEwyBV9IIi"
      },
      "source": [
        "### Stop word analysis"
      ]
    },
    {
      "cell_type": "code",
      "metadata": {
        "id": "RjiH_6bx88OK"
      },
      "source": [
        "from nltk.corpus import stopwords\n",
        "stop = stopwords.words('english')"
      ],
      "execution_count": 202,
      "outputs": []
    },
    {
      "cell_type": "code",
      "metadata": {
        "colab": {
          "base_uri": "https://localhost:8080/",
          "height": 625
        },
        "id": "RnE_EqCF9KmU",
        "outputId": "00938a01-5d9d-4c7e-e058-f16128a87059"
      },
      "source": [
        "train_df['numStopWords'] = train_df['editedSentence'].apply(lambda x: len([x for x in x.split() if x in stop]))\n",
        "train_df.head()"
      ],
      "execution_count": 207,
      "outputs": [
        {
          "output_type": "execute_result",
          "data": {
            "text/html": [
              "<div>\n",
              "<style scoped>\n",
              "    .dataframe tbody tr th:only-of-type {\n",
              "        vertical-align: middle;\n",
              "    }\n",
              "\n",
              "    .dataframe tbody tr th {\n",
              "        vertical-align: top;\n",
              "    }\n",
              "\n",
              "    .dataframe thead th {\n",
              "        text-align: right;\n",
              "    }\n",
              "</style>\n",
              "<table border=\"1\" class=\"dataframe\">\n",
              "  <thead>\n",
              "    <tr style=\"text-align: right;\">\n",
              "      <th></th>\n",
              "      <th>id</th>\n",
              "      <th>original</th>\n",
              "      <th>edit</th>\n",
              "      <th>grades</th>\n",
              "      <th>meanGrade</th>\n",
              "      <th>editedSentence</th>\n",
              "      <th>replaceWord</th>\n",
              "      <th>avgWordLength</th>\n",
              "      <th>gradeCategory</th>\n",
              "      <th>wordCounts</th>\n",
              "      <th>charCounts</th>\n",
              "      <th>numStopWords</th>\n",
              "    </tr>\n",
              "  </thead>\n",
              "  <tbody>\n",
              "    <tr>\n",
              "      <th>0</th>\n",
              "      <td>14530</td>\n",
              "      <td>France is ‘ hunting down its citizens who join...</td>\n",
              "      <td>twins</td>\n",
              "      <td>10000</td>\n",
              "      <td>0.2</td>\n",
              "      <td>France is ‘ hunting down its citizens who join...</td>\n",
              "      <td>Isis</td>\n",
              "      <td>4.266667</td>\n",
              "      <td>&lt;0.5</td>\n",
              "      <td>15</td>\n",
              "      <td>78</td>\n",
              "      <td>5</td>\n",
              "    </tr>\n",
              "    <tr>\n",
              "      <th>1</th>\n",
              "      <td>13034</td>\n",
              "      <td>Pentagon claims 2,000 % increase in Russian tr...</td>\n",
              "      <td>bowling</td>\n",
              "      <td>33110</td>\n",
              "      <td>1.6</td>\n",
              "      <td>Pentagon claims 2,000 % increase in Russian tr...</td>\n",
              "      <td>Syria</td>\n",
              "      <td>4.705882</td>\n",
              "      <td>&lt;2.0</td>\n",
              "      <td>17</td>\n",
              "      <td>96</td>\n",
              "      <td>4</td>\n",
              "    </tr>\n",
              "    <tr>\n",
              "      <th>2</th>\n",
              "      <td>8731</td>\n",
              "      <td>Iceland PM Calls Snap Vote as Pedophile Furor ...</td>\n",
              "      <td>party</td>\n",
              "      <td>22100</td>\n",
              "      <td>1.0</td>\n",
              "      <td>Iceland PM Calls Snap Vote as Pedophile Furor ...</td>\n",
              "      <td>Coalition</td>\n",
              "      <td>5.000000</td>\n",
              "      <td>&lt;1.5</td>\n",
              "      <td>11</td>\n",
              "      <td>60</td>\n",
              "      <td>1</td>\n",
              "    </tr>\n",
              "    <tr>\n",
              "      <th>3</th>\n",
              "      <td>76</td>\n",
              "      <td>In an apparent first , Iran and Israel &lt;engage...</td>\n",
              "      <td>slap</td>\n",
              "      <td>20000</td>\n",
              "      <td>0.4</td>\n",
              "      <td>In an apparent first , Iran and Israel slap ea...</td>\n",
              "      <td>engage</td>\n",
              "      <td>4.500000</td>\n",
              "      <td>&lt;0.5</td>\n",
              "      <td>12</td>\n",
              "      <td>65</td>\n",
              "      <td>4</td>\n",
              "    </tr>\n",
              "    <tr>\n",
              "      <th>4</th>\n",
              "      <td>6164</td>\n",
              "      <td>Trump was told weeks ago that Flynn misled &lt;Vi...</td>\n",
              "      <td>school</td>\n",
              "      <td>0</td>\n",
              "      <td>0.0</td>\n",
              "      <td>Trump was told weeks ago that Flynn misled sch...</td>\n",
              "      <td>Vice</td>\n",
              "      <td>4.636364</td>\n",
              "      <td>&lt;0.5</td>\n",
              "      <td>11</td>\n",
              "      <td>61</td>\n",
              "      <td>2</td>\n",
              "    </tr>\n",
              "  </tbody>\n",
              "</table>\n",
              "</div>"
            ],
            "text/plain": [
              "      id  ... numStopWords\n",
              "0  14530  ...            5\n",
              "1  13034  ...            4\n",
              "2   8731  ...            1\n",
              "3     76  ...            4\n",
              "4   6164  ...            2\n",
              "\n",
              "[5 rows x 12 columns]"
            ]
          },
          "metadata": {
            "tags": []
          },
          "execution_count": 207
        }
      ]
    },
    {
      "cell_type": "code",
      "metadata": {
        "colab": {
          "base_uri": "https://localhost:8080/",
          "height": 422
        },
        "id": "GO-osOfP9Wcx",
        "outputId": "fcce6a8a-4229-4fd7-ad7e-d061b5aadaf9"
      },
      "source": [
        "fig, axes = plt.subplots(nrows=1, ncols=2, figsize=(15,6))\n",
        "\n",
        "train_df.groupby(['meanGrade']).mean()['numStopWords'].plot(title=\"Average numStopWords by Grade\", ylabel=\"numStopWords\", ax=axes[0])\n",
        "train_df.groupby(['gradeCategory']).mean()['numStopWords'].plot(title=\"Average numStopWords by Grade\", ylabel=\"numStopWords\", ax=axes[1])"
      ],
      "execution_count": 206,
      "outputs": [
        {
          "output_type": "execute_result",
          "data": {
            "text/plain": [
              "<matplotlib.axes._subplots.AxesSubplot at 0x7fc4426fc4e0>"
            ]
          },
          "metadata": {
            "tags": []
          },
          "execution_count": 206
        },
        {
          "output_type": "display_data",
          "data": {
            "image/png": "[encoded data removed]",
            "text/plain": [
              "<Figure size 1080x432 with 2 Axes>"
            ]
          },
          "metadata": {
            "tags": [],
            "needs_background": "light"
          }
        }
      ]
    },
    {
      "cell_type": "markdown",
      "metadata": {
        "id": "sMm5tCca98AF"
      },
      "source": [
        "### Special characters"
      ]
    },
    {
      "cell_type": "code",
      "metadata": {
        "id": "um-7-lFG9joj"
      },
      "source": [
        "# Number of sentences with hashtags.\n",
        "train_df['editedSentence'].apply(lambda x: len([x for x in x.split() if x.startswith('#')])).value_counts()\n",
        "train_df['numHashtags'] = train_df['editedSentence'].apply(lambda x: len([x for x in x.split() if x.startswith('#')]))"
      ],
      "execution_count": 223,
      "outputs": []
    },
    {
      "cell_type": "code",
      "metadata": {
        "id": "kpND2pzD-CGU"
      },
      "source": [
        "# Number of sentences with digits.\n",
        "train_df['editedSentence'].apply(lambda x: len([x for x in x.split() if x.isdigit()])).value_counts()\n",
        "train_df['numDigits'] = train_df['editedSentence'].apply(lambda x: len([x for x in x.split() if x.isdigit()]))"
      ],
      "execution_count": 224,
      "outputs": []
    },
    {
      "cell_type": "code",
      "metadata": {
        "id": "Uoaa4CSF-VA2"
      },
      "source": [
        "# Number of upper case words.\n",
        "train_df['editedSentence'].apply(lambda x: len([x for x in x.split() if x.isupper()])).value_counts()\n",
        "train_df['numUpperCase'] = train_df['editedSentence'].apply(lambda x: len([x for x in x.split() if x.isupper()]))"
      ],
      "execution_count": 225,
      "outputs": []
    },
    {
      "cell_type": "code",
      "metadata": {
        "colab": {
          "base_uri": "https://localhost:8080/",
          "height": 625
        },
        "id": "cO376XTkAAgi",
        "outputId": "459c79f8-a22d-4299-902c-584c11a599c1"
      },
      "source": [
        "train_df.head()"
      ],
      "execution_count": 226,
      "outputs": [
        {
          "output_type": "execute_result",
          "data": {
            "text/html": [
              "<div>\n",
              "<style scoped>\n",
              "    .dataframe tbody tr th:only-of-type {\n",
              "        vertical-align: middle;\n",
              "    }\n",
              "\n",
              "    .dataframe tbody tr th {\n",
              "        vertical-align: top;\n",
              "    }\n",
              "\n",
              "    .dataframe thead th {\n",
              "        text-align: right;\n",
              "    }\n",
              "</style>\n",
              "<table border=\"1\" class=\"dataframe\">\n",
              "  <thead>\n",
              "    <tr style=\"text-align: right;\">\n",
              "      <th></th>\n",
              "      <th>id</th>\n",
              "      <th>original</th>\n",
              "      <th>edit</th>\n",
              "      <th>grades</th>\n",
              "      <th>meanGrade</th>\n",
              "      <th>editedSentence</th>\n",
              "      <th>replaceWord</th>\n",
              "      <th>avgWordLength</th>\n",
              "      <th>gradeCategory</th>\n",
              "      <th>wordCounts</th>\n",
              "      <th>charCounts</th>\n",
              "      <th>numStopWords</th>\n",
              "      <th>numHashtags</th>\n",
              "      <th>numDigits</th>\n",
              "      <th>numUpperCase</th>\n",
              "    </tr>\n",
              "  </thead>\n",
              "  <tbody>\n",
              "    <tr>\n",
              "      <th>0</th>\n",
              "      <td>14530</td>\n",
              "      <td>France is ‘ hunting down its citizens who join...</td>\n",
              "      <td>twins</td>\n",
              "      <td>10000</td>\n",
              "      <td>0.2</td>\n",
              "      <td>France is ‘ hunting down its citizens who join...</td>\n",
              "      <td>Isis</td>\n",
              "      <td>4.266667</td>\n",
              "      <td>&lt;0.5</td>\n",
              "      <td>15</td>\n",
              "      <td>78</td>\n",
              "      <td>5</td>\n",
              "      <td>0</td>\n",
              "      <td>0</td>\n",
              "      <td>0</td>\n",
              "    </tr>\n",
              "    <tr>\n",
              "      <th>1</th>\n",
              "      <td>13034</td>\n",
              "      <td>Pentagon claims 2,000 % increase in Russian tr...</td>\n",
              "      <td>bowling</td>\n",
              "      <td>33110</td>\n",
              "      <td>1.6</td>\n",
              "      <td>Pentagon claims 2,000 % increase in Russian tr...</td>\n",
              "      <td>Syria</td>\n",
              "      <td>4.705882</td>\n",
              "      <td>&lt;2.0</td>\n",
              "      <td>17</td>\n",
              "      <td>96</td>\n",
              "      <td>4</td>\n",
              "      <td>0</td>\n",
              "      <td>0</td>\n",
              "      <td>0</td>\n",
              "    </tr>\n",
              "    <tr>\n",
              "      <th>2</th>\n",
              "      <td>8731</td>\n",
              "      <td>Iceland PM Calls Snap Vote as Pedophile Furor ...</td>\n",
              "      <td>party</td>\n",
              "      <td>22100</td>\n",
              "      <td>1.0</td>\n",
              "      <td>Iceland PM Calls Snap Vote as Pedophile Furor ...</td>\n",
              "      <td>Coalition</td>\n",
              "      <td>5.000000</td>\n",
              "      <td>&lt;1.5</td>\n",
              "      <td>11</td>\n",
              "      <td>60</td>\n",
              "      <td>1</td>\n",
              "      <td>0</td>\n",
              "      <td>0</td>\n",
              "      <td>1</td>\n",
              "    </tr>\n",
              "    <tr>\n",
              "      <th>3</th>\n",
              "      <td>76</td>\n",
              "      <td>In an apparent first , Iran and Israel &lt;engage...</td>\n",
              "      <td>slap</td>\n",
              "      <td>20000</td>\n",
              "      <td>0.4</td>\n",
              "      <td>In an apparent first , Iran and Israel slap ea...</td>\n",
              "      <td>engage</td>\n",
              "      <td>4.500000</td>\n",
              "      <td>&lt;0.5</td>\n",
              "      <td>12</td>\n",
              "      <td>65</td>\n",
              "      <td>4</td>\n",
              "      <td>0</td>\n",
              "      <td>0</td>\n",
              "      <td>0</td>\n",
              "    </tr>\n",
              "    <tr>\n",
              "      <th>4</th>\n",
              "      <td>6164</td>\n",
              "      <td>Trump was told weeks ago that Flynn misled &lt;Vi...</td>\n",
              "      <td>school</td>\n",
              "      <td>0</td>\n",
              "      <td>0.0</td>\n",
              "      <td>Trump was told weeks ago that Flynn misled sch...</td>\n",
              "      <td>Vice</td>\n",
              "      <td>4.636364</td>\n",
              "      <td>&lt;0.5</td>\n",
              "      <td>11</td>\n",
              "      <td>61</td>\n",
              "      <td>2</td>\n",
              "      <td>0</td>\n",
              "      <td>0</td>\n",
              "      <td>0</td>\n",
              "    </tr>\n",
              "  </tbody>\n",
              "</table>\n",
              "</div>"
            ],
            "text/plain": [
              "      id  ... numUpperCase\n",
              "0  14530  ...            0\n",
              "1  13034  ...            0\n",
              "2   8731  ...            1\n",
              "3     76  ...            0\n",
              "4   6164  ...            0\n",
              "\n",
              "[5 rows x 15 columns]"
            ]
          },
          "metadata": {
            "tags": []
          },
          "execution_count": 226
        }
      ]
    },
    {
      "cell_type": "code",
      "metadata": {
        "colab": {
          "base_uri": "https://localhost:8080/",
          "height": 422
        },
        "id": "PrNTmDFlA95t",
        "outputId": "736bd0c1-acb2-4b2f-d249-93b639e1beb5"
      },
      "source": [
        "fig, axes = plt.subplots(nrows=1, ncols=2, figsize=(15,6))\n",
        "\n",
        "train_df.groupby(['meanGrade']).mean()['numHashtags'].plot(title=\"Average numHashtags by Grade\", ylabel=\"numHashtags\", ax=axes[0])\n",
        "train_df.groupby(['gradeCategory']).mean()['numHashtags'].plot(title=\"Average numHashtags by Grade\", ylabel=\"numHashtags\", ax=axes[1])"
      ],
      "execution_count": 227,
      "outputs": [
        {
          "output_type": "execute_result",
          "data": {
            "text/plain": [
              "<matplotlib.axes._subplots.AxesSubplot at 0x7fc4425a7a58>"
            ]
          },
          "metadata": {
            "tags": []
          },
          "execution_count": 227
        },
        {
          "output_type": "display_data",
          "data": {
            "image/png": "[encoded data removed]",
            "text/plain": [
              "<Figure size 1080x432 with 2 Axes>"
            ]
          },
          "metadata": {
            "tags": [],
            "needs_background": "light"
          }
        }
      ]
    },
    {
      "cell_type": "code",
      "metadata": {
        "colab": {
          "base_uri": "https://localhost:8080/",
          "height": 422
        },
        "id": "GVfc4zEYBGDX",
        "outputId": "df1bbe24-9ad2-4cca-da65-c0467f67194d"
      },
      "source": [
        "fig, axes = plt.subplots(nrows=1, ncols=2, figsize=(15,6))\n",
        "\n",
        "train_df.groupby(['meanGrade']).mean()['numDigits'].plot(title=\"Average numDigits by Grade\", ylabel=\"numDigits\", ax=axes[0])\n",
        "train_df.groupby(['gradeCategory']).mean()['numDigits'].plot(title=\"Average numDigits by Grade\", ylabel=\"numDigits\", ax=axes[1])"
      ],
      "execution_count": 228,
      "outputs": [
        {
          "output_type": "execute_result",
          "data": {
            "text/plain": [
              "<matplotlib.axes._subplots.AxesSubplot at 0x7fc4424ebef0>"
            ]
          },
          "metadata": {
            "tags": []
          },
          "execution_count": 228
        },
        {
          "output_type": "display_data",
          "data": {
            "image/png": "[encoded data removed]",
            "text/plain": [
              "<Figure size 1080x432 with 2 Axes>"
            ]
          },
          "metadata": {
            "tags": [],
            "needs_background": "light"
          }
        }
      ]
    },
    {
      "cell_type": "code",
      "metadata": {
        "colab": {
          "base_uri": "https://localhost:8080/",
          "height": 422
        },
        "id": "LrIVDkxIBMZe",
        "outputId": "5796db8d-af8e-46f6-d01e-307647f0169e"
      },
      "source": [
        "fig, axes = plt.subplots(nrows=1, ncols=2, figsize=(15,6))\n",
        "\n",
        "train_df.groupby(['meanGrade']).mean()['numUpperCase'].plot(title=\"Average numUpperCase by Grade\", ylabel=\"numUpperCase\", ax=axes[0])\n",
        "train_df.groupby(['gradeCategory']).mean()['numUpperCase'].plot(title=\"Average numUpperCase by Grade\", ylabel=\"numUpperCase\", ax=axes[1])"
      ],
      "execution_count": 229,
      "outputs": [
        {
          "output_type": "execute_result",
          "data": {
            "text/plain": [
              "<matplotlib.axes._subplots.AxesSubplot at 0x7fc442433198>"
            ]
          },
          "metadata": {
            "tags": []
          },
          "execution_count": 229
        },
        {
          "output_type": "display_data",
          "data": {
            "image/png": "[encoded data removed]",
            "text/plain": [
              "<Figure size 1080x432 with 2 Axes>"
            ]
          },
          "metadata": {
            "tags": [],
            "needs_background": "light"
          }
        }
      ]
    },
    {
      "cell_type": "markdown",
      "metadata": {
        "id": "gon2CMOnCByu"
      },
      "source": [
        "## Text preprocessing"
      ]
    },
    {
      "cell_type": "markdown",
      "metadata": {
        "id": "VZTHao-gLIuY"
      },
      "source": [
        "### Lower casing"
      ]
    },
    {
      "cell_type": "code",
      "metadata": {
        "colab": {
          "base_uri": "https://localhost:8080/",
          "height": 206
        },
        "id": "RLNp3byLBd3O",
        "outputId": "91b0c06f-9842-4e94-e20e-5116d720b12b"
      },
      "source": [
        "# Create new dataframe.\n",
        "# Convert all to lowercase.\n",
        "processed = pd.DataFrame(train_df['editedSentence'].apply(lambda x: \" \".join(x.lower() for x in x.split())))\n",
        "processed['original'] = train_df['original'].apply(lambda x: \" \".join(x.lower() for x in x.split()))\n",
        "processed.head()"
      ],
      "execution_count": 250,
      "outputs": [
        {
          "output_type": "execute_result",
          "data": {
            "text/html": [
              "<div>\n",
              "<style scoped>\n",
              "    .dataframe tbody tr th:only-of-type {\n",
              "        vertical-align: middle;\n",
              "    }\n",
              "\n",
              "    .dataframe tbody tr th {\n",
              "        vertical-align: top;\n",
              "    }\n",
              "\n",
              "    .dataframe thead th {\n",
              "        text-align: right;\n",
              "    }\n",
              "</style>\n",
              "<table border=\"1\" class=\"dataframe\">\n",
              "  <thead>\n",
              "    <tr style=\"text-align: right;\">\n",
              "      <th></th>\n",
              "      <th>editedSentence</th>\n",
              "      <th>original</th>\n",
              "    </tr>\n",
              "  </thead>\n",
              "  <tbody>\n",
              "    <tr>\n",
              "      <th>0</th>\n",
              "      <td>france is ‘ hunting down its citizens who join...</td>\n",
              "      <td>france is ‘ hunting down its citizens who join...</td>\n",
              "    </tr>\n",
              "    <tr>\n",
              "      <th>1</th>\n",
              "      <td>pentagon claims 2,000 % increase in russian tr...</td>\n",
              "      <td>pentagon claims 2,000 % increase in russian tr...</td>\n",
              "    </tr>\n",
              "    <tr>\n",
              "      <th>2</th>\n",
              "      <td>iceland pm calls snap vote as pedophile furor ...</td>\n",
              "      <td>iceland pm calls snap vote as pedophile furor ...</td>\n",
              "    </tr>\n",
              "    <tr>\n",
              "      <th>3</th>\n",
              "      <td>in an apparent first , iran and israel slap ea...</td>\n",
              "      <td>in an apparent first , iran and israel &lt;engage...</td>\n",
              "    </tr>\n",
              "    <tr>\n",
              "      <th>4</th>\n",
              "      <td>trump was told weeks ago that flynn misled sch...</td>\n",
              "      <td>trump was told weeks ago that flynn misled &lt;vi...</td>\n",
              "    </tr>\n",
              "  </tbody>\n",
              "</table>\n",
              "</div>"
            ],
            "text/plain": [
              "                                      editedSentence                                           original\n",
              "0  france is ‘ hunting down its citizens who join...  france is ‘ hunting down its citizens who join...\n",
              "1  pentagon claims 2,000 % increase in russian tr...  pentagon claims 2,000 % increase in russian tr...\n",
              "2  iceland pm calls snap vote as pedophile furor ...  iceland pm calls snap vote as pedophile furor ...\n",
              "3  in an apparent first , iran and israel slap ea...  in an apparent first , iran and israel <engage...\n",
              "4  trump was told weeks ago that flynn misled sch...  trump was told weeks ago that flynn misled <vi..."
            ]
          },
          "metadata": {
            "tags": []
          },
          "execution_count": 250
        }
      ]
    },
    {
      "cell_type": "markdown",
      "metadata": {
        "id": "KvEntc3JLJ9x"
      },
      "source": [
        "### Remove punctuation"
      ]
    },
    {
      "cell_type": "code",
      "metadata": {
        "colab": {
          "base_uri": "https://localhost:8080/",
          "height": 206
        },
        "id": "218f2OGQCj1u",
        "outputId": "7689dab6-4dad-4b13-cf14-6c0e24ded33c"
      },
      "source": [
        "# Remove punctuation.\n",
        "processed['editedSentence'] = processed['editedSentence'].str.replace('[^\\w\\s]','')\n",
        "processed['original'] = processed['original'].str.replace('[^\\w\\s]','')\n",
        "processed.head()"
      ],
      "execution_count": 251,
      "outputs": [
        {
          "output_type": "execute_result",
          "data": {
            "text/html": [
              "<div>\n",
              "<style scoped>\n",
              "    .dataframe tbody tr th:only-of-type {\n",
              "        vertical-align: middle;\n",
              "    }\n",
              "\n",
              "    .dataframe tbody tr th {\n",
              "        vertical-align: top;\n",
              "    }\n",
              "\n",
              "    .dataframe thead th {\n",
              "        text-align: right;\n",
              "    }\n",
              "</style>\n",
              "<table border=\"1\" class=\"dataframe\">\n",
              "  <thead>\n",
              "    <tr style=\"text-align: right;\">\n",
              "      <th></th>\n",
              "      <th>editedSentence</th>\n",
              "      <th>original</th>\n",
              "    </tr>\n",
              "  </thead>\n",
              "  <tbody>\n",
              "    <tr>\n",
              "      <th>0</th>\n",
              "      <td>france is  hunting down its citizens who joine...</td>\n",
              "      <td>france is  hunting down its citizens who joine...</td>\n",
              "    </tr>\n",
              "    <tr>\n",
              "      <th>1</th>\n",
              "      <td>pentagon claims 2000  increase in russian trol...</td>\n",
              "      <td>pentagon claims 2000  increase in russian trol...</td>\n",
              "    </tr>\n",
              "    <tr>\n",
              "      <th>2</th>\n",
              "      <td>iceland pm calls snap vote as pedophile furor ...</td>\n",
              "      <td>iceland pm calls snap vote as pedophile furor ...</td>\n",
              "    </tr>\n",
              "    <tr>\n",
              "      <th>3</th>\n",
              "      <td>in an apparent first  iran and israel slap eac...</td>\n",
              "      <td>in an apparent first  iran and israel engage e...</td>\n",
              "    </tr>\n",
              "    <tr>\n",
              "      <th>4</th>\n",
              "      <td>trump was told weeks ago that flynn misled sch...</td>\n",
              "      <td>trump was told weeks ago that flynn misled vic...</td>\n",
              "    </tr>\n",
              "  </tbody>\n",
              "</table>\n",
              "</div>"
            ],
            "text/plain": [
              "                                      editedSentence                                           original\n",
              "0  france is  hunting down its citizens who joine...  france is  hunting down its citizens who joine...\n",
              "1  pentagon claims 2000  increase in russian trol...  pentagon claims 2000  increase in russian trol...\n",
              "2  iceland pm calls snap vote as pedophile furor ...  iceland pm calls snap vote as pedophile furor ...\n",
              "3  in an apparent first  iran and israel slap eac...  in an apparent first  iran and israel engage e...\n",
              "4  trump was told weeks ago that flynn misled sch...  trump was told weeks ago that flynn misled vic..."
            ]
          },
          "metadata": {
            "tags": []
          },
          "execution_count": 251
        }
      ]
    },
    {
      "cell_type": "markdown",
      "metadata": {
        "id": "qKIqed0TLN2F"
      },
      "source": [
        "### Remove stop words"
      ]
    },
    {
      "cell_type": "code",
      "metadata": {
        "colab": {
          "base_uri": "https://localhost:8080/",
          "height": 206
        },
        "id": "bAemWiTGDF7a",
        "outputId": "4390996c-5767-4c3d-c55b-0684c74b80ad"
      },
      "source": [
        "# Remove stop words.\n",
        "processed['editedSentence'] = processed['editedSentence'].apply(lambda x: \" \".join(x for x in x.split() if x not in stop))\n",
        "processed['original'] = processed['original'].apply(lambda x: \" \".join(x for x in x.split() if x not in stop))\n",
        "processed.head()"
      ],
      "execution_count": 252,
      "outputs": [
        {
          "output_type": "execute_result",
          "data": {
            "text/html": [
              "<div>\n",
              "<style scoped>\n",
              "    .dataframe tbody tr th:only-of-type {\n",
              "        vertical-align: middle;\n",
              "    }\n",
              "\n",
              "    .dataframe tbody tr th {\n",
              "        vertical-align: top;\n",
              "    }\n",
              "\n",
              "    .dataframe thead th {\n",
              "        text-align: right;\n",
              "    }\n",
              "</style>\n",
              "<table border=\"1\" class=\"dataframe\">\n",
              "  <thead>\n",
              "    <tr style=\"text-align: right;\">\n",
              "      <th></th>\n",
              "      <th>editedSentence</th>\n",
              "      <th>original</th>\n",
              "    </tr>\n",
              "  </thead>\n",
              "  <tbody>\n",
              "    <tr>\n",
              "      <th>0</th>\n",
              "      <td>france hunting citizens joined twins without t...</td>\n",
              "      <td>france hunting citizens joined isis without tr...</td>\n",
              "    </tr>\n",
              "    <tr>\n",
              "      <th>1</th>\n",
              "      <td>pentagon claims 2000 increase russian trolls b...</td>\n",
              "      <td>pentagon claims 2000 increase russian trolls s...</td>\n",
              "    </tr>\n",
              "    <tr>\n",
              "      <th>2</th>\n",
              "      <td>iceland pm calls snap vote pedophile furor cra...</td>\n",
              "      <td>iceland pm calls snap vote pedophile furor cra...</td>\n",
              "    </tr>\n",
              "    <tr>\n",
              "      <th>3</th>\n",
              "      <td>apparent first iran israel slap militarily</td>\n",
              "      <td>apparent first iran israel engage militarily</td>\n",
              "    </tr>\n",
              "    <tr>\n",
              "      <th>4</th>\n",
              "      <td>trump told weeks ago flynn misled school presi...</td>\n",
              "      <td>trump told weeks ago flynn misled vice president</td>\n",
              "    </tr>\n",
              "  </tbody>\n",
              "</table>\n",
              "</div>"
            ],
            "text/plain": [
              "                                      editedSentence                                           original\n",
              "0  france hunting citizens joined twins without t...  france hunting citizens joined isis without tr...\n",
              "1  pentagon claims 2000 increase russian trolls b...  pentagon claims 2000 increase russian trolls s...\n",
              "2  iceland pm calls snap vote pedophile furor cra...  iceland pm calls snap vote pedophile furor cra...\n",
              "3         apparent first iran israel slap militarily       apparent first iran israel engage militarily\n",
              "4  trump told weeks ago flynn misled school presi...   trump told weeks ago flynn misled vice president"
            ]
          },
          "metadata": {
            "tags": []
          },
          "execution_count": 252
        }
      ]
    },
    {
      "cell_type": "markdown",
      "metadata": {
        "id": "MftqlKUMLRmI"
      },
      "source": [
        "### Word frequencies"
      ]
    },
    {
      "cell_type": "code",
      "metadata": {
        "colab": {
          "base_uri": "https://localhost:8080/"
        },
        "id": "_wUiTds4F4Lg",
        "outputId": "683fa764-228a-45df-a2d4-a6eab6a8ae0e"
      },
      "source": [
        "# Get set of replacement words.\n",
        "replacement_words = train_df['edit']\n",
        "replacement_words"
      ],
      "execution_count": 256,
      "outputs": [
        {
          "output_type": "execute_result",
          "data": {
            "text/plain": [
              "0              twins\n",
              "1            bowling\n",
              "2              party\n",
              "3               slap\n",
              "4             school\n",
              "            ...     \n",
              "9647            idea\n",
              "9648    stewardesses\n",
              "9649          raisin\n",
              "9650            cake\n",
              "9651            food\n",
              "Name: edit, Length: 9652, dtype: object"
            ]
          },
          "metadata": {
            "tags": []
          },
          "execution_count": 256
        }
      ]
    },
    {
      "cell_type": "code",
      "metadata": {
        "colab": {
          "base_uri": "https://localhost:8080/"
        },
        "id": "kQ2BsKUdDZZY",
        "outputId": "454a75f2-8328-4128-bf2d-d472613b6b94"
      },
      "source": [
        "# Find common words.\n",
        "freq = pd.Series(' '.join(processed['editedSentence']).split()).value_counts()\n",
        "top_freq = freq[:10]\n",
        "top_freq"
      ],
      "execution_count": 262,
      "outputs": [
        {
          "output_type": "execute_result",
          "data": {
            "text/plain": [
              "trump     3345\n",
              "us         758\n",
              "says       621\n",
              "house      502\n",
              "new        367\n",
              "nt         367\n",
              "donald     359\n",
              "white      348\n",
              "gop        295\n",
              "russia     292\n",
              "dtype: int64"
            ]
          },
          "metadata": {
            "tags": []
          },
          "execution_count": 262
        }
      ]
    },
    {
      "cell_type": "code",
      "metadata": {
        "colab": {
          "base_uri": "https://localhost:8080/"
        },
        "id": "mxuDcjJAFPUc",
        "outputId": "aff36ece-09c5-4719-8fe7-7fcca7c3d48c"
      },
      "source": [
        "# Find rare words.\n",
        "bottom_freq = freq[-10:]\n",
        "bottom_freq"
      ],
      "execution_count": 263,
      "outputs": [
        {
          "output_type": "execute_result",
          "data": {
            "text/plain": [
              "skyscraper    1\n",
              "assist        1\n",
              "showgirl      1\n",
              "sweeteners    1\n",
              "shelters      1\n",
              "emus          1\n",
              "sacrifices    1\n",
              "canoe         1\n",
              "saunas        1\n",
              "delights      1\n",
              "dtype: int64"
            ]
          },
          "metadata": {
            "tags": []
          },
          "execution_count": 263
        }
      ]
    },
    {
      "cell_type": "code",
      "metadata": {
        "colab": {
          "base_uri": "https://localhost:8080/"
        },
        "id": "qJPgbCSjGhgH",
        "outputId": "6826e47e-bba9-4396-c2e4-544e83dad5ed"
      },
      "source": [
        "# We cannot delete the most/least common words because they are the edited words.\n",
        "print(\"Least common words that are replacement words: {}\".format(set.intersection(set(bottom_freq.index.tolist()), set(replacement_words.values.tolist()))))\n",
        "print(\"Most common words that are replacement words: {}\".format(set.intersection(set(top_freq.index.tolist()), set(replacement_words.values.tolist()))))"
      ],
      "execution_count": 275,
      "outputs": [
        {
          "output_type": "stream",
          "text": [
            "Least common words that are replacement words: {'delights', 'shelters', 'sacrifices', 'canoe', 'saunas', 'emus', 'showgirl', 'sweeteners'}\n",
            "Most common words that are replacement words: {'house', 'trump'}\n"
          ],
          "name": "stdout"
        }
      ]
    },
    {
      "cell_type": "markdown",
      "metadata": {
        "id": "OCpHSxF0Ijg9"
      },
      "source": [
        "### Lemmatization"
      ]
    },
    {
      "cell_type": "code",
      "metadata": {
        "colab": {
          "base_uri": "https://localhost:8080/"
        },
        "id": "GCDEQb5cGUBg",
        "outputId": "d8061199-19a6-472a-82d7-f9ad842da042"
      },
      "source": [
        "from textblob import Word, TextBlob\n",
        "nltk.download('wordnet')"
      ],
      "execution_count": 293,
      "outputs": [
        {
          "output_type": "stream",
          "text": [
            "[nltk_data] Downloading package wordnet to /root/nltk_data...\n",
            "[nltk_data]   Package wordnet is already up-to-date!\n"
          ],
          "name": "stdout"
        },
        {
          "output_type": "execute_result",
          "data": {
            "text/plain": [
              "True"
            ]
          },
          "metadata": {
            "tags": []
          },
          "execution_count": 293
        }
      ]
    },
    {
      "cell_type": "code",
      "metadata": {
        "colab": {
          "base_uri": "https://localhost:8080/",
          "height": 206
        },
        "id": "W-BlDuoVImBn",
        "outputId": "7c73dbb0-7afb-4e4e-c978-3b72e5db5210"
      },
      "source": [
        "processed['editedSentence'] = processed['editedSentence'].apply(lambda x: \" \".join([Word(word).lemmatize() for word in x.split()]))\n",
        "processed['original'] = processed['original'].apply(lambda x: \" \".join([Word(word).lemmatize() for word in x.split()]))\n",
        "processed.head()"
      ],
      "execution_count": 282,
      "outputs": [
        {
          "output_type": "execute_result",
          "data": {
            "text/html": [
              "<div>\n",
              "<style scoped>\n",
              "    .dataframe tbody tr th:only-of-type {\n",
              "        vertical-align: middle;\n",
              "    }\n",
              "\n",
              "    .dataframe tbody tr th {\n",
              "        vertical-align: top;\n",
              "    }\n",
              "\n",
              "    .dataframe thead th {\n",
              "        text-align: right;\n",
              "    }\n",
              "</style>\n",
              "<table border=\"1\" class=\"dataframe\">\n",
              "  <thead>\n",
              "    <tr style=\"text-align: right;\">\n",
              "      <th></th>\n",
              "      <th>editedSentence</th>\n",
              "      <th>original</th>\n",
              "    </tr>\n",
              "  </thead>\n",
              "  <tbody>\n",
              "    <tr>\n",
              "      <th>0</th>\n",
              "      <td>france hunting citizen joined twin without tri...</td>\n",
              "      <td>france hunting citizen joined isi without tria...</td>\n",
              "    </tr>\n",
              "    <tr>\n",
              "      <th>1</th>\n",
              "      <td>pentagon claim 2000 increase russian troll bow...</td>\n",
              "      <td>pentagon claim 2000 increase russian troll syr...</td>\n",
              "    </tr>\n",
              "    <tr>\n",
              "      <th>2</th>\n",
              "      <td>iceland pm call snap vote pedophile furor cras...</td>\n",
              "      <td>iceland pm call snap vote pedophile furor cras...</td>\n",
              "    </tr>\n",
              "    <tr>\n",
              "      <th>3</th>\n",
              "      <td>apparent first iran israel slap militarily</td>\n",
              "      <td>apparent first iran israel engage militarily</td>\n",
              "    </tr>\n",
              "    <tr>\n",
              "      <th>4</th>\n",
              "      <td>trump told week ago flynn misled school president</td>\n",
              "      <td>trump told week ago flynn misled vice president</td>\n",
              "    </tr>\n",
              "  </tbody>\n",
              "</table>\n",
              "</div>"
            ],
            "text/plain": [
              "                                      editedSentence                                           original\n",
              "0  france hunting citizen joined twin without tri...  france hunting citizen joined isi without tria...\n",
              "1  pentagon claim 2000 increase russian troll bow...  pentagon claim 2000 increase russian troll syr...\n",
              "2  iceland pm call snap vote pedophile furor cras...  iceland pm call snap vote pedophile furor cras...\n",
              "3         apparent first iran israel slap militarily       apparent first iran israel engage militarily\n",
              "4  trump told week ago flynn misled school president    trump told week ago flynn misled vice president"
            ]
          },
          "metadata": {
            "tags": []
          },
          "execution_count": 282
        }
      ]
    },
    {
      "cell_type": "markdown",
      "metadata": {
        "id": "k-pgmkeiLoYr"
      },
      "source": [
        "## Feature extraction"
      ]
    },
    {
      "cell_type": "code",
      "metadata": {
        "id": "O0K6zlcLMGYm"
      },
      "source": [
        "from sklearn.feature_extraction.text import CountVectorizer, HashingVectorizer, TfidfTransformer, TfidfVectorizer"
      ],
      "execution_count": 283,
      "outputs": []
    },
    {
      "cell_type": "markdown",
      "metadata": {
        "id": "Q_mSEEGCNNzU"
      },
      "source": [
        "### TD-IDF"
      ]
    },
    {
      "cell_type": "code",
      "metadata": {
        "colab": {
          "base_uri": "https://localhost:8080/"
        },
        "id": "pMic70eYI20S",
        "outputId": "3e18a31c-dab8-4432-de88-93003f2636f1"
      },
      "source": [
        "count_vect = CountVectorizer(stop_words='english')\n",
        "train_counts = count_vect.fit_transform(processed['editedSentence'])\n",
        "transformer = TfidfTransformer().fit(train_counts)\n",
        "train_counts = transformer.transform(train_counts)\n",
        "train_counts"
      ],
      "execution_count": 417,
      "outputs": [
        {
          "output_type": "execute_result",
          "data": {
            "text/plain": [
              "<9652x8977 sparse matrix of type '<class 'numpy.float64'>'\n",
              "\twith 72252 stored elements in Compressed Sparse Row format>"
            ]
          },
          "metadata": {
            "tags": []
          },
          "execution_count": 417
        }
      ]
    },
    {
      "cell_type": "markdown",
      "metadata": {
        "id": "VJD9SJyKNQRL"
      },
      "source": [
        "### BOW"
      ]
    },
    {
      "cell_type": "code",
      "metadata": {
        "colab": {
          "base_uri": "https://localhost:8080/"
        },
        "id": "9eo2AFkSMeYP",
        "outputId": "2ef166b9-448b-4a5c-bb45-224e0958ed55"
      },
      "source": [
        "bow = CountVectorizer(max_features=1000, lowercase=True, ngram_range=(1,1),analyzer = \"word\")\n",
        "train_bow = bow.fit_transform(processed['editedSentence'])\n",
        "train_bow"
      ],
      "execution_count": 418,
      "outputs": [
        {
          "output_type": "execute_result",
          "data": {
            "text/plain": [
              "<9652x1000 sparse matrix of type '<class 'numpy.int64'>'\n",
              "\twith 44922 stored elements in Compressed Sparse Row format>"
            ]
          },
          "metadata": {
            "tags": []
          },
          "execution_count": 418
        }
      ]
    },
    {
      "cell_type": "markdown",
      "metadata": {
        "id": "vr2BGSkIOOt5"
      },
      "source": [
        "### Sentiment"
      ]
    },
    {
      "cell_type": "code",
      "metadata": {
        "colab": {
          "base_uri": "https://localhost:8080/",
          "height": 423
        },
        "id": "YLpb0ik2NTrJ",
        "outputId": "cb33e13f-a6d5-4ddb-c7bc-5a2fa56329ec"
      },
      "source": [
        "processed['sentiment'] = processed['editedSentence'].apply(lambda x: TextBlob(x).sentiment[0])\n",
        "processed['sentimentOrig'] = processed['original'].apply(lambda x: TextBlob(x).sentiment[0])\n",
        "processed"
      ],
      "execution_count": 297,
      "outputs": [
        {
          "output_type": "execute_result",
          "data": {
            "text/html": [
              "<div>\n",
              "<style scoped>\n",
              "    .dataframe tbody tr th:only-of-type {\n",
              "        vertical-align: middle;\n",
              "    }\n",
              "\n",
              "    .dataframe tbody tr th {\n",
              "        vertical-align: top;\n",
              "    }\n",
              "\n",
              "    .dataframe thead th {\n",
              "        text-align: right;\n",
              "    }\n",
              "</style>\n",
              "<table border=\"1\" class=\"dataframe\">\n",
              "  <thead>\n",
              "    <tr style=\"text-align: right;\">\n",
              "      <th></th>\n",
              "      <th>editedSentence</th>\n",
              "      <th>original</th>\n",
              "      <th>sentiment</th>\n",
              "      <th>sentimentOrig</th>\n",
              "    </tr>\n",
              "  </thead>\n",
              "  <tbody>\n",
              "    <tr>\n",
              "      <th>0</th>\n",
              "      <td>france hunting citizen joined twin without tri...</td>\n",
              "      <td>france hunting citizen joined isi without tria...</td>\n",
              "      <td>0.000000</td>\n",
              "      <td>0.000000</td>\n",
              "    </tr>\n",
              "    <tr>\n",
              "      <th>1</th>\n",
              "      <td>pentagon claim 2000 increase russian troll bow...</td>\n",
              "      <td>pentagon claim 2000 increase russian troll syr...</td>\n",
              "      <td>-0.156250</td>\n",
              "      <td>-0.156250</td>\n",
              "    </tr>\n",
              "    <tr>\n",
              "      <th>2</th>\n",
              "      <td>iceland pm call snap vote pedophile furor cras...</td>\n",
              "      <td>iceland pm call snap vote pedophile furor cras...</td>\n",
              "      <td>0.000000</td>\n",
              "      <td>0.000000</td>\n",
              "    </tr>\n",
              "    <tr>\n",
              "      <th>3</th>\n",
              "      <td>apparent first iran israel slap militarily</td>\n",
              "      <td>apparent first iran israel engage militarily</td>\n",
              "      <td>0.066667</td>\n",
              "      <td>0.066667</td>\n",
              "    </tr>\n",
              "    <tr>\n",
              "      <th>4</th>\n",
              "      <td>trump told week ago flynn misled school president</td>\n",
              "      <td>trump told week ago flynn misled vice president</td>\n",
              "      <td>0.000000</td>\n",
              "      <td>0.000000</td>\n",
              "    </tr>\n",
              "    <tr>\n",
              "      <th>...</th>\n",
              "      <td>...</td>\n",
              "      <td>...</td>\n",
              "      <td>...</td>\n",
              "      <td>...</td>\n",
              "    </tr>\n",
              "    <tr>\n",
              "      <th>9647</th>\n",
              "      <td>state official blast unprecedented dhs idea se...</td>\n",
              "      <td>state official blast unprecedented dhs move se...</td>\n",
              "      <td>0.500000</td>\n",
              "      <td>0.500000</td>\n",
              "    </tr>\n",
              "    <tr>\n",
              "      <th>9648</th>\n",
              "      <td>protester rally stewardess detained jfk airpor...</td>\n",
              "      <td>protester rally refugee detained jfk airport t...</td>\n",
              "      <td>0.000000</td>\n",
              "      <td>0.000000</td>\n",
              "    </tr>\n",
              "    <tr>\n",
              "      <th>9649</th>\n",
              "      <td>cruise line carnival corp join fight bermuda s...</td>\n",
              "      <td>cruise line carnival corp join fight bermuda s...</td>\n",
              "      <td>0.000000</td>\n",
              "      <td>0.000000</td>\n",
              "    </tr>\n",
              "    <tr>\n",
              "      <th>9650</th>\n",
              "      <td>columbia police hunt woman seen cake near univ...</td>\n",
              "      <td>columbia police hunt woman seen gun near unive...</td>\n",
              "      <td>0.100000</td>\n",
              "      <td>0.100000</td>\n",
              "    </tr>\n",
              "    <tr>\n",
              "      <th>9651</th>\n",
              "      <td>houseapproved health food bill</td>\n",
              "      <td>houseapproved health care bill</td>\n",
              "      <td>0.000000</td>\n",
              "      <td>0.000000</td>\n",
              "    </tr>\n",
              "  </tbody>\n",
              "</table>\n",
              "<p>9652 rows × 4 columns</p>\n",
              "</div>"
            ],
            "text/plain": [
              "                                         editedSentence  ... sentimentOrig\n",
              "0     france hunting citizen joined twin without tri...  ...      0.000000\n",
              "1     pentagon claim 2000 increase russian troll bow...  ...     -0.156250\n",
              "2     iceland pm call snap vote pedophile furor cras...  ...      0.000000\n",
              "3            apparent first iran israel slap militarily  ...      0.066667\n",
              "4     trump told week ago flynn misled school president  ...      0.000000\n",
              "...                                                 ...  ...           ...\n",
              "9647  state official blast unprecedented dhs idea se...  ...      0.500000\n",
              "9648  protester rally stewardess detained jfk airpor...  ...      0.000000\n",
              "9649  cruise line carnival corp join fight bermuda s...  ...      0.000000\n",
              "9650  columbia police hunt woman seen cake near univ...  ...      0.100000\n",
              "9651                     houseapproved health food bill  ...      0.000000\n",
              "\n",
              "[9652 rows x 4 columns]"
            ]
          },
          "metadata": {
            "tags": []
          },
          "execution_count": 297
        }
      ]
    },
    {
      "cell_type": "code",
      "metadata": {
        "colab": {
          "base_uri": "https://localhost:8080/",
          "height": 458
        },
        "id": "400oFlw1NamF",
        "outputId": "4c13791a-3e65-4316-b294-782382b8f2a4"
      },
      "source": [
        "processed['sentimentDiff'] = processed['sentiment'] - processed['sentimentOrig']\n",
        "processed"
      ],
      "execution_count": 300,
      "outputs": [
        {
          "output_type": "execute_result",
          "data": {
            "text/html": [
              "<div>\n",
              "<style scoped>\n",
              "    .dataframe tbody tr th:only-of-type {\n",
              "        vertical-align: middle;\n",
              "    }\n",
              "\n",
              "    .dataframe tbody tr th {\n",
              "        vertical-align: top;\n",
              "    }\n",
              "\n",
              "    .dataframe thead th {\n",
              "        text-align: right;\n",
              "    }\n",
              "</style>\n",
              "<table border=\"1\" class=\"dataframe\">\n",
              "  <thead>\n",
              "    <tr style=\"text-align: right;\">\n",
              "      <th></th>\n",
              "      <th>editedSentence</th>\n",
              "      <th>original</th>\n",
              "      <th>sentiment</th>\n",
              "      <th>sentimentOrig</th>\n",
              "      <th>sentimentDiff</th>\n",
              "    </tr>\n",
              "  </thead>\n",
              "  <tbody>\n",
              "    <tr>\n",
              "      <th>0</th>\n",
              "      <td>france hunting citizen joined twin without tri...</td>\n",
              "      <td>france hunting citizen joined isi without tria...</td>\n",
              "      <td>0.000000</td>\n",
              "      <td>0.000000</td>\n",
              "      <td>0.0</td>\n",
              "    </tr>\n",
              "    <tr>\n",
              "      <th>1</th>\n",
              "      <td>pentagon claim 2000 increase russian troll bow...</td>\n",
              "      <td>pentagon claim 2000 increase russian troll syr...</td>\n",
              "      <td>-0.156250</td>\n",
              "      <td>-0.156250</td>\n",
              "      <td>0.0</td>\n",
              "    </tr>\n",
              "    <tr>\n",
              "      <th>2</th>\n",
              "      <td>iceland pm call snap vote pedophile furor cras...</td>\n",
              "      <td>iceland pm call snap vote pedophile furor cras...</td>\n",
              "      <td>0.000000</td>\n",
              "      <td>0.000000</td>\n",
              "      <td>0.0</td>\n",
              "    </tr>\n",
              "    <tr>\n",
              "      <th>3</th>\n",
              "      <td>apparent first iran israel slap militarily</td>\n",
              "      <td>apparent first iran israel engage militarily</td>\n",
              "      <td>0.066667</td>\n",
              "      <td>0.066667</td>\n",
              "      <td>0.0</td>\n",
              "    </tr>\n",
              "    <tr>\n",
              "      <th>4</th>\n",
              "      <td>trump told week ago flynn misled school president</td>\n",
              "      <td>trump told week ago flynn misled vice president</td>\n",
              "      <td>0.000000</td>\n",
              "      <td>0.000000</td>\n",
              "      <td>0.0</td>\n",
              "    </tr>\n",
              "    <tr>\n",
              "      <th>...</th>\n",
              "      <td>...</td>\n",
              "      <td>...</td>\n",
              "      <td>...</td>\n",
              "      <td>...</td>\n",
              "      <td>...</td>\n",
              "    </tr>\n",
              "    <tr>\n",
              "      <th>9647</th>\n",
              "      <td>state official blast unprecedented dhs idea se...</td>\n",
              "      <td>state official blast unprecedented dhs move se...</td>\n",
              "      <td>0.500000</td>\n",
              "      <td>0.500000</td>\n",
              "      <td>0.0</td>\n",
              "    </tr>\n",
              "    <tr>\n",
              "      <th>9648</th>\n",
              "      <td>protester rally stewardess detained jfk airpor...</td>\n",
              "      <td>protester rally refugee detained jfk airport t...</td>\n",
              "      <td>0.000000</td>\n",
              "      <td>0.000000</td>\n",
              "      <td>0.0</td>\n",
              "    </tr>\n",
              "    <tr>\n",
              "      <th>9649</th>\n",
              "      <td>cruise line carnival corp join fight bermuda s...</td>\n",
              "      <td>cruise line carnival corp join fight bermuda s...</td>\n",
              "      <td>0.000000</td>\n",
              "      <td>0.000000</td>\n",
              "      <td>0.0</td>\n",
              "    </tr>\n",
              "    <tr>\n",
              "      <th>9650</th>\n",
              "      <td>columbia police hunt woman seen cake near univ...</td>\n",
              "      <td>columbia police hunt woman seen gun near unive...</td>\n",
              "      <td>0.100000</td>\n",
              "      <td>0.100000</td>\n",
              "      <td>0.0</td>\n",
              "    </tr>\n",
              "    <tr>\n",
              "      <th>9651</th>\n",
              "      <td>houseapproved health food bill</td>\n",
              "      <td>houseapproved health care bill</td>\n",
              "      <td>0.000000</td>\n",
              "      <td>0.000000</td>\n",
              "      <td>0.0</td>\n",
              "    </tr>\n",
              "  </tbody>\n",
              "</table>\n",
              "<p>9652 rows × 5 columns</p>\n",
              "</div>"
            ],
            "text/plain": [
              "                                         editedSentence  ... sentimentDiff\n",
              "0     france hunting citizen joined twin without tri...  ...           0.0\n",
              "1     pentagon claim 2000 increase russian troll bow...  ...           0.0\n",
              "2     iceland pm call snap vote pedophile furor cras...  ...           0.0\n",
              "3            apparent first iran israel slap militarily  ...           0.0\n",
              "4     trump told week ago flynn misled school president  ...           0.0\n",
              "...                                                 ...  ...           ...\n",
              "9647  state official blast unprecedented dhs idea se...  ...           0.0\n",
              "9648  protester rally stewardess detained jfk airpor...  ...           0.0\n",
              "9649  cruise line carnival corp join fight bermuda s...  ...           0.0\n",
              "9650  columbia police hunt woman seen cake near univ...  ...           0.0\n",
              "9651                     houseapproved health food bill  ...           0.0\n",
              "\n",
              "[9652 rows x 5 columns]"
            ]
          },
          "metadata": {
            "tags": []
          },
          "execution_count": 300
        }
      ]
    },
    {
      "cell_type": "code",
      "metadata": {
        "colab": {
          "base_uri": "https://localhost:8080/",
          "height": 1000
        },
        "id": "iTy8sMm7Opjt",
        "outputId": "64e8f7d7-82dc-45ca-9e56-e61949af6c81"
      },
      "source": [
        "# Combine dataframes\n",
        "data = pd.concat([train_df, processed], axis=1)\n",
        "data"
      ],
      "execution_count": 312,
      "outputs": [
        {
          "output_type": "execute_result",
          "data": {
            "text/html": [
              "<div>\n",
              "<style scoped>\n",
              "    .dataframe tbody tr th:only-of-type {\n",
              "        vertical-align: middle;\n",
              "    }\n",
              "\n",
              "    .dataframe tbody tr th {\n",
              "        vertical-align: top;\n",
              "    }\n",
              "\n",
              "    .dataframe thead th {\n",
              "        text-align: right;\n",
              "    }\n",
              "</style>\n",
              "<table border=\"1\" class=\"dataframe\">\n",
              "  <thead>\n",
              "    <tr style=\"text-align: right;\">\n",
              "      <th></th>\n",
              "      <th>id</th>\n",
              "      <th>original</th>\n",
              "      <th>edit</th>\n",
              "      <th>grades</th>\n",
              "      <th>meanGrade</th>\n",
              "      <th>editedSentence</th>\n",
              "      <th>replaceWord</th>\n",
              "      <th>avgWordLength</th>\n",
              "      <th>gradeCategory</th>\n",
              "      <th>wordCounts</th>\n",
              "      <th>charCounts</th>\n",
              "      <th>numStopWords</th>\n",
              "      <th>numHashtags</th>\n",
              "      <th>numDigits</th>\n",
              "      <th>numUpperCase</th>\n",
              "      <th>editedSentence</th>\n",
              "      <th>original</th>\n",
              "      <th>sentiment</th>\n",
              "      <th>sentimentOrig</th>\n",
              "      <th>sentimentDiff</th>\n",
              "    </tr>\n",
              "  </thead>\n",
              "  <tbody>\n",
              "    <tr>\n",
              "      <th>0</th>\n",
              "      <td>14530</td>\n",
              "      <td>France is ‘ hunting down its citizens who join...</td>\n",
              "      <td>twins</td>\n",
              "      <td>10000</td>\n",
              "      <td>0.2</td>\n",
              "      <td>France is ‘ hunting down its citizens who join...</td>\n",
              "      <td>Isis</td>\n",
              "      <td>4.266667</td>\n",
              "      <td>&lt;0.5</td>\n",
              "      <td>15</td>\n",
              "      <td>78</td>\n",
              "      <td>5</td>\n",
              "      <td>0</td>\n",
              "      <td>0</td>\n",
              "      <td>0</td>\n",
              "      <td>france hunting citizen joined twin without tri...</td>\n",
              "      <td>france hunting citizen joined isi without tria...</td>\n",
              "      <td>0.000000</td>\n",
              "      <td>0.000000</td>\n",
              "      <td>0.0</td>\n",
              "    </tr>\n",
              "    <tr>\n",
              "      <th>1</th>\n",
              "      <td>13034</td>\n",
              "      <td>Pentagon claims 2,000 % increase in Russian tr...</td>\n",
              "      <td>bowling</td>\n",
              "      <td>33110</td>\n",
              "      <td>1.6</td>\n",
              "      <td>Pentagon claims 2,000 % increase in Russian tr...</td>\n",
              "      <td>Syria</td>\n",
              "      <td>4.705882</td>\n",
              "      <td>&lt;2.0</td>\n",
              "      <td>17</td>\n",
              "      <td>96</td>\n",
              "      <td>4</td>\n",
              "      <td>0</td>\n",
              "      <td>0</td>\n",
              "      <td>0</td>\n",
              "      <td>pentagon claim 2000 increase russian troll bow...</td>\n",
              "      <td>pentagon claim 2000 increase russian troll syr...</td>\n",
              "      <td>-0.156250</td>\n",
              "      <td>-0.156250</td>\n",
              "      <td>0.0</td>\n",
              "    </tr>\n",
              "    <tr>\n",
              "      <th>2</th>\n",
              "      <td>8731</td>\n",
              "      <td>Iceland PM Calls Snap Vote as Pedophile Furor ...</td>\n",
              "      <td>party</td>\n",
              "      <td>22100</td>\n",
              "      <td>1.0</td>\n",
              "      <td>Iceland PM Calls Snap Vote as Pedophile Furor ...</td>\n",
              "      <td>Coalition</td>\n",
              "      <td>5.000000</td>\n",
              "      <td>&lt;1.5</td>\n",
              "      <td>11</td>\n",
              "      <td>60</td>\n",
              "      <td>1</td>\n",
              "      <td>0</td>\n",
              "      <td>0</td>\n",
              "      <td>1</td>\n",
              "      <td>iceland pm call snap vote pedophile furor cras...</td>\n",
              "      <td>iceland pm call snap vote pedophile furor cras...</td>\n",
              "      <td>0.000000</td>\n",
              "      <td>0.000000</td>\n",
              "      <td>0.0</td>\n",
              "    </tr>\n",
              "    <tr>\n",
              "      <th>3</th>\n",
              "      <td>76</td>\n",
              "      <td>In an apparent first , Iran and Israel &lt;engage...</td>\n",
              "      <td>slap</td>\n",
              "      <td>20000</td>\n",
              "      <td>0.4</td>\n",
              "      <td>In an apparent first , Iran and Israel slap ea...</td>\n",
              "      <td>engage</td>\n",
              "      <td>4.500000</td>\n",
              "      <td>&lt;0.5</td>\n",
              "      <td>12</td>\n",
              "      <td>65</td>\n",
              "      <td>4</td>\n",
              "      <td>0</td>\n",
              "      <td>0</td>\n",
              "      <td>0</td>\n",
              "      <td>apparent first iran israel slap militarily</td>\n",
              "      <td>apparent first iran israel engage militarily</td>\n",
              "      <td>0.066667</td>\n",
              "      <td>0.066667</td>\n",
              "      <td>0.0</td>\n",
              "    </tr>\n",
              "    <tr>\n",
              "      <th>4</th>\n",
              "      <td>6164</td>\n",
              "      <td>Trump was told weeks ago that Flynn misled &lt;Vi...</td>\n",
              "      <td>school</td>\n",
              "      <td>0</td>\n",
              "      <td>0.0</td>\n",
              "      <td>Trump was told weeks ago that Flynn misled sch...</td>\n",
              "      <td>Vice</td>\n",
              "      <td>4.636364</td>\n",
              "      <td>&lt;0.5</td>\n",
              "      <td>11</td>\n",
              "      <td>61</td>\n",
              "      <td>2</td>\n",
              "      <td>0</td>\n",
              "      <td>0</td>\n",
              "      <td>0</td>\n",
              "      <td>trump told week ago flynn misled school president</td>\n",
              "      <td>trump told week ago flynn misled vice president</td>\n",
              "      <td>0.000000</td>\n",
              "      <td>0.000000</td>\n",
              "      <td>0.0</td>\n",
              "    </tr>\n",
              "    <tr>\n",
              "      <th>...</th>\n",
              "      <td>...</td>\n",
              "      <td>...</td>\n",
              "      <td>...</td>\n",
              "      <td>...</td>\n",
              "      <td>...</td>\n",
              "      <td>...</td>\n",
              "      <td>...</td>\n",
              "      <td>...</td>\n",
              "      <td>...</td>\n",
              "      <td>...</td>\n",
              "      <td>...</td>\n",
              "      <td>...</td>\n",
              "      <td>...</td>\n",
              "      <td>...</td>\n",
              "      <td>...</td>\n",
              "      <td>...</td>\n",
              "      <td>...</td>\n",
              "      <td>...</td>\n",
              "      <td>...</td>\n",
              "      <td>...</td>\n",
              "    </tr>\n",
              "    <tr>\n",
              "      <th>9647</th>\n",
              "      <td>10899</td>\n",
              "      <td>State officials blast ' unprecedented ' DHS &lt;m...</td>\n",
              "      <td>idea</td>\n",
              "      <td>0</td>\n",
              "      <td>0.0</td>\n",
              "      <td>State officials blast ' unprecedented ' DHS id...</td>\n",
              "      <td>move</td>\n",
              "      <td>5.333333</td>\n",
              "      <td>&lt;0.5</td>\n",
              "      <td>12</td>\n",
              "      <td>75</td>\n",
              "      <td>1</td>\n",
              "      <td>0</td>\n",
              "      <td>0</td>\n",
              "      <td>1</td>\n",
              "      <td>state official blast unprecedented dhs idea se...</td>\n",
              "      <td>state official blast unprecedented dhs move se...</td>\n",
              "      <td>0.500000</td>\n",
              "      <td>0.500000</td>\n",
              "      <td>0.0</td>\n",
              "    </tr>\n",
              "    <tr>\n",
              "      <th>9648</th>\n",
              "      <td>1781</td>\n",
              "      <td>Protesters Rally for &lt;Refugees/&gt; Detained at J...</td>\n",
              "      <td>stewardesses</td>\n",
              "      <td>20000</td>\n",
              "      <td>0.4</td>\n",
              "      <td>Protesters Rally for stewardesses Detained at ...</td>\n",
              "      <td>Refugees</td>\n",
              "      <td>5.727273</td>\n",
              "      <td>&lt;0.5</td>\n",
              "      <td>11</td>\n",
              "      <td>73</td>\n",
              "      <td>2</td>\n",
              "      <td>0</td>\n",
              "      <td>0</td>\n",
              "      <td>1</td>\n",
              "      <td>protester rally stewardess detained jfk airpor...</td>\n",
              "      <td>protester rally refugee detained jfk airport t...</td>\n",
              "      <td>0.000000</td>\n",
              "      <td>0.000000</td>\n",
              "      <td>0.0</td>\n",
              "    </tr>\n",
              "    <tr>\n",
              "      <th>9649</th>\n",
              "      <td>5628</td>\n",
              "      <td>Cruise line Carnival Corp. joins the fight aga...</td>\n",
              "      <td>raisin</td>\n",
              "      <td>21000</td>\n",
              "      <td>0.6</td>\n",
              "      <td>Cruise line Carnival Corp. joins the fight aga...</td>\n",
              "      <td>marriage</td>\n",
              "      <td>5.307692</td>\n",
              "      <td>&lt;1.0</td>\n",
              "      <td>13</td>\n",
              "      <td>81</td>\n",
              "      <td>2</td>\n",
              "      <td>0</td>\n",
              "      <td>0</td>\n",
              "      <td>0</td>\n",
              "      <td>cruise line carnival corp join fight bermuda s...</td>\n",
              "      <td>cruise line carnival corp join fight bermuda s...</td>\n",
              "      <td>0.000000</td>\n",
              "      <td>0.000000</td>\n",
              "      <td>0.0</td>\n",
              "    </tr>\n",
              "    <tr>\n",
              "      <th>9650</th>\n",
              "      <td>14483</td>\n",
              "      <td>Columbia police hunt woman seen with &lt;gun/&gt; ne...</td>\n",
              "      <td>cake</td>\n",
              "      <td>32200</td>\n",
              "      <td>1.4</td>\n",
              "      <td>Columbia police hunt woman seen with cake near...</td>\n",
              "      <td>gun</td>\n",
              "      <td>5.416667</td>\n",
              "      <td>&lt;1.5</td>\n",
              "      <td>12</td>\n",
              "      <td>76</td>\n",
              "      <td>2</td>\n",
              "      <td>0</td>\n",
              "      <td>0</td>\n",
              "      <td>0</td>\n",
              "      <td>columbia police hunt woman seen cake near univ...</td>\n",
              "      <td>columbia police hunt woman seen gun near unive...</td>\n",
              "      <td>0.100000</td>\n",
              "      <td>0.100000</td>\n",
              "      <td>0.0</td>\n",
              "    </tr>\n",
              "    <tr>\n",
              "      <th>9651</th>\n",
              "      <td>5255</td>\n",
              "      <td>Here 's What 's In The House-Approved Health &lt;...</td>\n",
              "      <td>food</td>\n",
              "      <td>11000</td>\n",
              "      <td>0.4</td>\n",
              "      <td>Here 's What 's In The House-Approved Health f...</td>\n",
              "      <td>Care</td>\n",
              "      <td>4.500000</td>\n",
              "      <td>&lt;0.5</td>\n",
              "      <td>10</td>\n",
              "      <td>54</td>\n",
              "      <td>0</td>\n",
              "      <td>0</td>\n",
              "      <td>0</td>\n",
              "      <td>0</td>\n",
              "      <td>houseapproved health food bill</td>\n",
              "      <td>houseapproved health care bill</td>\n",
              "      <td>0.000000</td>\n",
              "      <td>0.000000</td>\n",
              "      <td>0.0</td>\n",
              "    </tr>\n",
              "  </tbody>\n",
              "</table>\n",
              "<p>9652 rows × 20 columns</p>\n",
              "</div>"
            ],
            "text/plain": [
              "         id  ... sentimentDiff\n",
              "0     14530  ...           0.0\n",
              "1     13034  ...           0.0\n",
              "2      8731  ...           0.0\n",
              "3        76  ...           0.0\n",
              "4      6164  ...           0.0\n",
              "...     ...  ...           ...\n",
              "9647  10899  ...           0.0\n",
              "9648   1781  ...           0.0\n",
              "9649   5628  ...           0.0\n",
              "9650  14483  ...           0.0\n",
              "9651   5255  ...           0.0\n",
              "\n",
              "[9652 rows x 20 columns]"
            ]
          },
          "metadata": {
            "tags": []
          },
          "execution_count": 312
        }
      ]
    },
    {
      "cell_type": "code",
      "metadata": {
        "colab": {
          "base_uri": "https://localhost:8080/",
          "height": 422
        },
        "id": "ashjT0jGPD-v",
        "outputId": "22a1ba78-59b2-4978-e0b7-32664784a70e"
      },
      "source": [
        "fig, axes = plt.subplots(nrows=1, ncols=2, figsize=(15,6))\n",
        "\n",
        "data.groupby(['meanGrade']).mean()['sentiment'].plot(title=\"Average Sentiment by Grade\", ylabel=\"sentiment\", ax=axes[0])\n",
        "data.groupby(['gradeCategory']).mean()['sentiment'].plot(title=\"Average Sentiment by Grade\", ylabel=\"sentiment\", ax=axes[1])"
      ],
      "execution_count": 313,
      "outputs": [
        {
          "output_type": "execute_result",
          "data": {
            "text/plain": [
              "<matplotlib.axes._subplots.AxesSubplot at 0x7fc43ba489b0>"
            ]
          },
          "metadata": {
            "tags": []
          },
          "execution_count": 313
        },
        {
          "output_type": "display_data",
          "data": {
            "image/png": "[encoded data removed]",
            "text/plain": [
              "<Figure size 1080x432 with 2 Axes>"
            ]
          },
          "metadata": {
            "tags": [],
            "needs_background": "light"
          }
        }
      ]
    },
    {
      "cell_type": "code",
      "metadata": {
        "colab": {
          "base_uri": "https://localhost:8080/",
          "height": 422
        },
        "id": "dG6_B8yWQ3Fu",
        "outputId": "a4f2406e-93a8-48b1-8367-f0125cd2dd4b"
      },
      "source": [
        "fig, axes = plt.subplots(nrows=1, ncols=2, figsize=(15,6))\n",
        "\n",
        "data.groupby(['meanGrade']).mean()['sentimentDiff'].plot(title=\"Average Sentiment Diff by Grade\", ylabel=\"sentimentDiff\", ax=axes[0])\n",
        "data.groupby(['gradeCategory']).mean()['sentimentDiff'].plot(title=\"Average Sentiment Diff by Grade\", ylabel=\"sentimentDiff\", ax=axes[1])"
      ],
      "execution_count": 314,
      "outputs": [
        {
          "output_type": "execute_result",
          "data": {
            "text/plain": [
              "<matplotlib.axes._subplots.AxesSubplot at 0x7fc43ba77e48>"
            ]
          },
          "metadata": {
            "tags": []
          },
          "execution_count": 314
        },
        {
          "output_type": "display_data",
          "data": {
            "image/png": "[encoded data removed]",
            "text/plain": [
              "<Figure size 1080x432 with 2 Axes>"
            ]
          },
          "metadata": {
            "tags": [],
            "needs_background": "light"
          }
        }
      ]
    },
    {
      "cell_type": "markdown",
      "metadata": {
        "id": "BZPaG13WRuH5"
      },
      "source": [
        "### Extract numeric features"
      ]
    },
    {
      "cell_type": "code",
      "metadata": {
        "colab": {
          "base_uri": "https://localhost:8080/",
          "height": 443
        },
        "id": "t64lkOqtQ84-",
        "outputId": "bfbfc763-1715-4add-fc13-f84cdfbc2e40"
      },
      "source": [
        "numeric_data = data.select_dtypes(['number']).drop(columns='id')\n",
        "numeric_data"
      ],
      "execution_count": 318,
      "outputs": [
        {
          "output_type": "execute_result",
          "data": {
            "text/html": [
              "<div>\n",
              "<style scoped>\n",
              "    .dataframe tbody tr th:only-of-type {\n",
              "        vertical-align: middle;\n",
              "    }\n",
              "\n",
              "    .dataframe tbody tr th {\n",
              "        vertical-align: top;\n",
              "    }\n",
              "\n",
              "    .dataframe thead th {\n",
              "        text-align: right;\n",
              "    }\n",
              "</style>\n",
              "<table border=\"1\" class=\"dataframe\">\n",
              "  <thead>\n",
              "    <tr style=\"text-align: right;\">\n",
              "      <th></th>\n",
              "      <th>grades</th>\n",
              "      <th>meanGrade</th>\n",
              "      <th>avgWordLength</th>\n",
              "      <th>wordCounts</th>\n",
              "      <th>charCounts</th>\n",
              "      <th>numStopWords</th>\n",
              "      <th>numHashtags</th>\n",
              "      <th>numDigits</th>\n",
              "      <th>numUpperCase</th>\n",
              "      <th>sentiment</th>\n",
              "      <th>sentimentOrig</th>\n",
              "      <th>sentimentDiff</th>\n",
              "    </tr>\n",
              "  </thead>\n",
              "  <tbody>\n",
              "    <tr>\n",
              "      <th>0</th>\n",
              "      <td>10000</td>\n",
              "      <td>0.2</td>\n",
              "      <td>4.266667</td>\n",
              "      <td>15</td>\n",
              "      <td>78</td>\n",
              "      <td>5</td>\n",
              "      <td>0</td>\n",
              "      <td>0</td>\n",
              "      <td>0</td>\n",
              "      <td>0.000000</td>\n",
              "      <td>0.000000</td>\n",
              "      <td>0.0</td>\n",
              "    </tr>\n",
              "    <tr>\n",
              "      <th>1</th>\n",
              "      <td>33110</td>\n",
              "      <td>1.6</td>\n",
              "      <td>4.705882</td>\n",
              "      <td>17</td>\n",
              "      <td>96</td>\n",
              "      <td>4</td>\n",
              "      <td>0</td>\n",
              "      <td>0</td>\n",
              "      <td>0</td>\n",
              "      <td>-0.156250</td>\n",
              "      <td>-0.156250</td>\n",
              "      <td>0.0</td>\n",
              "    </tr>\n",
              "    <tr>\n",
              "      <th>2</th>\n",
              "      <td>22100</td>\n",
              "      <td>1.0</td>\n",
              "      <td>5.000000</td>\n",
              "      <td>11</td>\n",
              "      <td>60</td>\n",
              "      <td>1</td>\n",
              "      <td>0</td>\n",
              "      <td>0</td>\n",
              "      <td>1</td>\n",
              "      <td>0.000000</td>\n",
              "      <td>0.000000</td>\n",
              "      <td>0.0</td>\n",
              "    </tr>\n",
              "    <tr>\n",
              "      <th>3</th>\n",
              "      <td>20000</td>\n",
              "      <td>0.4</td>\n",
              "      <td>4.500000</td>\n",
              "      <td>12</td>\n",
              "      <td>65</td>\n",
              "      <td>4</td>\n",
              "      <td>0</td>\n",
              "      <td>0</td>\n",
              "      <td>0</td>\n",
              "      <td>0.066667</td>\n",
              "      <td>0.066667</td>\n",
              "      <td>0.0</td>\n",
              "    </tr>\n",
              "    <tr>\n",
              "      <th>4</th>\n",
              "      <td>0</td>\n",
              "      <td>0.0</td>\n",
              "      <td>4.636364</td>\n",
              "      <td>11</td>\n",
              "      <td>61</td>\n",
              "      <td>2</td>\n",
              "      <td>0</td>\n",
              "      <td>0</td>\n",
              "      <td>0</td>\n",
              "      <td>0.000000</td>\n",
              "      <td>0.000000</td>\n",
              "      <td>0.0</td>\n",
              "    </tr>\n",
              "    <tr>\n",
              "      <th>...</th>\n",
              "      <td>...</td>\n",
              "      <td>...</td>\n",
              "      <td>...</td>\n",
              "      <td>...</td>\n",
              "      <td>...</td>\n",
              "      <td>...</td>\n",
              "      <td>...</td>\n",
              "      <td>...</td>\n",
              "      <td>...</td>\n",
              "      <td>...</td>\n",
              "      <td>...</td>\n",
              "      <td>...</td>\n",
              "    </tr>\n",
              "    <tr>\n",
              "      <th>9647</th>\n",
              "      <td>0</td>\n",
              "      <td>0.0</td>\n",
              "      <td>5.333333</td>\n",
              "      <td>12</td>\n",
              "      <td>75</td>\n",
              "      <td>1</td>\n",
              "      <td>0</td>\n",
              "      <td>0</td>\n",
              "      <td>1</td>\n",
              "      <td>0.500000</td>\n",
              "      <td>0.500000</td>\n",
              "      <td>0.0</td>\n",
              "    </tr>\n",
              "    <tr>\n",
              "      <th>9648</th>\n",
              "      <td>20000</td>\n",
              "      <td>0.4</td>\n",
              "      <td>5.727273</td>\n",
              "      <td>11</td>\n",
              "      <td>73</td>\n",
              "      <td>2</td>\n",
              "      <td>0</td>\n",
              "      <td>0</td>\n",
              "      <td>1</td>\n",
              "      <td>0.000000</td>\n",
              "      <td>0.000000</td>\n",
              "      <td>0.0</td>\n",
              "    </tr>\n",
              "    <tr>\n",
              "      <th>9649</th>\n",
              "      <td>21000</td>\n",
              "      <td>0.6</td>\n",
              "      <td>5.307692</td>\n",
              "      <td>13</td>\n",
              "      <td>81</td>\n",
              "      <td>2</td>\n",
              "      <td>0</td>\n",
              "      <td>0</td>\n",
              "      <td>0</td>\n",
              "      <td>0.000000</td>\n",
              "      <td>0.000000</td>\n",
              "      <td>0.0</td>\n",
              "    </tr>\n",
              "    <tr>\n",
              "      <th>9650</th>\n",
              "      <td>32200</td>\n",
              "      <td>1.4</td>\n",
              "      <td>5.416667</td>\n",
              "      <td>12</td>\n",
              "      <td>76</td>\n",
              "      <td>2</td>\n",
              "      <td>0</td>\n",
              "      <td>0</td>\n",
              "      <td>0</td>\n",
              "      <td>0.100000</td>\n",
              "      <td>0.100000</td>\n",
              "      <td>0.0</td>\n",
              "    </tr>\n",
              "    <tr>\n",
              "      <th>9651</th>\n",
              "      <td>11000</td>\n",
              "      <td>0.4</td>\n",
              "      <td>4.500000</td>\n",
              "      <td>10</td>\n",
              "      <td>54</td>\n",
              "      <td>0</td>\n",
              "      <td>0</td>\n",
              "      <td>0</td>\n",
              "      <td>0</td>\n",
              "      <td>0.000000</td>\n",
              "      <td>0.000000</td>\n",
              "      <td>0.0</td>\n",
              "    </tr>\n",
              "  </tbody>\n",
              "</table>\n",
              "<p>9652 rows × 12 columns</p>\n",
              "</div>"
            ],
            "text/plain": [
              "      grades  meanGrade  avgWordLength  ...  sentiment  sentimentOrig  sentimentDiff\n",
              "0      10000        0.2       4.266667  ...   0.000000       0.000000            0.0\n",
              "1      33110        1.6       4.705882  ...  -0.156250      -0.156250            0.0\n",
              "2      22100        1.0       5.000000  ...   0.000000       0.000000            0.0\n",
              "3      20000        0.4       4.500000  ...   0.066667       0.066667            0.0\n",
              "4          0        0.0       4.636364  ...   0.000000       0.000000            0.0\n",
              "...      ...        ...            ...  ...        ...            ...            ...\n",
              "9647       0        0.0       5.333333  ...   0.500000       0.500000            0.0\n",
              "9648   20000        0.4       5.727273  ...   0.000000       0.000000            0.0\n",
              "9649   21000        0.6       5.307692  ...   0.000000       0.000000            0.0\n",
              "9650   32200        1.4       5.416667  ...   0.100000       0.100000            0.0\n",
              "9651   11000        0.4       4.500000  ...   0.000000       0.000000            0.0\n",
              "\n",
              "[9652 rows x 12 columns]"
            ]
          },
          "metadata": {
            "tags": []
          },
          "execution_count": 318
        }
      ]
    },
    {
      "cell_type": "markdown",
      "metadata": {
        "id": "PFxP_7U3R0AA"
      },
      "source": [
        "## Train "
      ]
    },
    {
      "cell_type": "code",
      "metadata": {
        "id": "FhWk-Th0RPu2"
      },
      "source": [
        "from torch.utils.data import Dataset, random_split\n",
        "from sklearn.model_selection import train_test_split\n",
        "from sklearn.linear_model import LinearRegression\n",
        "from sklearn.naive_bayes import MultinomialNB\n",
        "from sklearn.tree import DecisionTreeRegressor\n",
        "from sklearn.svm import SVR\n",
        "from sklearn.pipeline import make_pipeline\n",
        "from sklearn.preprocessing import StandardScaler"
      ],
      "execution_count": 319,
      "outputs": []
    },
    {
      "cell_type": "code",
      "metadata": {
        "id": "ZavVR6OATThy"
      },
      "source": [
        "# How we print the model performance\n",
        "def model_performance(output, target, print_output=False):\n",
        "    \"\"\"\n",
        "    Returns SSE and MSE per batch (printing the MSE and the RMSE)\n",
        "    \"\"\"\n",
        "\n",
        "    sq_error = (output - target)**2\n",
        "\n",
        "    sse = np.sum(sq_error)\n",
        "    mse = np.mean(sq_error)\n",
        "    rmse = np.sqrt(mse)\n",
        "\n",
        "    if print_output:\n",
        "        print(f'| MSE: {mse:.2f} | RMSE: {rmse:.2f} |')\n",
        "\n",
        "    return sse, mse"
      ],
      "execution_count": 362,
      "outputs": []
    },
    {
      "cell_type": "code",
      "metadata": {
        "id": "C1x82tx2S8TD"
      },
      "source": [
        "train_proportion = 0.8"
      ],
      "execution_count": 327,
      "outputs": []
    },
    {
      "cell_type": "code",
      "metadata": {
        "id": "q2AuYKVDSRRv"
      },
      "source": [
        "def train_and_test(x, y):\n",
        "  training_data, dev_data, training_y, dev_y = train_test_split(x, y, test_size=(1-train_proportion),\n",
        "                                                                          random_state=42)\n",
        "\n",
        "  regression_model = DecisionTreeRegressor().fit(training_data, training_y)\n",
        "  predicted_train = regression_model.predict(training_data)\n",
        "  predicted_dev = regression_model.predict(dev_data)\n",
        "\n",
        "  print(\"\\nTrain performance:\")\n",
        "  sse, mse = model_performance(predicted_train, training_y, True)\n",
        "  print(\"\\nDev performance:\")\n",
        "  sse, mse = model_performance(predicted_dev, dev_y, True)"
      ],
      "execution_count": 383,
      "outputs": []
    },
    {
      "cell_type": "code",
      "metadata": {
        "colab": {
          "base_uri": "https://localhost:8080/"
        },
        "id": "wd-y3stwR6Dk",
        "outputId": "517a014d-6137-45d7-e170-3eff26de6a39"
      },
      "source": [
        "# Extract features.\n",
        "x_df = numeric_data.drop(columns=['meanGrade', 'grades'])\n",
        "x = x_df.values\n",
        "y = numeric_data['meanGrade'].values\n",
        "print(\"x shape: {}, y shape: {}\".format(x.shape, y.shape))"
      ],
      "execution_count": 430,
      "outputs": [
        {
          "output_type": "stream",
          "text": [
            "x shape: (9652, 10), y shape: (9652,)\n"
          ],
          "name": "stdout"
        }
      ]
    },
    {
      "cell_type": "code",
      "metadata": {
        "colab": {
          "base_uri": "https://localhost:8080/"
        },
        "id": "MiQkwnRrS50l",
        "outputId": "65256800-b818-4c08-9d13-a3c9a937669f"
      },
      "source": [
        "print(\"Features: {}\".format(x_df.columns))\n",
        "train_and_test(x, y)"
      ],
      "execution_count": 431,
      "outputs": [
        {
          "output_type": "stream",
          "text": [
            "Features: Index(['avgWordLength', 'wordCounts', 'charCounts', 'numStopWords',\n",
            "       'numHashtags', 'numDigits', 'numUpperCase', 'sentiment',\n",
            "       'sentimentOrig', 'sentimentDiff'],\n",
            "      dtype='object')\n",
            "\n",
            "Train performance:\n",
            "| MSE: 0.06 | RMSE: 0.25 |\n",
            "\n",
            "Dev performance:\n",
            "| MSE: 0.64 | RMSE: 0.80 |\n"
          ],
          "name": "stdout"
        }
      ]
    },
    {
      "cell_type": "code",
      "metadata": {
        "colab": {
          "base_uri": "https://localhost:8080/"
        },
        "id": "pmz718SFTQrf",
        "outputId": "bc37f96d-37ae-41f8-8d2c-5320c75c4fb8"
      },
      "source": [
        "for column in x_df.columns:\n",
        "  new_data = x_df.drop(columns=column)\n",
        "  x = new_data.values\n",
        "  print(\"Features: {}\".format(new_data.columns))\n",
        "  train_and_test(x, y)"
      ],
      "execution_count": 432,
      "outputs": [
        {
          "output_type": "stream",
          "text": [
            "Features: Index(['wordCounts', 'charCounts', 'numStopWords', 'numHashtags', 'numDigits',\n",
            "       'numUpperCase', 'sentiment', 'sentimentOrig', 'sentimentDiff'],\n",
            "      dtype='object')\n",
            "\n",
            "Train performance:\n",
            "| MSE: 0.08 | RMSE: 0.29 |\n",
            "\n",
            "Dev performance:\n",
            "| MSE: 0.61 | RMSE: 0.78 |\n",
            "Features: Index(['avgWordLength', 'charCounts', 'numStopWords', 'numHashtags',\n",
            "       'numDigits', 'numUpperCase', 'sentiment', 'sentimentOrig',\n",
            "       'sentimentDiff'],\n",
            "      dtype='object')\n",
            "\n",
            "Train performance:\n",
            "| MSE: 0.06 | RMSE: 0.25 |\n",
            "\n",
            "Dev performance:\n",
            "| MSE: 0.65 | RMSE: 0.80 |\n",
            "Features: Index(['avgWordLength', 'wordCounts', 'numStopWords', 'numHashtags',\n",
            "       'numDigits', 'numUpperCase', 'sentiment', 'sentimentOrig',\n",
            "       'sentimentDiff'],\n",
            "      dtype='object')\n",
            "\n",
            "Train performance:\n",
            "| MSE: 0.06 | RMSE: 0.25 |\n",
            "\n",
            "Dev performance:\n",
            "| MSE: 0.62 | RMSE: 0.79 |\n",
            "Features: Index(['avgWordLength', 'wordCounts', 'charCounts', 'numHashtags', 'numDigits',\n",
            "       'numUpperCase', 'sentiment', 'sentimentOrig', 'sentimentDiff'],\n",
            "      dtype='object')\n",
            "\n",
            "Train performance:\n",
            "| MSE: 0.12 | RMSE: 0.34 |\n",
            "\n",
            "Dev performance:\n",
            "| MSE: 0.59 | RMSE: 0.77 |\n",
            "Features: Index(['avgWordLength', 'wordCounts', 'charCounts', 'numStopWords',\n",
            "       'numDigits', 'numUpperCase', 'sentiment', 'sentimentOrig',\n",
            "       'sentimentDiff'],\n",
            "      dtype='object')\n",
            "\n",
            "Train performance:\n",
            "| MSE: 0.06 | RMSE: 0.25 |\n",
            "\n",
            "Dev performance:\n",
            "| MSE: 0.63 | RMSE: 0.79 |\n",
            "Features: Index(['avgWordLength', 'wordCounts', 'charCounts', 'numStopWords',\n",
            "       'numHashtags', 'numUpperCase', 'sentiment', 'sentimentOrig',\n",
            "       'sentimentDiff'],\n",
            "      dtype='object')\n",
            "\n",
            "Train performance:\n",
            "| MSE: 0.07 | RMSE: 0.26 |\n",
            "\n",
            "Dev performance:\n",
            "| MSE: 0.61 | RMSE: 0.78 |\n",
            "Features: Index(['avgWordLength', 'wordCounts', 'charCounts', 'numStopWords',\n",
            "       'numHashtags', 'numDigits', 'sentiment', 'sentimentOrig',\n",
            "       'sentimentDiff'],\n",
            "      dtype='object')\n",
            "\n",
            "Train performance:\n",
            "| MSE: 0.08 | RMSE: 0.29 |\n",
            "\n",
            "Dev performance:\n",
            "| MSE: 0.65 | RMSE: 0.81 |\n",
            "Features: Index(['avgWordLength', 'wordCounts', 'charCounts', 'numStopWords',\n",
            "       'numHashtags', 'numDigits', 'numUpperCase', 'sentimentOrig',\n",
            "       'sentimentDiff'],\n",
            "      dtype='object')\n",
            "\n",
            "Train performance:\n",
            "| MSE: 0.06 | RMSE: 0.25 |\n",
            "\n",
            "Dev performance:\n",
            "| MSE: 0.62 | RMSE: 0.79 |\n",
            "Features: Index(['avgWordLength', 'wordCounts', 'charCounts', 'numStopWords',\n",
            "       'numHashtags', 'numDigits', 'numUpperCase', 'sentiment',\n",
            "       'sentimentDiff'],\n",
            "      dtype='object')\n",
            "\n",
            "Train performance:\n",
            "| MSE: 0.06 | RMSE: 0.25 |\n",
            "\n",
            "Dev performance:\n",
            "| MSE: 0.62 | RMSE: 0.79 |\n",
            "Features: Index(['avgWordLength', 'wordCounts', 'charCounts', 'numStopWords',\n",
            "       'numHashtags', 'numDigits', 'numUpperCase', 'sentiment',\n",
            "       'sentimentOrig'],\n",
            "      dtype='object')\n",
            "\n",
            "Train performance:\n",
            "| MSE: 0.06 | RMSE: 0.25 |\n",
            "\n",
            "Dev performance:\n",
            "| MSE: 0.63 | RMSE: 0.80 |\n"
          ],
          "name": "stdout"
        }
      ]
    },
    {
      "cell_type": "code",
      "metadata": {
        "colab": {
          "base_uri": "https://localhost:8080/"
        },
        "id": "N0tsPDeJaxVj",
        "outputId": "e2f03a6e-8884-4a2a-d8a0-2b1201aa7bff"
      },
      "source": [
        "new_data = np.expand_dims(x_df['sentimentDiff'], axis=1)\n",
        "train_and_test(new_data, y)"
      ],
      "execution_count": 433,
      "outputs": [
        {
          "output_type": "stream",
          "text": [
            "\n",
            "Train performance:\n",
            "| MSE: 0.33 | RMSE: 0.58 |\n",
            "\n",
            "Dev performance:\n",
            "| MSE: 0.35 | RMSE: 0.59 |\n"
          ],
          "name": "stdout"
        }
      ]
    },
    {
      "cell_type": "code",
      "metadata": {
        "colab": {
          "base_uri": "https://localhost:8080/"
        },
        "id": "_H7bNs6gUr5c",
        "outputId": "5558bc9f-fbf2-4a9c-93ee-1f4cb6ae2e7e"
      },
      "source": [
        "x_tdif = np.concatenate((x, train_counts.toarray(), train_bow.toarray()), axis=1)\n",
        "x_tdif.shape"
      ],
      "execution_count": 434,
      "outputs": [
        {
          "output_type": "execute_result",
          "data": {
            "text/plain": [
              "(9652, 9986)"
            ]
          },
          "metadata": {
            "tags": []
          },
          "execution_count": 434
        }
      ]
    },
    {
      "cell_type": "code",
      "metadata": {
        "id": "xKJCO1g9cdOH"
      },
      "source": [
        "train_and_test(x_tdif, y)"
      ],
      "execution_count": null,
      "outputs": []
    },
    {
      "cell_type": "code",
      "metadata": {
        "id": "m3MjWELUclxG"
      },
      "source": [
        ""
      ],
      "execution_count": null,
      "outputs": []
    }
  ]
}