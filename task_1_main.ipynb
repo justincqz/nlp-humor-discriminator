{
  "nbformat": 4,
  "nbformat_minor": 0,
  "metadata": {
    "kernelspec": {
      "display_name": "Python 3",
      "language": "python",
      "name": "python3"
    },
    "language_info": {
      "codemirror_mode": {
        "name": "ipython",
        "version": 3
      },
      "file_extension": ".py",
      "mimetype": "text/x-python",
      "name": "python",
      "nbconvert_exporter": "python",
      "pygments_lexer": "ipython3",
      "version": "3.7.1"
    },
    "colab": {
      "name": "main.ipynb",
      "provenance": [],
      "collapsed_sections": [
        "3UWJ9Z96uay3",
        "r87Ra9hmO0MT",
        "J2f5JkcXRU0h",
        "vLBuf54LaSlZ",
        "xsFTU7vrT7B1",
        "xMA3mumakDSZ"
      ]
    },
    "accelerator": "GPU",
    "widgets": {
      "application/vnd.jupyter.widget-state+json": {
        "aadfb751523748d7a69b19fa5064d1e6": {
          "model_module": "@jupyter-widgets/controls",
          "model_name": "HBoxModel",
          "state": {
            "_view_name": "HBoxView",
            "_dom_classes": [],
            "_model_name": "HBoxModel",
            "_view_module": "@jupyter-widgets/controls",
            "_model_module_version": "1.5.0",
            "_view_count": null,
            "_view_module_version": "1.5.0",
            "box_style": "",
            "layout": "IPY_MODEL_918221bb80d24a4b8a676baa22ad83a6",
            "_model_module": "@jupyter-widgets/controls",
            "children": [
              "IPY_MODEL_fe7b42baede0437d8559d53d9544d354",
              "IPY_MODEL_fbb5745245de4178854a0e0ed227603b"
            ]
          }
        },
        "918221bb80d24a4b8a676baa22ad83a6": {
          "model_module": "@jupyter-widgets/base",
          "model_name": "LayoutModel",
          "state": {
            "_view_name": "LayoutView",
            "grid_template_rows": null,
            "right": null,
            "justify_content": null,
            "_view_module": "@jupyter-widgets/base",
            "overflow": null,
            "_model_module_version": "1.2.0",
            "_view_count": null,
            "flex_flow": null,
            "width": null,
            "min_width": null,
            "border": null,
            "align_items": null,
            "bottom": null,
            "_model_module": "@jupyter-widgets/base",
            "top": null,
            "grid_column": null,
            "overflow_y": null,
            "overflow_x": null,
            "grid_auto_flow": null,
            "grid_area": null,
            "grid_template_columns": null,
            "flex": null,
            "_model_name": "LayoutModel",
            "justify_items": null,
            "grid_row": null,
            "max_height": null,
            "align_content": null,
            "visibility": null,
            "align_self": null,
            "height": null,
            "min_height": null,
            "padding": null,
            "grid_auto_rows": null,
            "grid_gap": null,
            "max_width": null,
            "order": null,
            "_view_module_version": "1.2.0",
            "grid_template_areas": null,
            "object_position": null,
            "object_fit": null,
            "grid_auto_columns": null,
            "margin": null,
            "display": null,
            "left": null
          }
        },
        "fe7b42baede0437d8559d53d9544d354": {
          "model_module": "@jupyter-widgets/controls",
          "model_name": "FloatProgressModel",
          "state": {
            "_view_name": "ProgressView",
            "style": "IPY_MODEL_e2d445db538e4013b8e699f608d23315",
            "_dom_classes": [],
            "description": "Downloading: 100%",
            "_model_name": "FloatProgressModel",
            "bar_style": "success",
            "max": 481,
            "_view_module": "@jupyter-widgets/controls",
            "_model_module_version": "1.5.0",
            "value": 481,
            "_view_count": null,
            "_view_module_version": "1.5.0",
            "orientation": "horizontal",
            "min": 0,
            "description_tooltip": null,
            "_model_module": "@jupyter-widgets/controls",
            "layout": "IPY_MODEL_a6e7469b0dba4f49bd5becbd530c3fa8"
          }
        },
        "fbb5745245de4178854a0e0ed227603b": {
          "model_module": "@jupyter-widgets/controls",
          "model_name": "HTMLModel",
          "state": {
            "_view_name": "HTMLView",
            "style": "IPY_MODEL_5553c6513b7e44a0938673de57f10e42",
            "_dom_classes": [],
            "description": "",
            "_model_name": "HTMLModel",
            "placeholder": "​",
            "_view_module": "@jupyter-widgets/controls",
            "_model_module_version": "1.5.0",
            "value": " 481/481 [00:09&lt;00:00, 52.1B/s]",
            "_view_count": null,
            "_view_module_version": "1.5.0",
            "description_tooltip": null,
            "_model_module": "@jupyter-widgets/controls",
            "layout": "IPY_MODEL_43057c320f31478c884c4ef3beb88fd2"
          }
        },
        "e2d445db538e4013b8e699f608d23315": {
          "model_module": "@jupyter-widgets/controls",
          "model_name": "ProgressStyleModel",
          "state": {
            "_view_name": "StyleView",
            "_model_name": "ProgressStyleModel",
            "description_width": "initial",
            "_view_module": "@jupyter-widgets/base",
            "_model_module_version": "1.5.0",
            "_view_count": null,
            "_view_module_version": "1.2.0",
            "bar_color": null,
            "_model_module": "@jupyter-widgets/controls"
          }
        },
        "a6e7469b0dba4f49bd5becbd530c3fa8": {
          "model_module": "@jupyter-widgets/base",
          "model_name": "LayoutModel",
          "state": {
            "_view_name": "LayoutView",
            "grid_template_rows": null,
            "right": null,
            "justify_content": null,
            "_view_module": "@jupyter-widgets/base",
            "overflow": null,
            "_model_module_version": "1.2.0",
            "_view_count": null,
            "flex_flow": null,
            "width": null,
            "min_width": null,
            "border": null,
            "align_items": null,
            "bottom": null,
            "_model_module": "@jupyter-widgets/base",
            "top": null,
            "grid_column": null,
            "overflow_y": null,
            "overflow_x": null,
            "grid_auto_flow": null,
            "grid_area": null,
            "grid_template_columns": null,
            "flex": null,
            "_model_name": "LayoutModel",
            "justify_items": null,
            "grid_row": null,
            "max_height": null,
            "align_content": null,
            "visibility": null,
            "align_self": null,
            "height": null,
            "min_height": null,
            "padding": null,
            "grid_auto_rows": null,
            "grid_gap": null,
            "max_width": null,
            "order": null,
            "_view_module_version": "1.2.0",
            "grid_template_areas": null,
            "object_position": null,
            "object_fit": null,
            "grid_auto_columns": null,
            "margin": null,
            "display": null,
            "left": null
          }
        },
        "5553c6513b7e44a0938673de57f10e42": {
          "model_module": "@jupyter-widgets/controls",
          "model_name": "DescriptionStyleModel",
          "state": {
            "_view_name": "StyleView",
            "_model_name": "DescriptionStyleModel",
            "description_width": "",
            "_view_module": "@jupyter-widgets/base",
            "_model_module_version": "1.5.0",
            "_view_count": null,
            "_view_module_version": "1.2.0",
            "_model_module": "@jupyter-widgets/controls"
          }
        },
        "43057c320f31478c884c4ef3beb88fd2": {
          "model_module": "@jupyter-widgets/base",
          "model_name": "LayoutModel",
          "state": {
            "_view_name": "LayoutView",
            "grid_template_rows": null,
            "right": null,
            "justify_content": null,
            "_view_module": "@jupyter-widgets/base",
            "overflow": null,
            "_model_module_version": "1.2.0",
            "_view_count": null,
            "flex_flow": null,
            "width": null,
            "min_width": null,
            "border": null,
            "align_items": null,
            "bottom": null,
            "_model_module": "@jupyter-widgets/base",
            "top": null,
            "grid_column": null,
            "overflow_y": null,
            "overflow_x": null,
            "grid_auto_flow": null,
            "grid_area": null,
            "grid_template_columns": null,
            "flex": null,
            "_model_name": "LayoutModel",
            "justify_items": null,
            "grid_row": null,
            "max_height": null,
            "align_content": null,
            "visibility": null,
            "align_self": null,
            "height": null,
            "min_height": null,
            "padding": null,
            "grid_auto_rows": null,
            "grid_gap": null,
            "max_width": null,
            "order": null,
            "_view_module_version": "1.2.0",
            "grid_template_areas": null,
            "object_position": null,
            "object_fit": null,
            "grid_auto_columns": null,
            "margin": null,
            "display": null,
            "left": null
          }
        },
        "e59e87581aaa43cea3fae89cfbd0bdd6": {
          "model_module": "@jupyter-widgets/controls",
          "model_name": "HBoxModel",
          "state": {
            "_view_name": "HBoxView",
            "_dom_classes": [],
            "_model_name": "HBoxModel",
            "_view_module": "@jupyter-widgets/controls",
            "_model_module_version": "1.5.0",
            "_view_count": null,
            "_view_module_version": "1.5.0",
            "box_style": "",
            "layout": "IPY_MODEL_6dff85f849e64a7c9a16ad5af717edf3",
            "_model_module": "@jupyter-widgets/controls",
            "children": [
              "IPY_MODEL_18d17e97132c426ea3a2f112fde7695f",
              "IPY_MODEL_5af7239138ec4701a2a4bdd479af07f6"
            ]
          }
        },
        "6dff85f849e64a7c9a16ad5af717edf3": {
          "model_module": "@jupyter-widgets/base",
          "model_name": "LayoutModel",
          "state": {
            "_view_name": "LayoutView",
            "grid_template_rows": null,
            "right": null,
            "justify_content": null,
            "_view_module": "@jupyter-widgets/base",
            "overflow": null,
            "_model_module_version": "1.2.0",
            "_view_count": null,
            "flex_flow": null,
            "width": null,
            "min_width": null,
            "border": null,
            "align_items": null,
            "bottom": null,
            "_model_module": "@jupyter-widgets/base",
            "top": null,
            "grid_column": null,
            "overflow_y": null,
            "overflow_x": null,
            "grid_auto_flow": null,
            "grid_area": null,
            "grid_template_columns": null,
            "flex": null,
            "_model_name": "LayoutModel",
            "justify_items": null,
            "grid_row": null,
            "max_height": null,
            "align_content": null,
            "visibility": null,
            "align_self": null,
            "height": null,
            "min_height": null,
            "padding": null,
            "grid_auto_rows": null,
            "grid_gap": null,
            "max_width": null,
            "order": null,
            "_view_module_version": "1.2.0",
            "grid_template_areas": null,
            "object_position": null,
            "object_fit": null,
            "grid_auto_columns": null,
            "margin": null,
            "display": null,
            "left": null
          }
        },
        "18d17e97132c426ea3a2f112fde7695f": {
          "model_module": "@jupyter-widgets/controls",
          "model_name": "FloatProgressModel",
          "state": {
            "_view_name": "ProgressView",
            "style": "IPY_MODEL_65bb17d000e14cfc9fc2e5afb0ea79b0",
            "_dom_classes": [],
            "description": "Downloading: 100%",
            "_model_name": "FloatProgressModel",
            "bar_style": "success",
            "max": 501200538,
            "_view_module": "@jupyter-widgets/controls",
            "_model_module_version": "1.5.0",
            "value": 501200538,
            "_view_count": null,
            "_view_module_version": "1.5.0",
            "orientation": "horizontal",
            "min": 0,
            "description_tooltip": null,
            "_model_module": "@jupyter-widgets/controls",
            "layout": "IPY_MODEL_a1c2272fcdfc48e2959a321ca2cfccc3"
          }
        },
        "5af7239138ec4701a2a4bdd479af07f6": {
          "model_module": "@jupyter-widgets/controls",
          "model_name": "HTMLModel",
          "state": {
            "_view_name": "HTMLView",
            "style": "IPY_MODEL_fbec9a81efa44b6ebf33147737140f0b",
            "_dom_classes": [],
            "description": "",
            "_model_name": "HTMLModel",
            "placeholder": "​",
            "_view_module": "@jupyter-widgets/controls",
            "_model_module_version": "1.5.0",
            "value": " 501M/501M [00:08&lt;00:00, 58.6MB/s]",
            "_view_count": null,
            "_view_module_version": "1.5.0",
            "description_tooltip": null,
            "_model_module": "@jupyter-widgets/controls",
            "layout": "IPY_MODEL_67b53d6aff6a4ca5bf196fe1491a7220"
          }
        },
        "65bb17d000e14cfc9fc2e5afb0ea79b0": {
          "model_module": "@jupyter-widgets/controls",
          "model_name": "ProgressStyleModel",
          "state": {
            "_view_name": "StyleView",
            "_model_name": "ProgressStyleModel",
            "description_width": "initial",
            "_view_module": "@jupyter-widgets/base",
            "_model_module_version": "1.5.0",
            "_view_count": null,
            "_view_module_version": "1.2.0",
            "bar_color": null,
            "_model_module": "@jupyter-widgets/controls"
          }
        },
        "a1c2272fcdfc48e2959a321ca2cfccc3": {
          "model_module": "@jupyter-widgets/base",
          "model_name": "LayoutModel",
          "state": {
            "_view_name": "LayoutView",
            "grid_template_rows": null,
            "right": null,
            "justify_content": null,
            "_view_module": "@jupyter-widgets/base",
            "overflow": null,
            "_model_module_version": "1.2.0",
            "_view_count": null,
            "flex_flow": null,
            "width": null,
            "min_width": null,
            "border": null,
            "align_items": null,
            "bottom": null,
            "_model_module": "@jupyter-widgets/base",
            "top": null,
            "grid_column": null,
            "overflow_y": null,
            "overflow_x": null,
            "grid_auto_flow": null,
            "grid_area": null,
            "grid_template_columns": null,
            "flex": null,
            "_model_name": "LayoutModel",
            "justify_items": null,
            "grid_row": null,
            "max_height": null,
            "align_content": null,
            "visibility": null,
            "align_self": null,
            "height": null,
            "min_height": null,
            "padding": null,
            "grid_auto_rows": null,
            "grid_gap": null,
            "max_width": null,
            "order": null,
            "_view_module_version": "1.2.0",
            "grid_template_areas": null,
            "object_position": null,
            "object_fit": null,
            "grid_auto_columns": null,
            "margin": null,
            "display": null,
            "left": null
          }
        },
        "fbec9a81efa44b6ebf33147737140f0b": {
          "model_module": "@jupyter-widgets/controls",
          "model_name": "DescriptionStyleModel",
          "state": {
            "_view_name": "StyleView",
            "_model_name": "DescriptionStyleModel",
            "description_width": "",
            "_view_module": "@jupyter-widgets/base",
            "_model_module_version": "1.5.0",
            "_view_count": null,
            "_view_module_version": "1.2.0",
            "_model_module": "@jupyter-widgets/controls"
          }
        },
        "67b53d6aff6a4ca5bf196fe1491a7220": {
          "model_module": "@jupyter-widgets/base",
          "model_name": "LayoutModel",
          "state": {
            "_view_name": "LayoutView",
            "grid_template_rows": null,
            "right": null,
            "justify_content": null,
            "_view_module": "@jupyter-widgets/base",
            "overflow": null,
            "_model_module_version": "1.2.0",
            "_view_count": null,
            "flex_flow": null,
            "width": null,
            "min_width": null,
            "border": null,
            "align_items": null,
            "bottom": null,
            "_model_module": "@jupyter-widgets/base",
            "top": null,
            "grid_column": null,
            "overflow_y": null,
            "overflow_x": null,
            "grid_auto_flow": null,
            "grid_area": null,
            "grid_template_columns": null,
            "flex": null,
            "_model_name": "LayoutModel",
            "justify_items": null,
            "grid_row": null,
            "max_height": null,
            "align_content": null,
            "visibility": null,
            "align_self": null,
            "height": null,
            "min_height": null,
            "padding": null,
            "grid_auto_rows": null,
            "grid_gap": null,
            "max_width": null,
            "order": null,
            "_view_module_version": "1.2.0",
            "grid_template_areas": null,
            "object_position": null,
            "object_fit": null,
            "grid_auto_columns": null,
            "margin": null,
            "display": null,
            "left": null
          }
        }
      }
    }
  },
  "cells": [
    {
      "cell_type": "markdown",
      "metadata": {
        "id": "AWRt9UuE3BQP"
      },
      "source": [
        "### Coursework coding instructions (please also see full coursework spec)\n",
        "\n",
        "Please choose if you want to do either Task 1 or Task 2. You should write your report about one task only.\n",
        "\n",
        "For the task you choose you will need to do two approaches:\n",
        "  - Approach 1, which can use use pre-trained embeddings / models\n",
        "  - Approach 2, which should not use any pre-trained embeddings or models\n",
        "We should be able to run both approaches from the same colab file\n",
        "\n",
        "#### Running your code:\n",
        "  - Your models should run automatically when running your colab file without further intervention\n",
        "  - For each task you should automatically output the performance of both models\n",
        "  - Your code should automatically download any libraries required\n",
        "\n",
        "#### Structure of your code:\n",
        "  - You are expected to use the 'train', 'eval' and 'model_performance' functions, although you may edit these as required\n",
        "  - Otherwise there are no restrictions on what you can do in your code\n",
        "\n",
        "#### Documentation:\n",
        "  - You are expected to produce a .README file summarising how you have approached both tasks\n",
        "\n",
        "#### Reproducibility:\n",
        "  - Your .README file should explain how to replicate the different experiments mentioned in your report\n",
        "\n",
        "Good luck! We are really looking forward to seeing your reports and your model code!"
      ]
    },
    {
      "cell_type": "markdown",
      "metadata": {
        "id": "LCZYhNJ2Czn-"
      },
      "source": [
        "# README\r\n",
        "\r\n",
        "Each cell is labelled/grouped using the text cells above them. This README hopefully allows you to reproduce our results by running the stated cells in that specific order.\r\n",
        "\r\n",
        "## GLoVe\r\n",
        "\r\n",
        "- Start\r\n",
        "- Load Data\r\n",
        "- Training and Evaluation Helpers\r\n",
        "- Helper Functions\r\n",
        "- Models\r\n",
        "- Initialisation & Processing - Prepare the data for training, assign hyperparameters, initialise the models.\r\n",
        "- Initialisation & Processing - Extract and parse the edited words and sentences\r\n",
        "- Training - Models (Approach 1) - GLoVe Models - GLoVe-specific Training\r\n",
        "- GLoVe Testing\r\n",
        "\r\n",
        "\r\n",
        "## BERT Single w/ Attention\r\n",
        "\r\n",
        "- Start\r\n",
        "- Load Data\r\n",
        "- Training and Evaluation Helpers\r\n",
        "- Helper Functions\r\n",
        "- Models\r\n",
        "- Initialisation & Processing - Prepare the data for training, assign hyperparameters, initialise the models.\r\n",
        "- Initialisation & Processing - Extract and parse the edited words and sentences\r\n",
        "- Initialisation & Processing - Prepare Bert and RoBerta specfic Preprocessing\r\n",
        "- BERT Testing\r\n",
        "- Training - Models (Approach 1) - Bert Training with Single Sentence\r\n",
        "\r\n",
        "\r\n",
        "## BERT Single w/ Attention, Freeze\r\n",
        "\r\n",
        "- Start\r\n",
        "- Load Data\r\n",
        "- Training and Evaluation Helpers\r\n",
        "- Helper Functions\r\n",
        "- Models\r\n",
        "- Initialisation & Processing - Prepare the data for training, assign hyperparameters, initialise the models.\r\n",
        "- Initialisation & Processing - Extract and parse the edited words and sentences\r\n",
        "- Initialisation & Processing - Prepare Bert and RoBerta specfic Preprocessing\r\n",
        "- BERT Testing\r\n",
        "- Training - Models (Approach 1) - Bert Training with Single Sentence and Freezing\r\n",
        "\r\n",
        "\r\n",
        "## BERT Double\r\n",
        "\r\n",
        "- Start\r\n",
        "- Load Data\r\n",
        "- Training and Evaluation Helpers\r\n",
        "- Helper Functions\r\n",
        "- Models\r\n",
        "- Initialisation & Processing - Prepare the data for training, assign hyperparameters, initialise the models.\r\n",
        "- Initialisation & Processing - Extract and parse the edited words and sentences\r\n",
        "- Initialisation & Processing - Prepare Bert and RoBerta specfic Preprocessing\r\n",
        "- BERT Testing\r\n",
        "- Training - Models (Approach 1) - Bert Training with Double Sentences\r\n",
        "\r\n",
        "\r\n",
        "## BertForSequenceClassification\r\n",
        "\r\n",
        "- Start\r\n",
        "- Load Data\r\n",
        "- Training and Evaluation Helpers\r\n",
        "- Helper Functions\r\n",
        "- Models\r\n",
        "- Initialisation & Processing - Prepare the data for training, assign hyperparameters, initialise the models.\r\n",
        "- Initialisation & Processing - Extract and parse the edited words and sentences\r\n",
        "- Initialisation & Processing - Prepare Bert and RoBerta specfic Preprocessing\r\n",
        "- BERT Testing\r\n",
        "- Training - Models (Approach 1) - Bert with Sequence Classification with Both Sentences\r\n",
        "\r\n",
        "\r\n",
        "## RoBERTa\r\n",
        "\r\n",
        "- Start\r\n",
        "- Load Data\r\n",
        "- Training and Evaluation Helpers\r\n",
        "- Helper Functions\r\n",
        "- Models\r\n",
        "- Initialisation & Processing - Prepare the data for training, assign hyperparameters, initialise the models.\r\n",
        "- Initialisation & Processing - Extract and parse the edited words and sentences\r\n",
        "- Initialisation & Processing - Prepare Bert and RoBerta specfic Preprocessing\r\n",
        "- RoBERTa Testing\r\n",
        "- Training - Models (Approach 1) - RoBERTa Single\r\n",
        "\r\n",
        "\r\n",
        "## RoBERTa Double\r\n",
        "\r\n",
        "- Start\r\n",
        "- Load Data\r\n",
        "- Training and Evaluation Helpers\r\n",
        "- Helper Functions\r\n",
        "- Models\r\n",
        "- Initialisation & Processing - Prepare the data for training, assign hyperparameters, initialise the models.\r\n",
        "- Initialisation & Processing - Extract and parse the edited words and sentences\r\n",
        "- Initialisation & Processing - Prepare Bert and RoBerta specfic Preprocessing\r\n",
        "- RoBERTa Testing\r\n",
        "- Training - Models (Approach 1) - RoBERTa Double\r\n",
        "\r\n",
        "\r\n"
      ]
    },
    {
      "cell_type": "markdown",
      "metadata": {
        "id": "uZgNBjWICdZY"
      },
      "source": [
        "# Start\r\n",
        "\r\n"
      ]
    },
    {
      "cell_type": "code",
      "metadata": {
        "colab": {
          "base_uri": "https://localhost:8080/"
        },
        "id": "dXHhn8ABipCS",
        "outputId": "0530966e-0ea3-4ea7-8c47-d8dc43ab966a"
      },
      "source": [
        "!pip install transformers\r\n",
        "!pip install torch\r\n",
        "!pip install skorch"
      ],
      "execution_count": 29,
      "outputs": [
        {
          "output_type": "stream",
          "text": [
            "Requirement already satisfied: transformers in /usr/local/lib/python3.7/dist-packages (4.3.3)\n",
            "Requirement already satisfied: packaging in /usr/local/lib/python3.7/dist-packages (from transformers) (20.9)\n",
            "Requirement already satisfied: requests in /usr/local/lib/python3.7/dist-packages (from transformers) (2.23.0)\n",
            "Requirement already satisfied: filelock in /usr/local/lib/python3.7/dist-packages (from transformers) (3.0.12)\n",
            "Requirement already satisfied: tokenizers<0.11,>=0.10.1 in /usr/local/lib/python3.7/dist-packages (from transformers) (0.10.1)\n",
            "Requirement already satisfied: sacremoses in /usr/local/lib/python3.7/dist-packages (from transformers) (0.0.43)\n",
            "Requirement already satisfied: numpy>=1.17 in /usr/local/lib/python3.7/dist-packages (from transformers) (1.19.5)\n",
            "Requirement already satisfied: importlib-metadata; python_version < \"3.8\" in /usr/local/lib/python3.7/dist-packages (from transformers) (3.7.0)\n",
            "Requirement already satisfied: regex!=2019.12.17 in /usr/local/lib/python3.7/dist-packages (from transformers) (2019.12.20)\n",
            "Requirement already satisfied: tqdm>=4.27 in /usr/local/lib/python3.7/dist-packages (from transformers) (4.41.1)\n",
            "Requirement already satisfied: pyparsing>=2.0.2 in /usr/local/lib/python3.7/dist-packages (from packaging->transformers) (2.4.7)\n",
            "Requirement already satisfied: chardet<4,>=3.0.2 in /usr/local/lib/python3.7/dist-packages (from requests->transformers) (3.0.4)\n",
            "Requirement already satisfied: urllib3!=1.25.0,!=1.25.1,<1.26,>=1.21.1 in /usr/local/lib/python3.7/dist-packages (from requests->transformers) (1.24.3)\n",
            "Requirement already satisfied: idna<3,>=2.5 in /usr/local/lib/python3.7/dist-packages (from requests->transformers) (2.10)\n",
            "Requirement already satisfied: certifi>=2017.4.17 in /usr/local/lib/python3.7/dist-packages (from requests->transformers) (2020.12.5)\n",
            "Requirement already satisfied: click in /usr/local/lib/python3.7/dist-packages (from sacremoses->transformers) (7.1.2)\n",
            "Requirement already satisfied: joblib in /usr/local/lib/python3.7/dist-packages (from sacremoses->transformers) (1.0.1)\n",
            "Requirement already satisfied: six in /usr/local/lib/python3.7/dist-packages (from sacremoses->transformers) (1.15.0)\n",
            "Requirement already satisfied: typing-extensions>=3.6.4; python_version < \"3.8\" in /usr/local/lib/python3.7/dist-packages (from importlib-metadata; python_version < \"3.8\"->transformers) (3.7.4.3)\n",
            "Requirement already satisfied: zipp>=0.5 in /usr/local/lib/python3.7/dist-packages (from importlib-metadata; python_version < \"3.8\"->transformers) (3.4.0)\n",
            "Requirement already satisfied: torch in /usr/local/lib/python3.7/dist-packages (1.7.1+cu101)\n",
            "Requirement already satisfied: typing-extensions in /usr/local/lib/python3.7/dist-packages (from torch) (3.7.4.3)\n",
            "Requirement already satisfied: numpy in /usr/local/lib/python3.7/dist-packages (from torch) (1.19.5)\n",
            "Requirement already satisfied: skorch in /usr/local/lib/python3.7/dist-packages (0.9.0)\n",
            "Requirement already satisfied: scikit-learn>=0.19.1 in /usr/local/lib/python3.7/dist-packages (from skorch) (0.22.2.post1)\n",
            "Requirement already satisfied: tqdm>=4.14.0 in /usr/local/lib/python3.7/dist-packages (from skorch) (4.41.1)\n",
            "Requirement already satisfied: numpy>=1.13.3 in /usr/local/lib/python3.7/dist-packages (from skorch) (1.19.5)\n",
            "Requirement already satisfied: tabulate>=0.7.7 in /usr/local/lib/python3.7/dist-packages (from skorch) (0.8.9)\n",
            "Requirement already satisfied: scipy>=1.1.0 in /usr/local/lib/python3.7/dist-packages (from skorch) (1.4.1)\n",
            "Requirement already satisfied: joblib>=0.11 in /usr/local/lib/python3.7/dist-packages (from scikit-learn>=0.19.1->skorch) (1.0.1)\n"
          ],
          "name": "stdout"
        }
      ]
    },
    {
      "cell_type": "code",
      "metadata": {
        "id": "fL0-upkD3BQY"
      },
      "source": [
        "# Imports\n",
        "import sys\n",
        "import re\n",
        "import torch\n",
        "import torch.nn as nn\n",
        "import pandas as pd\n",
        "import numpy as np\n",
        "from torch.utils.data import Dataset, TensorDataset, random_split\n",
        "from torch.utils.data import DataLoader, RandomSampler, SequentialSampler\n",
        "from sklearn.feature_extraction.text import CountVectorizer, TfidfTransformer\n",
        "from sklearn.model_selection import train_test_split\n",
        "from sklearn.linear_model import LinearRegression\n",
        "from sklearn.metrics import mean_squared_error\n",
        "from sklearn.naive_bayes import MultinomialNB\n",
        "from sklearn.tree import DecisionTreeRegressor\n",
        "from sklearn.svm import SVR\n",
        "from sklearn.pipeline import make_pipeline\n",
        "from sklearn.preprocessing import StandardScaler\n",
        "from transformers import BertTokenizer, RobertaTokenizer, AdamW, BertConfig\n",
        "from transformers import BertModel, BertForSequenceClassification,  RobertaModel\n",
        "from transformers import get_linear_schedule_with_warmup\n",
        "import matplotlib.pyplot as plt\n",
        "import nltk\n",
        "import codecs\n",
        "import gc"
      ],
      "execution_count": 30,
      "outputs": []
    },
    {
      "cell_type": "code",
      "metadata": {
        "id": "ov0JGF5J3BQZ",
        "colab": {
          "base_uri": "https://localhost:8080/"
        },
        "outputId": "bd7ee6e2-7cea-48bd-bb30-18363a001857"
      },
      "source": [
        "# Setting random seed and device\n",
        "use_cuda = torch.cuda.is_available()\n",
        "device = torch.device(\"cuda:0\" if use_cuda else \"cpu\")\n",
        "if use_cuda:\n",
        "  print(\"Using GPU.\")\n",
        "else:\n",
        "  print(\"Using CPU.\")\n",
        "\n",
        "def reset_seed(SEED=1):\n",
        "  torch.manual_seed(SEED)\n",
        "  torch.cuda.manual_seed(SEED)\n",
        "  torch.backends.cudnn.deterministic = True\n",
        "  np.random.seed(SEED)\n",
        "\n",
        "reset_seed()"
      ],
      "execution_count": 31,
      "outputs": [
        {
          "output_type": "stream",
          "text": [
            "Using GPU.\n"
          ],
          "name": "stdout"
        }
      ]
    },
    {
      "cell_type": "markdown",
      "metadata": {
        "id": "NvdvG84NCqiG"
      },
      "source": [
        "# Load Data"
      ]
    },
    {
      "cell_type": "code",
      "metadata": {
        "id": "9oZQFbuF3BQa",
        "colab": {
          "base_uri": "https://localhost:8080/"
        },
        "outputId": "d1ffc750-ef8b-4d31-abc9-462b90718093"
      },
      "source": [
        "# Load data\n",
        "\n",
        "!wget -O train.csv https://drive.google.com/u/0/uc?id=1UgrdjcHHZmAthjusQDAKoSqd37up-41f&export=download\n",
        "!wget -O dev.csv https://drive.google.com/u/0/uc?id=1rY6A0cN_cxAMK3aMHlTFWxhbcLFomvQL&export=download\n",
        "!wget -O test.csv https://drive.google.com/u/0/uc?id=1JBovQj-Tki8k2yJxLFxexUvs3ahrCneu&export=download\n",
        "\n",
        "train_df = pd.read_csv('./train.csv')\n",
        "test_df = pd.read_csv('./dev.csv')\n",
        "true_test_df = pd.read_csv('./test.csv')"
      ],
      "execution_count": 32,
      "outputs": [
        {
          "output_type": "stream",
          "text": [
            "--2021-03-02 13:49:05--  https://drive.google.com/u/0/uc?id=1UgrdjcHHZmAthjusQDAKoSqd37up-41f\n",
            "Resolving drive.google.com (drive.google.com)... 74.125.20.139, 74.125.20.102, 74.125.20.101, ...\n",
            "Connecting to drive.google.com (drive.google.com)|74.125.20.139|:443... connected.\n",
            "HTTP request sent, awaiting response... 302 Moved Temporarily\n",
            "Location: https://doc-00-cc-docs.googleusercontent.com/docs/securesc/ha0ro937gcuc7l7deffksulhg5h7mbp1/vf7u4gu1voud67vh5tji3h23gfevkqp0/1614692925000/13802342090854404605/*/1UgrdjcHHZmAthjusQDAKoSqd37up-41f [following]\n",
            "Warning: wildcards not supported in HTTP.\n",
            "--2021-03-02 13:49:05--  https://doc-00-cc-docs.googleusercontent.com/docs/securesc/ha0ro937gcuc7l7deffksulhg5h7mbp1/vf7u4gu1voud67vh5tji3h23gfevkqp0/1614692925000/13802342090854404605/*/1UgrdjcHHZmAthjusQDAKoSqd37up-41f\n",
            "Resolving doc-00-cc-docs.googleusercontent.com (doc-00-cc-docs.googleusercontent.com)... 74.125.195.132, 2607:f8b0:400e:c09::84\n",
            "Connecting to doc-00-cc-docs.googleusercontent.com (doc-00-cc-docs.googleusercontent.com)|74.125.195.132|:443... connected.\n",
            "HTTP request sent, awaiting response... 200 OK\n",
            "Length: 947914 (926K) [text/csv]\n",
            "Saving to: ‘train.csv’\n",
            "\n",
            "train.csv           100%[===================>] 925.70K  --.-KB/s    in 0.006s  \n",
            "\n",
            "2021-03-02 13:49:06 (156 MB/s) - ‘train.csv’ saved [947914/947914]\n",
            "\n",
            "--2021-03-02 13:49:06--  https://drive.google.com/u/0/uc?id=1rY6A0cN_cxAMK3aMHlTFWxhbcLFomvQL\n",
            "Resolving drive.google.com (drive.google.com)... 74.125.20.101, 74.125.20.102, 74.125.20.138, ...\n",
            "Connecting to drive.google.com (drive.google.com)|74.125.20.101|:443... connected.\n",
            "HTTP request sent, awaiting response... 302 Moved Temporarily\n",
            "Location: https://doc-0c-cc-docs.googleusercontent.com/docs/securesc/ha0ro937gcuc7l7deffksulhg5h7mbp1/d7safviuusdssol6cjc28v07gvuksglc/1614692925000/13802342090854404605/*/1rY6A0cN_cxAMK3aMHlTFWxhbcLFomvQL [following]\n",
            "Warning: wildcards not supported in HTTP.\n",
            "--2021-03-02 13:49:06--  https://doc-0c-cc-docs.googleusercontent.com/docs/securesc/ha0ro937gcuc7l7deffksulhg5h7mbp1/d7safviuusdssol6cjc28v07gvuksglc/1614692925000/13802342090854404605/*/1rY6A0cN_cxAMK3aMHlTFWxhbcLFomvQL\n",
            "Resolving doc-0c-cc-docs.googleusercontent.com (doc-0c-cc-docs.googleusercontent.com)... 74.125.195.132, 2607:f8b0:400e:c09::84\n",
            "Connecting to doc-0c-cc-docs.googleusercontent.com (doc-0c-cc-docs.googleusercontent.com)|74.125.195.132|:443... connected.\n",
            "HTTP request sent, awaiting response... 200 OK\n",
            "Length: 219349 (214K) [text/csv]\n",
            "Saving to: ‘dev.csv’\n",
            "\n",
            "dev.csv             100%[===================>] 214.21K  --.-KB/s    in 0.002s  \n",
            "\n",
            "2021-03-02 13:49:07 (127 MB/s) - ‘dev.csv’ saved [219349/219349]\n",
            "\n",
            "--2021-03-02 13:49:07--  https://drive.google.com/u/0/uc?id=1JBovQj-Tki8k2yJxLFxexUvs3ahrCneu\n",
            "Resolving drive.google.com (drive.google.com)... 74.125.20.101, 74.125.20.102, 74.125.20.138, ...\n",
            "Connecting to drive.google.com (drive.google.com)|74.125.20.101|:443... connected.\n",
            "HTTP request sent, awaiting response... 302 Moved Temporarily\n",
            "Location: https://doc-0c-3g-docs.googleusercontent.com/docs/securesc/ha0ro937gcuc7l7deffksulhg5h7mbp1/kldc0sorr9f87jarkrep7e7jqoffvqmg/1614692925000/04852497093446392078/*/1JBovQj-Tki8k2yJxLFxexUvs3ahrCneu [following]\n",
            "Warning: wildcards not supported in HTTP.\n",
            "--2021-03-02 13:49:08--  https://doc-0c-3g-docs.googleusercontent.com/docs/securesc/ha0ro937gcuc7l7deffksulhg5h7mbp1/kldc0sorr9f87jarkrep7e7jqoffvqmg/1614692925000/04852497093446392078/*/1JBovQj-Tki8k2yJxLFxexUvs3ahrCneu\n",
            "Resolving doc-0c-3g-docs.googleusercontent.com (doc-0c-3g-docs.googleusercontent.com)... 74.125.195.132, 2607:f8b0:400e:c09::84\n",
            "Connecting to doc-0c-3g-docs.googleusercontent.com (doc-0c-3g-docs.googleusercontent.com)|74.125.195.132|:443... connected.\n",
            "HTTP request sent, awaiting response... 200 OK\n",
            "Length: 297352 (290K) [text/csv]\n",
            "Saving to: ‘test.csv’\n",
            "\n",
            "test.csv            100%[===================>] 290.38K  --.-KB/s    in 0.002s  \n",
            "\n",
            "2021-03-02 13:49:08 (144 MB/s) - ‘test.csv’ saved [297352/297352]\n",
            "\n"
          ],
          "name": "stdout"
        }
      ]
    },
    {
      "cell_type": "markdown",
      "metadata": {
        "id": "CylH-J33qTou"
      },
      "source": [
        "# Training and Evaluation Helpers\r\n",
        "Here we have the helper functions that define the training and evaluation cycle, with specialised functions for models which require inputs other than the traditional sentence + grade input (e.g. Bert)."
      ]
    },
    {
      "cell_type": "code",
      "metadata": {
        "id": "3TCwEEwS3BQd"
      },
      "source": [
        "# We define our training loop\n",
        "def train(train_iter, dev_iter, model, number_epoch, loss_fn, optimizer, freeze=None):\n",
        "  \"\"\"\n",
        "  Training loop for the model, which calls on eval to evaluate after each epoch\n",
        "  \"\"\"\n",
        "  training_stats = []\n",
        "  print(\"Training model.\")\n",
        "\n",
        "  frozen = False\n",
        "  if (freeze != None):\n",
        "    assert (freeze > 0 and number_epoch >= freeze)\n",
        "    model.freeze_embeddings()    \n",
        "    frozen = True\n",
        "\n",
        "  for epoch in range(1, number_epoch+1):\n",
        "    model.train()\n",
        "    epoch_loss = 0\n",
        "    epoch_sse = 0\n",
        "    no_observations = 0  # Observations used for training so far\n",
        "\n",
        "    if (frozen and epoch > freeze):\n",
        "      model.unfreeze_embeddings()\n",
        "      frozen = False\n",
        "\n",
        "    for feature, target in train_iter:\n",
        "      # for RNN:\n",
        "      model.batch_size = target.shape[0]\n",
        "      no_observations = no_observations + target.shape[0]\n",
        "      model.hidden = model.init_hidden()\n",
        "\n",
        "      if torch.is_tensor(feature):\n",
        "        feature = feature.to(device)\n",
        "      if torch.is_tensor(target):\n",
        "        target  = target.to(device)\n",
        "\n",
        "      predictions = model(feature).squeeze(1)\n",
        "      optimizer.zero_grad()\n",
        "      loss = loss_fn(predictions, target)\n",
        "      sse, __ = model_performance(predictions.detach().cpu().numpy(), target.detach().cpu().numpy())\n",
        "      loss.backward()\n",
        "      optimizer.step()\n",
        "\n",
        "      epoch_loss += loss.item()*target.shape[0]\n",
        "      epoch_sse += sse\n",
        "\n",
        "      loss = loss.detach().cpu().item()\n",
        "      del loss\n",
        "      gc.collect()\n",
        "\n",
        "    valid_loss, valid_mse, __, __ = eval(dev_iter, model, loss_fn)\n",
        "    epoch_loss, epoch_mse = epoch_loss / no_observations, epoch_sse / no_observations\n",
        "\n",
        "    print('| Epoch: %.2d | Train Loss: %.4f | Train RMSE: %.4f | Val. Loss: %.4f | Val. RMSE: %.4f |' % (\n",
        "      epoch, epoch_loss, epoch_mse**0.5, valid_loss, valid_mse**0.5\n",
        "    ))\n",
        "\n",
        "    training_stats.append({\n",
        "            'epoch': epoch,\n",
        "            'train_loss': epoch_loss,\n",
        "            'train_rmse': epoch_mse**0.5,\n",
        "            'val_loss': valid_loss,\n",
        "            'val_rmse': valid_mse**0.5\n",
        "    })\n",
        "\n",
        "  return training_stats"
      ],
      "execution_count": 33,
      "outputs": []
    },
    {
      "cell_type": "code",
      "metadata": {
        "id": "6zIJcnrbRzhg"
      },
      "source": [
        "# Used to get predictions for evaluation\r\n",
        "def get_predictions(test_iter, model):\r\n",
        "  \"\"\"\r\n",
        "  Training loop for the model, which calls on eval to evaluate after each epoch\r\n",
        "  \"\"\"\r\n",
        "\r\n",
        "  preds = np.array([])\r\n",
        "  pred_ids = np.array([])\r\n",
        "  model.eval()\r\n",
        "  for feature, ids in test_iter:\r\n",
        "    # for RNN:\r\n",
        "    model.batch_size = ids.shape[0]\r\n",
        "    model.hidden = model.init_hidden()\r\n",
        "\r\n",
        "    if torch.is_tensor(feature):\r\n",
        "        feature = feature.to(device)\r\n",
        "    predictions = model(feature).squeeze(1)\r\n",
        "    preds = np.concatenate((preds, predictions.detach().cpu().numpy()))\r\n",
        "    pred_ids = np.concatenate((pred_ids, ids.detach().cpu().numpy()))\r\n",
        "\r\n",
        "  return np.array(preds), np.array(pred_ids)"
      ],
      "execution_count": 34,
      "outputs": []
    },
    {
      "cell_type": "code",
      "metadata": {
        "id": "EJeBxYW93BQd"
      },
      "source": [
        "# We evaluate performance on our dev set\n",
        "def eval(data_iter, model, loss_fn):\n",
        "  \"\"\"\n",
        "  Evaluating model performance on the dev set\n",
        "  \"\"\"\n",
        "  model.eval()\n",
        "  epoch_loss = 0\n",
        "  epoch_sse = 0\n",
        "  pred_all = []\n",
        "  trg_all = []\n",
        "  no_observations = 0\n",
        "\n",
        "  with torch.no_grad():\n",
        "    for batch in data_iter:\n",
        "      feature, target = batch\n",
        "      if torch.is_tensor(feature):\n",
        "        feature = feature.to(device)\n",
        "      if torch.is_tensor(target):\n",
        "        target  = target.to(device)\n",
        "\n",
        "      # for RNN:\n",
        "      model.batch_size = target.shape[0]\n",
        "      no_observations = no_observations + target.shape[0]\n",
        "      model.hidden = model.init_hidden()\n",
        "\n",
        "      predictions = model(feature).squeeze(1)\n",
        "      loss = loss_fn(predictions, target)\n",
        "\n",
        "      # We get the mse\n",
        "      pred, trg = predictions.detach().cpu().numpy(), target.detach().cpu().numpy()\n",
        "      sse, __ = model_performance(pred, trg)\n",
        "\n",
        "      epoch_loss += loss.item()*target.shape[0]\n",
        "      epoch_sse += sse\n",
        "      pred_all.extend(pred)\n",
        "      trg_all.extend(trg)\n",
        "\n",
        "  return epoch_loss/no_observations, epoch_sse/no_observations, np.array(pred_all), np.array(trg_all)"
      ],
      "execution_count": 35,
      "outputs": []
    },
    {
      "cell_type": "code",
      "metadata": {
        "id": "gO4PMTUl3BQd"
      },
      "source": [
        "# How we print the model performance\n",
        "def model_performance(output, target, print_output=False):\n",
        "  \"\"\"\n",
        "  Returns SSE and MSE per batch (printing the MSE and the RMSE)\n",
        "  \"\"\"\n",
        "  sq_error = (output - target)**2\n",
        "  sse = np.sum(sq_error)\n",
        "  mse = np.mean(sq_error)\n",
        "  rmse = np.sqrt(mse)\n",
        "\n",
        "  if print_output:\n",
        "    print(f'| MSE: {mse:.2f} | RMSE: {rmse:.2f} |')\n",
        "\n",
        "  return sse, mse"
      ],
      "execution_count": 36,
      "outputs": []
    },
    {
      "cell_type": "code",
      "metadata": {
        "id": "GAFZTY7WZ2hY"
      },
      "source": [
        "from gensim.models import Word2Vec\r\n",
        "import multiprocessing\r\n",
        "\r\n",
        "# Train our own word embedding\r\n",
        "def train_word_embedding(sentences, e_dim=100, window=5, negative=15, iter=10, workers=multiprocessing.cpu_count()):\r\n",
        "  return Word2Vec(sentences, size=e_dim, window=5, negative=15, iter=10, workers=multiprocessing.cpu_count())"
      ],
      "execution_count": 37,
      "outputs": []
    },
    {
      "cell_type": "code",
      "metadata": {
        "id": "dU9eB_qn0q-e"
      },
      "source": [
        "def score_task_1(truth_loc, prediction_loc):\r\n",
        "    truth = pd.read_csv(truth_loc, usecols=['id','meanGrade'])\r\n",
        "    pred = pd.read_csv(prediction_loc, usecols=['id','pred'])\r\n",
        "\r\n",
        "    assert(sorted(truth.id) == sorted(pred.id)),\"ID mismatch between ground truth and prediction!\"\r\n",
        "    \r\n",
        "    data = pd.merge(truth,pred)\r\n",
        "    rmse = np.sqrt(np.mean((data['meanGrade'] - data['pred'])**2))\r\n",
        "    \r\n",
        "    print(\"RMSE = %.3f\" % rmse)"
      ],
      "execution_count": 38,
      "outputs": []
    },
    {
      "cell_type": "markdown",
      "metadata": {
        "id": "3UWJ9Z96uay3"
      },
      "source": [
        "# Helper Functions\r\n",
        "\r\n",
        "Helper functions for preprocessing or during model training."
      ]
    },
    {
      "cell_type": "code",
      "metadata": {
        "id": "dkYFRpHt3BQe"
      },
      "source": [
        "def create_vocab(data):\n",
        "  \"\"\"\n",
        "  Creating a corpus of all the tokens used\n",
        "  \"\"\"\n",
        "  tokenized_corpus = [] # Let us put the tokenized corpus in a list\n",
        "\n",
        "  for sentence in data:\n",
        "    tokenized_sentence = []\n",
        "\n",
        "    for token in sentence.split(' '): # simplest split is\n",
        "      tokenized_sentence.append(token)\n",
        "\n",
        "    tokenized_corpus.append(tokenized_sentence)\n",
        "\n",
        "  # Create single list of all vocabulary\n",
        "  vocabulary = []  # Let us put all the tokens (mostly words) appearing in the vocabulary in a list\n",
        "\n",
        "  for sentence in tokenized_corpus:\n",
        "    for token in sentence:\n",
        "      if token not in vocabulary:\n",
        "          vocabulary.append(token)\n",
        "\n",
        "  return vocabulary, tokenized_corpus"
      ],
      "execution_count": 39,
      "outputs": []
    },
    {
      "cell_type": "code",
      "metadata": {
        "id": "tu_7IziNqAPQ"
      },
      "source": [
        "def get_sentences(df, og_label='original', edit_label='edit'):\r\n",
        "  \"\"\"\r\n",
        "  Extract the original and new sentences + words from a dataframe\r\n",
        "  \"\"\"\r\n",
        "  p = r\"<(.*)\\/>\"\r\n",
        "  replace_regex = re.compile(p)\r\n",
        "  og_word = []\r\n",
        "  new_word = []\r\n",
        "  og_sentences = []\r\n",
        "  new_sentences = []\r\n",
        "\r\n",
        "  for s, w in df[[og_label, edit_label]].itertuples(index=False,name=None):\r\n",
        "    tokens = s.split(' ') # For each sentence get the words\r\n",
        "    m = replace_regex.search(str(s)) # Get the word to replace\r\n",
        "\r\n",
        "    assert not m is None # Couldn't regex match the replacement word\r\n",
        "\r\n",
        "    og_word.append(m.group(1))\r\n",
        "    new_word.append(w)\r\n",
        "    og_sentences.append(replace_regex.sub( m.group(1), s))\r\n",
        "    new_sentences.append(replace_regex.sub(w, s))\r\n",
        "  \r\n",
        "  return og_sentences, new_sentences, og_word, new_word\r\n"
      ],
      "execution_count": 40,
      "outputs": []
    },
    {
      "cell_type": "code",
      "metadata": {
        "id": "T_xUhSV43BQe"
      },
      "source": [
        "def softmax_mask(batch, mask):\n",
        "    normalizing_mask = torch.Tensor([[float('-inf') if token == 0 else 0 for token in entry] for entry in mask]).to(device)\n",
        "    return torch.nn.functional.softmax(batch + normalizing_mask, dim=-1)\n",
        "\n",
        "def padd_mask(batch):\n",
        "    return torch.Tensor([[0 if token == 0 else 1 for token in entry] for entry in batch]).to(device)\n",
        "\n",
        "def collate_fn_padd(batch):\n",
        "  '''\n",
        "  We add padding to our minibatches and create tensors for our model\n",
        "  '''\n",
        "  batch_labels = [l for f, l in batch]\n",
        "  batch_features = [f for f, l in batch]\n",
        "  batch_features_len = [len(f) for f, l in batch]\n",
        "  seq_tensor = torch.zeros((len(batch), max(batch_features_len))).long()\n",
        "\n",
        "  for idx, (seq, seqlen) in enumerate(zip(batch_features, batch_features_len)):\n",
        "    seq_tensor[idx, :seqlen] = torch.LongTensor(seq)\n",
        "\n",
        "  batch_labels = torch.FloatTensor(batch_labels)\n",
        "  return seq_tensor, batch_labels\n",
        "\n",
        "class Task1Dataset(Dataset):\n",
        "  def __init__(self, train_data, labels):\n",
        "    self.x_train = train_data\n",
        "    self.y_train = labels\n",
        "\n",
        "  def __len__(self):\n",
        "    return len(self.y_train)\n",
        "\n",
        "  def __getitem__(self, item):\n",
        "    return self.x_train[item], self.y_train[item]\n",
        "\n",
        "def collate_fn_padd_features(batch):\n",
        "  '''\n",
        "  We add padding to our minibatches and create tensors for our model\n",
        "  '''\n",
        "  batch_features = [f for f in batch]\n",
        "  batch_features_len = [len(f) for f in batch]\n",
        "  seq_tensor = torch.zeros((len(batch), max(batch_features_len)), dtype=torch.long)\n",
        "\n",
        "  for idx, (seq, seqlen) in enumerate(zip(batch_features, batch_features_len)):\n",
        "    seq_tensor[idx, :seqlen] = torch.LongTensor(seq)\n",
        "\n",
        "  return seq_tensor\n",
        "\n",
        "def collate_fn_padd_labels(batch):\n",
        "  '''\n",
        "  We add padding to our minibatches and create tensors for our model\n",
        "  '''\n",
        "  sequences = [f for f, l in batch]\n",
        "  batch_labels = torch.FloatTensor([l for f, l in batch])\n",
        "  return sequences, batch_labels"
      ],
      "execution_count": 41,
      "outputs": []
    },
    {
      "cell_type": "code",
      "metadata": {
        "id": "Y6I-3E_ev3sd"
      },
      "source": [
        "def encode_edited(edited_sentence, grades, tokenizer):\r\n",
        "  encoded_data = []\r\n",
        "  attention_data = []\r\n",
        "\r\n",
        "  for sentence in edited_sentence:\r\n",
        "    encoded = tokenizer.encode_plus(sentence)\r\n",
        "    encoded_data.append(encoded['input_ids'])\r\n",
        "\r\n",
        "  # Split train dataset to train and validation sets\r\n",
        "  train_val_dataset = Task1Dataset(encoded_data, grades)\r\n",
        "\r\n",
        "  num_train = round(len(train_val_dataset) * train_proportion)\r\n",
        "  num_val = len(train_val_dataset) - num_train\r\n",
        "  train_dataset, val_dataset = random_split(train_val_dataset, (num_train, num_val))\r\n",
        "\r\n",
        "  # Create dataloaders from the tokenised embeddings\r\n",
        "  train_dataloader = DataLoader(train_dataset, shuffle=True, batch_size=batch_size, collate_fn=collate_fn_padd)\r\n",
        "  val_dataloader = DataLoader(val_dataset, batch_size=batch_size, collate_fn=collate_fn_padd)\r\n",
        "\r\n",
        "  return train_dataloader, val_dataloader\r\n",
        "\r\n",
        "def encode_both(og_sentence, edited_sentence, grades, tokenizer):\r\n",
        "  encoded_data = []\r\n",
        "  attention_data = []\r\n",
        "\r\n",
        "  for og, new in zip(og_sentence, edited_sentence):\r\n",
        "    encoded = tokenizer.encode_plus(og, text_pair=new)\r\n",
        "    encoded_data.append(encoded['input_ids'])\r\n",
        "\r\n",
        "  # Split train dataset to train and validation sets\r\n",
        "  train_val_dataset = Task1Dataset(encoded_data, grades)\r\n",
        "\r\n",
        "  num_train = round(len(train_val_dataset) * train_proportion)\r\n",
        "  num_val = len(train_val_dataset) - num_train\r\n",
        "  train_dataset, val_dataset = random_split(train_val_dataset, (num_train, num_val))\r\n",
        "\r\n",
        "  # Create dataloaders from the tokenised embeddings\r\n",
        "  train_dataloader = DataLoader(train_dataset, shuffle=True, batch_size=batch_size, collate_fn=collate_fn_padd)\r\n",
        "  val_dataloader = DataLoader(val_dataset, shuffle=True, batch_size=batch_size, collate_fn=collate_fn_padd)\r\n",
        "\r\n",
        "  return train_dataloader, val_dataloader"
      ],
      "execution_count": 42,
      "outputs": []
    },
    {
      "cell_type": "code",
      "metadata": {
        "id": "CGu9dgOTPTUa"
      },
      "source": [
        "# Get average word length of edited sentence.\r\n",
        "def avg_word(sentence):\r\n",
        "  words = sentence.split()\r\n",
        "  return (sum(len(word) for word in words)/len(words))"
      ],
      "execution_count": 43,
      "outputs": []
    },
    {
      "cell_type": "code",
      "metadata": {
        "id": "NJuXczVTryAW"
      },
      "source": [
        "# Creates the vectorized sequences from our training corpus data\r\n",
        "def get_word_vecs_dicts(joint_vocab, train_tokenized_corpus, word_vec=None, filename=None):\r\n",
        "  # Either word_vec or filename must be defined\r\n",
        "  assert not (filename is None and word_vec is None)\r\n",
        "\r\n",
        "  wvecs = []\r\n",
        "  word2idx = []\r\n",
        "  idx2word = []\r\n",
        "  index = 1\r\n",
        "\r\n",
        "  if filename is None:\r\n",
        "    for word in joint_vocab:\r\n",
        "      if word in word_vec.vocab:\r\n",
        "        vec = word_vec[word]\r\n",
        "        wvecs.append(vec)\r\n",
        "        word2idx.append((word, index))\r\n",
        "        idx2word.append((index, word))\r\n",
        "        index += 1\r\n",
        "  else:\r\n",
        "    with codecs.open(filename, 'r','utf-8') as f:\r\n",
        "      for line in f.readlines():\r\n",
        "        # Ignore the first line - first line typically contains vocab, dimensionality\r\n",
        "        if len(line.strip().split()) > 3:\r\n",
        "          word = line.strip().split()[0]\r\n",
        "          if word in joint_vocab:\r\n",
        "            (word, vec) = (word, list(map(float, line.strip().split()[1:])))\r\n",
        "            wvecs.append(vec)\r\n",
        "            word2idx.append((word, index))\r\n",
        "            idx2word.append((index, word))\r\n",
        "            index += 1\r\n",
        "\r\n",
        "  wvecs = np.array(wvecs)\r\n",
        "  word2idx = dict(word2idx)\r\n",
        "  idx2word = dict(idx2word)\r\n",
        "  cur_len = len(word2idx)\r\n",
        "  vectorized_seqs = [[word2idx[tok] for tok in seq if tok in word2idx] for seq in training_tokenized_corpus]\r\n",
        "\r\n",
        "  # To avoid any sentences being empty (if no words match to our word embeddings)\r\n",
        "  vectorized_seqs = [x if len(x) > 0 else [0] for x in vectorized_seqs]\r\n",
        "\r\n",
        "  return wvecs, vectorized_seqs, cur_len"
      ],
      "execution_count": 44,
      "outputs": []
    },
    {
      "cell_type": "code",
      "metadata": {
        "id": "5EjaYNSlle2h"
      },
      "source": [
        "def encode_wvecs(vec_seqs, grades):\r\n",
        "  # Create the dataset from vectorised sequences\r\n",
        "  train_and_val = Task1Dataset(vec_seqs, grades)\r\n",
        "\r\n",
        "  # Split based on the train_proportion hyperparameter\r\n",
        "  train_examples = round(len(train_and_val) * train_proportion)\r\n",
        "  val_examples = len(train_and_val) - train_examples\r\n",
        "  train_dataset, val_dataset = random_split(train_and_val, (train_examples, val_examples))\r\n",
        "\r\n",
        "  train_loader = torch.utils.data.DataLoader(train_dataset, shuffle=True, batch_size=batch_size, collate_fn=collate_fn_padd)\r\n",
        "  val_loader = torch.utils.data.DataLoader(val_dataset, batch_size=batch_size, collate_fn=collate_fn_padd)\r\n",
        "\r\n",
        "  return train_loader, val_loader"
      ],
      "execution_count": 45,
      "outputs": []
    },
    {
      "cell_type": "markdown",
      "metadata": {
        "id": "bdC_r9kcbqnZ"
      },
      "source": [
        "# Models\r\n",
        "\r\n",
        "Below are the model architectures that was at some point part of the testing of the code."
      ]
    },
    {
      "cell_type": "code",
      "metadata": {
        "id": "A9nQpept3BQg"
      },
      "source": [
        "# Skeleton BiLSTM model\n",
        "class BiLSTM(nn.Module):\n",
        "  def __init__(self, embedding_dim, hidden_dim, vocab_size, batch_size, device):\n",
        "    super(BiLSTM, self).__init__()\n",
        "    self.hidden_dim = hidden_dim\n",
        "    self.embedding_dim = embedding_dim\n",
        "    self.device = device\n",
        "    self.batch_size = batch_size\n",
        "    self.embedding = nn.Embedding(vocab_size, embedding_dim, padding_idx=0)\n",
        "\n",
        "    # The LSTM takes word embeddings as inputs, and outputs hidden states\n",
        "    # with dimensionality hidden_dim.\n",
        "    self.lstm = nn.LSTM(embedding_dim, hidden_dim, bidirectional=True)\n",
        "\n",
        "    # The linear layer that maps from hidden state space to tag space\n",
        "    self.hidden2label = nn.Linear(hidden_dim * 2, 1)\n",
        "    self.hidden = self.init_hidden()\n",
        "\n",
        "  def init_hidden(self):\n",
        "    # Before we've done anything, we dont have any hidden state.\n",
        "    # Refer to the Pytorch documentation to see exactly why they have this dimensionality.\n",
        "    # The axes semantics are (num_layers * num_directions, minibatch_size, hidden_dim)\n",
        "    return torch.zeros(2, self.batch_size, self.hidden_dim).to(self.device), \\\n",
        "            torch.zeros(2, self.batch_size, self.hidden_dim).to(self.device)\n",
        "\n",
        "  def forward(self, sentence):\n",
        "    embedded = self.embedding(sentence)\n",
        "    embedded = embedded.permute(1, 0, 2)\n",
        "\n",
        "    lstm_out, self.hidden = self.lstm(\n",
        "        embedded.view(len(embedded), self.batch_size, self.embedding_dim), self.hidden)\n",
        "\n",
        "    out = self.hidden2label(lstm_out[-1])\n",
        "    return out"
      ],
      "execution_count": 46,
      "outputs": []
    },
    {
      "cell_type": "code",
      "metadata": {
        "id": "CaRo-Ma1b62N"
      },
      "source": [
        "# RoBERTa\r\n",
        "class RoBERTa(nn.Module):\r\n",
        "  def __init__(self, embedding_dim, hidden_dim, batch_size, device, \r\n",
        "               roberta_pretrained='roberta-base', output_hidden=False):\r\n",
        "    super(RoBERTa, self).__init__()\r\n",
        "    self.hidden_dim = hidden_dim\r\n",
        "    self.embedding_dim = embedding_dim\r\n",
        "    self.device = device\r\n",
        "    self.batch_size = batch_size\r\n",
        "    self.roberta = RobertaModel.from_pretrained(roberta_pretrained)\r\n",
        "    self.output_hidden = output_hidden\r\n",
        "    self.output_len = hidden_dim * 2 if output_hidden else 1\r\n",
        "\r\n",
        "    # The LSTM takes word embeddings as inputs, and outputs hidden states with hidden_dim dimensions\r\n",
        "    self.lstm = nn.LSTM(embedding_dim, hidden_dim, bidirectional=True, batch_first=True)\r\n",
        "    self.hidden2label = nn.Linear(hidden_dim * 2, 1)\r\n",
        "    self.hidden = self.init_hidden()\r\n",
        "\r\n",
        "    # Attention Layer?\r\n",
        "    self.attn_linear = nn.Linear(hidden_dim * 2, 1)\r\n",
        "\r\n",
        "  def freeze_embeddings(self):\r\n",
        "        for param in self.roberta.base_model.parameters():\r\n",
        "            param.requires_grad = False\r\n",
        "\r\n",
        "  def unfreeze_embeddings(self):\r\n",
        "      for param in self.roberta.base_model.parameters():\r\n",
        "          param.requires_grad = True\r\n",
        "\r\n",
        "  def init_hidden(self):\r\n",
        "    # The axes semantics are (num_layers * num_directions, minibatch_size, hidden_dim)\r\n",
        "    return torch.zeros(2, self.batch_size, self.hidden_dim).to(self.device), \\\r\n",
        "            torch.zeros(2, self.batch_size, self.hidden_dim).to(self.device)\r\n",
        "\r\n",
        "  # Run this or directly define the tokenizer attribute\r\n",
        "  def init_preprocess(self, tokenizer):\r\n",
        "    self.tokenizer = tokenizer\r\n",
        "\r\n",
        "  # Used for multimodel sentence parsing\r\n",
        "  def preprocess(self):\r\n",
        "    \r\n",
        "    # Assume sentences come in the form of (batch_size x sentences)\r\n",
        "    def encode_batch(sentences):\r\n",
        "      return collate_fn_padd_features(list(map(self.tokenizer.encode, sentences))).to(device)\r\n",
        "\r\n",
        "    return encode_batch\r\n",
        "\r\n",
        "  def get_embedded(self, sentence, grad=True):\r\n",
        "    mask = (sentence != 0).type(torch.long)\r\n",
        "    # Run the text through BERT, and collect all of the hidden states produced from all 12 layers\r\n",
        "    if grad:\r\n",
        "      # The last hidden-state is the first element of the output tuple\r\n",
        "      out = self.roberta(sentence, mask)\r\n",
        "      if 'last_hidden_state' in out:\r\n",
        "        last_hidden_states = out['last_hidden_state']\r\n",
        "      elif 'hidden_states' in out:\r\n",
        "        last_hidden_states = out['hidden_states'][-1]\r\n",
        "      else:\r\n",
        "        # Couldn't extract hidden state\r\n",
        "        assert False\r\n",
        "    else:\r\n",
        "      with torch.no_grad():\r\n",
        "        out = self.roberta(sentence, mask)\r\n",
        "        if 'last_hidden_state' in out:\r\n",
        "          last_hidden_states = out['last_hidden_state']\r\n",
        "        elif 'hidden_states' in out:\r\n",
        "          last_hidden_states = out['hidden_states'][-1]\r\n",
        "        else:\r\n",
        "          # Couldn't extract hidden state\r\n",
        "          assert False\r\n",
        "\r\n",
        "    return last_hidden_states.type(torch.float32)\r\n",
        "\r\n",
        "  def forward(self, sentence):\r\n",
        "    mask = (sentence != 0).type(torch.long)\r\n",
        "    # Get word embeddings. BERT base gives us 768 hidden parameters for each word.\r\n",
        "    embedded = self.get_embedded(sentence) # (batch_size, max_len)\r\n",
        "\r\n",
        "    # (max_len, batch_size, 768) -> (batch_size, max_len, directions * hidden_dim)\r\n",
        "    lstm_out, self.hidden = self.lstm(embedded, self.hidden)\r\n",
        "\r\n",
        "    # Attention Mechanism\r\n",
        "    # Get similarity using DOT attention (i think)\r\n",
        "    # (batch_size, max_len, directions * hidden_dim) -> (batch_size, max_len)\r\n",
        "    att_out = self.attn_linear(lstm_out).squeeze(-1)\r\n",
        "    # Get the attention weights for each token in a sentence (batch_size)\r\n",
        "    # (batch_size, max_len) -> (batch_size, max_len)\r\n",
        "    # att_out = torch.nn.functional.softmax(att_out, dim=-1)\r\n",
        "    att_out = softmax_mask(att_out, mask)\r\n",
        "    # Get sentence vector which is a weighted sum of token hidden states\r\n",
        "    # (batch_size, max_len) -> (batch_size, directions * hidden_dim)\r\n",
        "    att_out = torch.sum(att_out.unsqueeze(-1) * lstm_out, dim=1)\r\n",
        "\r\n",
        "    # out = self.hidden2label(lstm_out[-1])\r\n",
        "    return att_out if self.output_hidden else self.hidden2label(att_out)"
      ],
      "execution_count": 47,
      "outputs": []
    },
    {
      "cell_type": "code",
      "metadata": {
        "id": "8z94C03CgV7h"
      },
      "source": [
        "# Bert\r\n",
        "class BERT(nn.Module):\r\n",
        "  def __init__(self, embedding_dim, hidden_dim, batch_size, device, \r\n",
        "               bert_model=None, bert_pretrained='bert-base-uncased', output_hidden=False):\r\n",
        "    super(BERT, self).__init__()\r\n",
        "    self.hidden_dim = hidden_dim\r\n",
        "    self.embedding_dim = embedding_dim\r\n",
        "    self.device = device\r\n",
        "    self.batch_size = batch_size\r\n",
        "    self.bert = BertModel.from_pretrained(bert_pretrained).to(device) if bert_model == None else bert_model\r\n",
        "    self.output_hidden = output_hidden\r\n",
        "    self.output_len = hidden_dim * 2 if output_hidden else 1\r\n",
        "\r\n",
        "    # The LSTM takes word embeddings as inputs, and outputs hidden states with hidden_dim dimensions\r\n",
        "    self.lstm = nn.LSTM(embedding_dim, hidden_dim, bidirectional=True, batch_first=True)\r\n",
        "    self.hidden2label = nn.Linear(hidden_dim * 2, 1)\r\n",
        "    self.hidden = self.init_hidden()\r\n",
        "\r\n",
        "    # Attention Layer?\r\n",
        "    self.attn_linear = nn.Linear(hidden_dim * 2, 1)\r\n",
        "\r\n",
        "  def freeze_embeddings(self):\r\n",
        "        for param in self.bert.base_model.parameters():\r\n",
        "            param.requires_grad = False\r\n",
        "\r\n",
        "  def unfreeze_embeddings(self):\r\n",
        "      for param in self.bert.base_model.parameters():\r\n",
        "          param.requires_grad = True\r\n",
        "\r\n",
        "  def init_hidden(self):\r\n",
        "    # The axes semantics are (num_layers * num_directions, minibatch_size, hidden_dim)\r\n",
        "    return torch.zeros(2, self.batch_size, self.hidden_dim).to(self.device), \\\r\n",
        "            torch.zeros(2, self.batch_size, self.hidden_dim).to(self.device)\r\n",
        "\r\n",
        "  # Run this or directly define the tokenizer attribute\r\n",
        "  def init_preprocess(self, tokenizer):\r\n",
        "    self.tokenizer = tokenizer\r\n",
        "\r\n",
        "  # Used for multimodel sentence parsing\r\n",
        "  def preprocess(self):\r\n",
        "    \r\n",
        "    # Assume sentences come in the form of (batch_size x sentences)\r\n",
        "    def encode_batch(sentences):\r\n",
        "      return collate_fn_padd_features(list(map(self.tokenizer.encode, sentences))).to(device)\r\n",
        "\r\n",
        "    return encode_batch\r\n",
        "\r\n",
        "  def get_embedded(self, sentence, grad=True):\r\n",
        "    mask = (sentence != 0).type(torch.long)\r\n",
        "    # Run the text through BERT, and collect all of the hidden states produced from all 12 layers\r\n",
        "    if grad:\r\n",
        "      # The last hidden-state is the first element of the output tuple\r\n",
        "      out = self.bert(sentence, mask)\r\n",
        "      if 'last_hidden_state' in out:\r\n",
        "        last_hidden_states = out['last_hidden_state']\r\n",
        "      elif 'hidden_states' in out:\r\n",
        "        last_hidden_states = out['hidden_states'][-1]\r\n",
        "      else:\r\n",
        "        # Couldn't extract hidden state\r\n",
        "        assert False\r\n",
        "    else:\r\n",
        "      with torch.no_grad():\r\n",
        "        out = self.bert(sentence, mask)\r\n",
        "        if 'last_hidden_state' in out:\r\n",
        "          last_hidden_states = out['last_hidden_state']\r\n",
        "        elif 'hidden_states' in out:\r\n",
        "          last_hidden_states = out['hidden_states'][-1]\r\n",
        "        else:\r\n",
        "          # Couldn't extract hidden state\r\n",
        "          assert False\r\n",
        "\r\n",
        "    return last_hidden_states.type(torch.float32)\r\n",
        "\r\n",
        "  def forward(self, sentence):\r\n",
        "    mask = (sentence != 0).type(torch.long)\r\n",
        "    # Get word embeddings. BERT base gives us 768 hidden parameters for each word.\r\n",
        "    embedded = self.get_embedded(sentence) # (batch_size, max_len)\r\n",
        "\r\n",
        "    # (max_len, batch_size, 768) -> (batch_size, max_len, directions * hidden_dim)\r\n",
        "    lstm_out, self.hidden = self.lstm(embedded, self.hidden)\r\n",
        "\r\n",
        "    # Attention Mechanism\r\n",
        "    # Get similarity using DOT attention (i think)\r\n",
        "    # (batch_size, max_len, directions * hidden_dim) -> (batch_size, max_len)\r\n",
        "    att_out = self.attn_linear(lstm_out).squeeze(-1)\r\n",
        "    # Get the attention weights for each token in a sentence (batch_size)\r\n",
        "    # (batch_size, max_len) -> (batch_size, max_len)\r\n",
        "    # att_out = torch.nn.functional.softmax(att_out, dim=-1)\r\n",
        "    att_out = softmax_mask(att_out, mask)\r\n",
        "    # Get sentence vector which is a weighted sum of token hidden states\r\n",
        "    # (batch_size, max_len) -> (batch_size, directions * hidden_dim)\r\n",
        "    att_out = torch.sum(att_out.unsqueeze(-1) * lstm_out, dim=1)\r\n",
        "    \r\n",
        "    # out = self.hidden2label(lstm_out[-1])\r\n",
        "    return att_out if self.output_hidden else self.hidden2label(att_out)"
      ],
      "execution_count": 48,
      "outputs": []
    },
    {
      "cell_type": "code",
      "metadata": {
        "id": "ODOdGheoeksf"
      },
      "source": [
        "# Parallel Multi-model implementation\r\n",
        "class MultiModel(nn.Module):\r\n",
        "  def __init__(self, models, hidden_inits, batch_size, output_dims):\r\n",
        "    '''\r\n",
        "    A Wrapper which takes multiple models and gets their concatenated linearly transformed results\r\n",
        "\r\n",
        "    Inputs:\r\n",
        "    models (dict) -> key : model name (string), values : (nn.Module) model (with forward)\r\n",
        "    hidden_inits (list) -> List of model names where init_hidden is required\r\n",
        "    preprocess (dict) -> key : model name (string), values : (string -> token array) model's encoder for the sentence\r\n",
        "    '''\r\n",
        "    super(MultiModel, self).__init__()\r\n",
        "    self.models = models\r\n",
        "    self.hidden_inits = hidden_inits\r\n",
        "    self.linear2label = nn.Linear(output_dims, 1)\r\n",
        "    self.batch_size = batch_size\r\n",
        "\r\n",
        "    # Requires the preprocess function which tokenizes a raw sentence to tokens\r\n",
        "    for m in models.values():\r\n",
        "      assert hasattr(m, 'preprocess')\r\n",
        "\r\n",
        "  # For RNNs, init hiddens\r\n",
        "  def init_hidden(self):\r\n",
        "    for m in self.hidden_inits:\r\n",
        "      self.models[m].batch_size = self.batch_size\r\n",
        "      self.models[m].hidden = self.models[m].init_hidden()\r\n",
        "\r\n",
        "  def forward(self, sentence):\r\n",
        "    out_cat = []\r\n",
        "\r\n",
        "    for m in self.models.values():\r\n",
        "      encoded = m.preprocess()(sentence)\r\n",
        "      preds = m(encoded)\r\n",
        "      out_cat.append(preds)\r\n",
        "\r\n",
        "    out = torch.cat(out_cat, dim=1)\r\n",
        "    out = self.linear2label(out)\r\n",
        "    return out"
      ],
      "execution_count": 49,
      "outputs": []
    },
    {
      "cell_type": "markdown",
      "metadata": {
        "id": "VnJse9uFu8UH"
      },
      "source": [
        "# Initialisation + Preprocessing\r\n",
        "Prepare the data for training, assign hyperparameters, initialise the models."
      ]
    },
    {
      "cell_type": "code",
      "metadata": {
        "id": "lNTcGaIaJ63d"
      },
      "source": [
        "# Hyperparameters\r\n",
        "bert_type = 'bert-base-uncased'\r\n",
        "rob_type  = 'roberta-base'\r\n",
        "pad_len = 64\r\n",
        "\r\n",
        "e_dim = 768\r\n",
        "h_dim = 50\r\n",
        "\r\n",
        "batch_size = 32\r\n",
        "train_proportion = 0.8"
      ],
      "execution_count": 50,
      "outputs": []
    },
    {
      "cell_type": "markdown",
      "metadata": {
        "id": "f5xb_8Xufqqx"
      },
      "source": [
        "#### Extract and parse the edited words and sentences"
      ]
    },
    {
      "cell_type": "code",
      "metadata": {
        "id": "6GWcu5MufqLa"
      },
      "source": [
        "# Parse training and test data to tuple of original sentences, new sentences, etc.\r\n",
        "x_og, x_new, x_og_word, x_new_word = get_sentences(train_df)\r\n",
        "y_og, y_new, y_og_word, y_new_word = get_sentences(test_df)\r\n",
        "x_grades = train_df['meanGrade']\r\n",
        "\r\n",
        "# Insert these new sentences into the dataframe\r\n",
        "train_df['editedSentence'] = x_new\r\n",
        "train_df['replaceWord'] = x_og_word\r\n",
        "test_df['editedSentence'] = y_new\r\n",
        "test_df['replaceWord'] = y_og_word"
      ],
      "execution_count": 51,
      "outputs": []
    },
    {
      "cell_type": "markdown",
      "metadata": {
        "id": "PUKGivqVr7kA"
      },
      "source": [
        "### Prepare Bert and RoBerta specfic Preprocessing"
      ]
    },
    {
      "cell_type": "code",
      "metadata": {
        "id": "DPzQbQazzoey"
      },
      "source": [
        "# Get Tokenizer for preprocessing\r\n",
        "bert_tokenizer = BertTokenizer.from_pretrained(bert_type, do_lower_case=True)\r\n",
        "rob_tokenizer = RobertaTokenizer.from_pretrained(rob_type, do_lower_case=True)\r\n",
        "\r\n",
        "# Get the dataloaders\r\n",
        "bert_single_train_loader, bert_single_val_loader = encode_edited(x_new, x_grades, bert_tokenizer)\r\n",
        "bert_both_train_loader, bert_both_val_loader = encode_both(x_og, x_new, x_grades, bert_tokenizer)\r\n",
        "robert_single_train_loader, robert_single_val_loader = encode_edited(x_new, x_grades, rob_tokenizer)\r\n",
        "robert_both_train_loader, robert_both_val_loader = encode_both(x_og, x_new, x_grades, rob_tokenizer)"
      ],
      "execution_count": 52,
      "outputs": []
    },
    {
      "cell_type": "markdown",
      "metadata": {
        "id": "r87Ra9hmO0MT"
      },
      "source": [
        "### Prepare Feature Extraction"
      ]
    },
    {
      "cell_type": "code",
      "metadata": {
        "id": "tPgvPodJPJLh",
        "colab": {
          "base_uri": "https://localhost:8080/"
        },
        "outputId": "d09c4f58-0c6a-4eae-ea5b-df918eceb513"
      },
      "source": [
        "import nltk\r\n",
        "nltk.download('stopwords')\r\n",
        "from nltk.corpus import stopwords\r\n",
        "stop = stopwords.words('english')\r\n",
        "\r\n",
        "def avg_word(sentence):\r\n",
        "  words = sentence.split()\r\n",
        "  return (sum(len(word) for word in words)/len(words))\r\n",
        "\r\n",
        "# This creates a new dataframe with the following extracted features.\r\n",
        "def add_extracted_features(orig_df):\r\n",
        "  # Create new dataframe.\r\n",
        "  train_df = orig_df.copy(deep=True)\r\n",
        " \r\n",
        "  # Average word length of edited sentence.\r\n",
        "  train_df['avgWordLength'] = train_df['editedSentence'].apply(lambda x: avg_word(x))\r\n",
        "\r\n",
        "  # Word counts per sentence.\r\n",
        "  train_df['wordCounts'] = train_df['editedSentence'].apply(lambda x: len(str(x).split(\" \")))\r\n",
        "  \r\n",
        "  # Character counts per edited sentence.\r\n",
        "  train_df['charCounts'] = train_df['editedSentence'].str.len()  # This also includes spaces.\r\n",
        "\r\n",
        "  # Number of stop words per edited sentence.\r\n",
        "  train_df['numStopWords'] = train_df['editedSentence'].apply(lambda x: len([x for x in x.split() if x in stop]))\r\n",
        "\r\n",
        "  # Number of upper case words.\r\n",
        "  train_df['editedSentence'].apply(lambda x: len([x for x in x.split() if x.isupper()])).value_counts()\r\n",
        "  train_df['numUpperCase'] = train_df['editedSentence'].apply(lambda x: len([x for x in x.split() if x.isupper()]))\r\n",
        "\r\n",
        "  # Number of sentences with digits.\r\n",
        "  train_df['editedSentence'].apply(lambda x: len([x for x in x.split() if x.isdigit()])).value_counts()\r\n",
        "  train_df['numDigits'] = train_df['editedSentence'].apply(lambda x: len([x for x in x.split() if x.isdigit()]))\r\n",
        "\r\n",
        "  # Number of sentences with hashtags.\r\n",
        "  train_df['editedSentence'].apply(lambda x: len([x for x in x.split() if x.startswith('#')])).value_counts()\r\n",
        "  train_df['numHashtags'] = train_df['editedSentence'].apply(lambda x: len([x for x in x.split() if x.startswith('#')]))\r\n",
        "\r\n",
        "  return train_df"
      ],
      "execution_count": null,
      "outputs": [
        {
          "output_type": "stream",
          "text": [
            "[nltk_data] Downloading package stopwords to /root/nltk_data...\n",
            "[nltk_data]   Unzipping corpora/stopwords.zip.\n"
          ],
          "name": "stdout"
        }
      ]
    },
    {
      "cell_type": "markdown",
      "metadata": {
        "id": "SZKxnuVU50oh"
      },
      "source": [
        "#### TF-IDF"
      ]
    },
    {
      "cell_type": "code",
      "metadata": {
        "id": "uIVzX3eS53Hi"
      },
      "source": [
        "from sklearn.feature_extraction.text import CountVectorizer, HashingVectorizer, TfidfTransformer, TfidfVectorizer\n",
        "\n",
        "def get_tfidf(sentences):\n",
        "  count_vect = CountVectorizer(stop_words='english')\n",
        "  train_counts_sentence = count_vect.fit_transform(sentences)\n",
        "  transformer = TfidfTransformer().fit(train_counts_sentence)\n",
        "  train_counts_sentence = transformer.transform(train_counts_sentence)\n",
        "  return train_counts_sentence"
      ],
      "execution_count": null,
      "outputs": []
    },
    {
      "cell_type": "markdown",
      "metadata": {
        "id": "yYJukx7v564F"
      },
      "source": [
        "#### BOW"
      ]
    },
    {
      "cell_type": "code",
      "metadata": {
        "id": "IaZRVKuL58nW"
      },
      "source": [
        "def get_bow(sentences):\n",
        "  bow = CountVectorizer(max_features=1000, lowercase=True, ngram_range=(1,1),analyzer = \"word\")\n",
        "  train_bow_sentence = bow.fit_transform(sentences)\n",
        "  return train_bow_sentence"
      ],
      "execution_count": null,
      "outputs": []
    },
    {
      "cell_type": "markdown",
      "metadata": {
        "id": "J2f5JkcXRU0h"
      },
      "source": [
        "### Text Preprocessing"
      ]
    },
    {
      "cell_type": "code",
      "metadata": {
        "id": "XhDACD4mSOXz",
        "colab": {
          "base_uri": "https://localhost:8080/"
        },
        "outputId": "b6828f6f-f75c-45eb-aad3-872b9de410ec"
      },
      "source": [
        "from textblob import Word, TextBlob\r\n",
        "nltk.download('wordnet')\r\n",
        "\r\n",
        "# This creates a new processed dataframe.\r\n",
        "def get_processed_df(orig_df):\r\n",
        "  # Convert to lower case.\r\n",
        "  processed = pd.DataFrame(orig_df['editedSentence'].apply(lambda x: \" \".join(x.lower() for x in x.split())))\r\n",
        "  processed['original'] = orig_df['original'].apply(lambda x: \" \".join(x.lower() for x in x.split()))\r\n",
        "\r\n",
        "  # Remove punctuation.\r\n",
        "  processed['editedSentence'] = processed['editedSentence'].str.replace('[^\\w\\s]','')\r\n",
        "  processed['original'] = processed['original'].str.replace('[^\\w\\s]','')\r\n",
        "\r\n",
        "  # Remove stop words.\r\n",
        "  processed['editedSentence'] = processed['editedSentence'].apply(lambda x: \" \".join(x for x in x.split() if x not in stop))\r\n",
        "  processed['original'] = processed['original'].apply(lambda x: \" \".join(x for x in x.split() if x not in stop))\r\n",
        "\r\n",
        "  # Lemmatization.\r\n",
        "  processed['editedSentence'] = processed['editedSentence'].apply(lambda x: \" \".join([Word(word).lemmatize() for word in x.split()]))\r\n",
        "  processed['original'] = processed['original'].apply(lambda x: \" \".join([Word(word).lemmatize() for word in x.split()]))\r\n",
        "  \r\n",
        "  # Extract sentiment.\r\n",
        "  processed['sentiment'] = processed['editedSentence'].apply(lambda x: TextBlob(x).sentiment[0])\r\n",
        "  processed['sentimentOrig'] = processed['original'].apply(lambda x: TextBlob(x).sentiment[0])\r\n",
        "  processed['sentimentDiff'] = processed['sentiment'] - processed['sentimentOrig']\r\n",
        "\r\n",
        "  return processed"
      ],
      "execution_count": null,
      "outputs": [
        {
          "output_type": "stream",
          "text": [
            "[nltk_data] Downloading package wordnet to /root/nltk_data...\n",
            "[nltk_data]   Unzipping corpora/wordnet.zip.\n"
          ],
          "name": "stdout"
        }
      ]
    },
    {
      "cell_type": "markdown",
      "metadata": {
        "id": "D0IuU_Ijr0cR"
      },
      "source": [
        "#### Prepare Glove Preprocessing"
      ]
    },
    {
      "cell_type": "markdown",
      "metadata": {
        "id": "vLBuf54LaSlZ"
      },
      "source": [
        "### Word Embeddings\r\n",
        "\r\n",
        "Here we prepare our own word embeddings for approach 2."
      ]
    },
    {
      "cell_type": "code",
      "metadata": {
        "id": "zBKkObMe_M-A"
      },
      "source": [
        "# Parse training and test data to tuple of original sentences, new sentences, etc.\r\n",
        "x_og, x_new, x_og_word, x_new_word = get_sentences(train_df)\r\n",
        "y_og, y_new, y_og_word, y_new_word = get_sentences(test_df)\r\n",
        "x_grades = train_df['meanGrade']\r\n",
        "\r\n",
        "# Insert these new sentences into the dataframe\r\n",
        "train_df['editedSentence'] = x_new\r\n",
        "train_df['replaceWord'] = x_og_word\r\n",
        "test_df['editedSentence'] = y_new\r\n",
        "test_df['replaceWord'] = y_og_word"
      ],
      "execution_count": null,
      "outputs": []
    },
    {
      "cell_type": "code",
      "metadata": {
        "id": "3Rx9lOZSdaC_",
        "colab": {
          "base_uri": "https://localhost:8080/"
        },
        "outputId": "e3b9d261-bf31-4173-c58a-a978e70d1b10"
      },
      "source": [
        "processed_train = get_processed_df(add_extracted_features(train_df))\r\n",
        "processed_test  = get_processed_df(add_extracted_features(test_df))\r\n",
        "\r\n",
        "train_sentence = processed_train['editedSentence']\r\n",
        "test_sentence = processed_test['editedSentence']\r\n",
        "\r\n",
        "# Creating word vectors\r\n",
        "training_vocab, training_tokenized_corpus = create_vocab(train_sentence)\r\n",
        "test_vocab, test_tokenized_corpus = create_vocab(test_sentence)\r\n",
        "\r\n",
        "# Creating joint vocab from test and train:\r\n",
        "joint_vocab, joint_tokenized_corpus = create_vocab(pd.concat([train_sentence, test_sentence]))\r\n",
        "\r\n",
        "print(\"Vocab created.\")"
      ],
      "execution_count": null,
      "outputs": [
        {
          "output_type": "stream",
          "text": [
            "Vocab created.\n"
          ],
          "name": "stdout"
        }
      ]
    },
    {
      "cell_type": "markdown",
      "metadata": {
        "id": "e5MH-ZI1bQm_"
      },
      "source": [
        "#### Brown Corpus"
      ]
    },
    {
      "cell_type": "code",
      "metadata": {
        "id": "doO0CS5Pa7Ji",
        "colab": {
          "base_uri": "https://localhost:8080/"
        },
        "outputId": "34484c1a-f541-4469-f522-89afb866c028"
      },
      "source": [
        "from nltk.corpus import brown\r\n",
        "nltk.download('brown')\r\n",
        "\r\n",
        "brown_news_text = brown.words(categories='news')\r\n",
        "brown_sentences = brown.sents()\r\n",
        "brown_wv = train_word_embedding(brown_sentences).wv\r\n",
        "\r\n",
        "brown_e_dim = 100\r\n",
        "brown_wvecs, brown_vec_seqs, brown_input_dim = get_word_vecs_dicts(\r\n",
        "    joint_vocab, training_tokenized_corpus, word_vec=brown_wv)\r\n",
        "brown_train_loader, brown_test_loader = encode_wvecs(brown_vec_seqs, x_grades)"
      ],
      "execution_count": null,
      "outputs": [
        {
          "output_type": "stream",
          "text": [
            "[nltk_data] Downloading package brown to /root/nltk_data...\n",
            "[nltk_data]   Package brown is already up-to-date!\n"
          ],
          "name": "stdout"
        }
      ]
    },
    {
      "cell_type": "markdown",
      "metadata": {
        "id": "-5RkgsHFrk2u"
      },
      "source": [
        "#### Glove Embeddings (Pretrained)"
      ]
    },
    {
      "cell_type": "code",
      "metadata": {
        "colab": {
          "base_uri": "https://localhost:8080/"
        },
        "id": "yyFsRfaUslLI",
        "outputId": "7edab09f-10b7-4601-8a57-4dd31b42e8d7"
      },
      "source": [
        "!wget http://nlp.stanford.edu/data/glove.6B.zip\r\n",
        "!unzip glove.6B.zip"
      ],
      "execution_count": null,
      "outputs": [
        {
          "output_type": "stream",
          "text": [
            "--2021-02-27 14:43:43--  http://nlp.stanford.edu/data/glove.6B.zip\n",
            "Resolving nlp.stanford.edu (nlp.stanford.edu)... 171.64.67.140\n",
            "Connecting to nlp.stanford.edu (nlp.stanford.edu)|171.64.67.140|:80... connected.\n",
            "HTTP request sent, awaiting response... 302 Found\n",
            "Location: https://nlp.stanford.edu/data/glove.6B.zip [following]\n",
            "--2021-02-27 14:43:43--  https://nlp.stanford.edu/data/glove.6B.zip\n",
            "Connecting to nlp.stanford.edu (nlp.stanford.edu)|171.64.67.140|:443... connected.\n",
            "HTTP request sent, awaiting response... 301 Moved Permanently\n",
            "Location: http://downloads.cs.stanford.edu/nlp/data/glove.6B.zip [following]\n",
            "--2021-02-27 14:43:43--  http://downloads.cs.stanford.edu/nlp/data/glove.6B.zip\n",
            "Resolving downloads.cs.stanford.edu (downloads.cs.stanford.edu)... 171.64.64.22\n",
            "Connecting to downloads.cs.stanford.edu (downloads.cs.stanford.edu)|171.64.64.22|:80... connected.\n",
            "HTTP request sent, awaiting response... 200 OK\n",
            "Length: 862182613 (822M) [application/zip]\n",
            "Saving to: ‘glove.6B.zip.1’\n",
            "\n",
            "glove.6B.zip.1      100%[===================>] 822.24M  1.91MB/s    in 6m 53s  \n",
            "\n",
            "2021-02-27 14:50:36 (1.99 MB/s) - ‘glove.6B.zip.1’ saved [862182613/862182613]\n",
            "\n",
            "Archive:  glove.6B.zip\n",
            "replace glove.6B.50d.txt? [y]es, [n]o, [A]ll, [N]one, [r]ename: "
          ],
          "name": "stdout"
        }
      ]
    },
    {
      "cell_type": "code",
      "metadata": {
        "id": "voXcz08BrgyH"
      },
      "source": [
        "glove_e_dim = 100\r\n",
        "glove_wvecs, glove_vec_seqs, glove_input_dim = get_word_vecs_dicts(\r\n",
        "    joint_vocab, training_tokenized_corpus, filename='glove.6B.100d.txt')\r\n",
        "glove_train_loader, glove_test_loader = encode_wvecs(glove_vec_seqs, x_grades)"
      ],
      "execution_count": null,
      "outputs": []
    },
    {
      "cell_type": "markdown",
      "metadata": {
        "id": "6kDkb9QWvIlq"
      },
      "source": [
        "# Training\r\n",
        "Initialise optimisers and start training word embedding and models!"
      ]
    },
    {
      "cell_type": "markdown",
      "metadata": {
        "id": "1bOlYKQAm28w"
      },
      "source": [
        "### Models (Approach 1)"
      ]
    },
    {
      "cell_type": "markdown",
      "metadata": {
        "id": "FtK_BMjN1LCu"
      },
      "source": [
        "### Testing Functions\r\n",
        "\r\n",
        "These functions load in the test dataset and tests them at the end of training, and are not used during hyperparameter tuning (we have a validation set). There are different variants depending on which preprocessing is needed (single vs double sentence)."
      ]
    },
    {
      "cell_type": "markdown",
      "metadata": {
        "id": "X9jdGIZyD6y8"
      },
      "source": [
        "#### BERT Testing"
      ]
    },
    {
      "cell_type": "code",
      "metadata": {
        "id": "880aPJOLTcJO"
      },
      "source": [
        "# BERT Testing\r\n",
        "def bert_single_test(model):\r\n",
        "  test_encoded_data = []\r\n",
        "  _, test_edited_sentences, _, _ = get_sentences(true_test_df)\r\n",
        "  for sentence in test_edited_sentences:\r\n",
        "    test_encoded = bert_tokenizer.encode(sentence, add_special_tokens=True)\r\n",
        "    test_encoded_data.append(test_encoded)\r\n",
        "\r\n",
        "  test_ids = true_test_df['id']\r\n",
        "  test_dataset = Task1Dataset(test_encoded_data, test_ids)\r\n",
        "  test_dataloader = DataLoader(test_dataset, batch_size=batch_size, collate_fn=collate_fn_padd)\r\n",
        "\r\n",
        "  predictions, pred_ids = get_predictions(test_dataloader, model)\r\n",
        "  pd.DataFrame({'id': pred_ids, 'pred': predictions}).to_csv(\"./predictions.csv\")\r\n",
        "  score_task_1('./test.csv', './predictions.csv')\r\n",
        "\r\n",
        "def bert_both_test(model):\r\n",
        "  test_encoded_data = []\r\n",
        "  test_original_sentences, test_edited_sentences, _, _ = get_sentences(true_test_df)\r\n",
        "  for og, edited in zip(test_original_sentences, test_edited_sentences):\r\n",
        "    test_encoded = bert_tokenizer.encode(og, text_pair=edited, add_special_tokens=True)\r\n",
        "    test_encoded_data.append(test_encoded)\r\n",
        "\r\n",
        "  test_ids = true_test_df['id']\r\n",
        "  test_dataset = Task1Dataset(test_encoded_data, test_ids)\r\n",
        "  test_dataloader = DataLoader(test_dataset, batch_size=batch_size, collate_fn=collate_fn_padd)\r\n",
        "\r\n",
        "  predictions, pred_ids = get_predictions(test_dataloader, model)\r\n",
        "  pd.DataFrame({'id': pred_ids, 'pred': predictions}).to_csv(\"./predictions.csv\")\r\n",
        "  score_task_1('./test.csv', './predictions.csv')"
      ],
      "execution_count": 53,
      "outputs": []
    },
    {
      "cell_type": "markdown",
      "metadata": {
        "id": "p0ApOgE3GXp0"
      },
      "source": [
        "#### RoBERTa Testing"
      ]
    },
    {
      "cell_type": "code",
      "metadata": {
        "id": "hzEJCQsD15ce"
      },
      "source": [
        "# RoBERTa Testing\r\n",
        "def roberta_single_test(model):\r\n",
        "  test_encoded_data = []\r\n",
        "  _, test_edited_sentences, _, _ = get_sentences(true_test_df)\r\n",
        "  for sentence in test_edited_sentences:\r\n",
        "    test_encoded = rob_tokenizer.encode(sentence, add_special_tokens=True)\r\n",
        "    test_encoded_data.append(test_encoded)\r\n",
        "\r\n",
        "  test_ids = true_test_df['id']\r\n",
        "  test_dataset = Task1Dataset(test_encoded_data, test_ids)\r\n",
        "  test_dataloader = DataLoader(test_dataset, batch_size=batch_size, collate_fn=collate_fn_padd)\r\n",
        "\r\n",
        "  predictions, pred_ids = get_predictions(test_dataloader, model)\r\n",
        "  pd.DataFrame({'id': pred_ids, 'pred': predictions}).to_csv(\"./predictions.csv\")\r\n",
        "  score_task_1('./test.csv', './predictions.csv')\r\n",
        "\r\n",
        "def roberta_both_test(model):\r\n",
        "  test_encoded_data = []\r\n",
        "  test_original_sentence, test_edited_sentences, _, _ = get_sentences(true_test_df)\r\n",
        "  for og, edited in zip(test_original_sentence, test_edited_sentences):\r\n",
        "    test_encoded = rob_tokenizer.encode(og, text_pair=edited, add_special_tokens=True)\r\n",
        "    test_encoded_data.append(test_encoded)\r\n",
        "\r\n",
        "  test_ids = true_test_df['id']\r\n",
        "  test_dataset = Task1Dataset(test_encoded_data, test_ids)\r\n",
        "  test_dataloader = DataLoader(test_dataset, batch_size=batch_size, collate_fn=collate_fn_padd)\r\n",
        "\r\n",
        "  predictions, pred_ids = get_predictions(test_dataloader, model)\r\n",
        "  pd.DataFrame({'id': pred_ids, 'pred': predictions}).to_csv(\"./predictions.csv\")\r\n",
        "  score_task_1('./test.csv', './predictions.csv')"
      ],
      "execution_count": 54,
      "outputs": []
    },
    {
      "cell_type": "markdown",
      "metadata": {
        "id": "EVAnQQox1lOY"
      },
      "source": [
        "#### Multimodel Testing\r\n"
      ]
    },
    {
      "cell_type": "code",
      "metadata": {
        "id": "dPZlniZLtIO5"
      },
      "source": [
        "# Multi-Model Testing\r\n",
        "def multi_model_testing(model):\r\n",
        "  _, test_edited_sentences, _, _ = get_sentences(true_test_df)\r\n",
        "\r\n",
        "  test_ids = true_test_df['id']\r\n",
        "  test_dataset = Task1Dataset(test_edited_sentences, test_ids)\r\n",
        "  test_dataloader = DataLoader(test_dataset, batch_size=batch_size, collate_fn=collate_fn_padd_labels)\r\n",
        "\r\n",
        "  predictions, pred_ids = get_predictions(test_dataloader, model)\r\n",
        "  pd.DataFrame({'id': pred_ids, 'pred': predictions}).to_csv(\"./predictions.csv\")\r\n",
        "  score_task_1('./test.csv', './predictions.csv')"
      ],
      "execution_count": 55,
      "outputs": []
    },
    {
      "cell_type": "markdown",
      "metadata": {
        "id": "tqyrK5zRTxRs"
      },
      "source": [
        "#### Bert with Sequence Classification with Both Sentences\r\n",
        "\r\n",
        "Warning: This model is large (12GB GPU Ram) and takes 21+ minutes per epoch."
      ]
    },
    {
      "cell_type": "code",
      "metadata": {
        "colab": {
          "base_uri": "https://localhost:8080/"
        },
        "id": "hDRPb2lEwsOr",
        "outputId": "6e2f346d-bea1-4bda-8c7b-fa76cf36a6e0"
      },
      "source": [
        "## Bert with Sequence Classification Training with Both Sentences\r\n",
        "#=====================================#\r\n",
        "# Define run specific hyperparameters #\r\n",
        "#=====================================#\r\n",
        "lr = 2e-5\r\n",
        "epochs = 2\r\n",
        "#=====================================#\r\n",
        "# Load Pretrained Bert model for double sequence training\r\n",
        "bert_double_pretrained = BertForSequenceClassification.from_pretrained(\r\n",
        "    bert_type, \r\n",
        "    num_labels = 1,\r\n",
        "    output_hidden_states = True\r\n",
        ")\r\n",
        "bert_double_pretrained = bert_double_pretrained.to(device) # Move to cuda if possible\r\n",
        "bert_double_pretrained = bert_double_pretrained.double() # Convert classifier to regressor\r\n",
        "\r\n",
        "# Initialise full model\r\n",
        "model = BERT(e_dim, h_dim, batch_size, device, bert_double_pretrained).to(device)\r\n",
        "\r\n",
        "# Optimizer and Scheduler setup\r\n",
        "optimizer = AdamW(model.parameters(), lr=lr)\r\n",
        "scheduler = get_linear_schedule_with_warmup(\r\n",
        "    optimizer, \r\n",
        "    num_warmup_steps=0, \r\n",
        "    num_training_steps=(epochs * len(bert_both_train_loader))\r\n",
        ")\r\n",
        "\r\n",
        "print(\"Model initialised.\")\r\n",
        "\r\n",
        "# Define the loss function\r\n",
        "loss_fn = nn.MSELoss()\r\n",
        "loss_fn = loss_fn.to(device)\r\n",
        "\r\n",
        "results = train(bert_both_train_loader, bert_both_val_loader, model, epochs, loss_fn, optimizer)"
      ],
      "execution_count": null,
      "outputs": [
        {
          "output_type": "stream",
          "text": [
            "Some weights of the model checkpoint at bert-base-uncased were not used when initializing BertForSequenceClassification: ['cls.predictions.bias', 'cls.predictions.transform.dense.weight', 'cls.predictions.transform.dense.bias', 'cls.predictions.decoder.weight', 'cls.seq_relationship.weight', 'cls.seq_relationship.bias', 'cls.predictions.transform.LayerNorm.weight', 'cls.predictions.transform.LayerNorm.bias']\n",
            "- This IS expected if you are initializing BertForSequenceClassification from the checkpoint of a model trained on another task or with another architecture (e.g. initializing a BertForSequenceClassification model from a BertForPreTraining model).\n",
            "- This IS NOT expected if you are initializing BertForSequenceClassification from the checkpoint of a model that you expect to be exactly identical (initializing a BertForSequenceClassification model from a BertForSequenceClassification model).\n",
            "Some weights of BertForSequenceClassification were not initialized from the model checkpoint at bert-base-uncased and are newly initialized: ['classifier.weight', 'classifier.bias']\n",
            "You should probably TRAIN this model on a down-stream task to be able to use it for predictions and inference.\n"
          ],
          "name": "stderr"
        },
        {
          "output_type": "stream",
          "text": [
            "Model initialised.\n",
            "Training model.\n",
            "| Epoch: 01 | Train Loss: 0.3302 | Train RMSE: 0.5746 | Val. Loss: 0.2947 | Val. RMSE: 0.5429 |\n",
            "| Epoch: 02 | Train Loss: 0.2472 | Train RMSE: 0.4972 | Val. Loss: 0.2788 | Val. RMSE: 0.5280 |\n"
          ],
          "name": "stdout"
        }
      ]
    },
    {
      "cell_type": "markdown",
      "metadata": {
        "id": "JU9FblaMDwot"
      },
      "source": [
        "#### Bert Training with Double Sentences"
      ]
    },
    {
      "cell_type": "code",
      "metadata": {
        "colab": {
          "base_uri": "https://localhost:8080/"
        },
        "id": "qQuaUgp0KqO1",
        "outputId": "95c601e0-4659-45e3-fd6a-fc9f6ece09fd"
      },
      "source": [
        "## Bert Training with Double Sentence\r\n",
        "#=====================================#\r\n",
        "# Define run specific hyperparameters #\r\n",
        "#=====================================#\r\n",
        "lr = 15e-6\r\n",
        "epochs = 2\r\n",
        "#=====================================#\r\n",
        "# Initialise full model\r\n",
        "model = BERT(e_dim, h_dim, batch_size, device).to(device)\r\n",
        "\r\n",
        "# Optimizer and Scheduler setup\r\n",
        "optimizer = AdamW(model.parameters(), lr=lr)\r\n",
        "scheduler = get_linear_schedule_with_warmup(\r\n",
        "    optimizer, \r\n",
        "    num_warmup_steps=0, \r\n",
        "    num_training_steps=(epochs * len(bert_single_train_loader))\r\n",
        ")\r\n",
        "print(\"Model initialised.\")\r\n",
        "\r\n",
        "# Define the loss function\r\n",
        "loss_fn = nn.MSELoss()\r\n",
        "loss_fn = loss_fn.to(device)\r\n",
        "\r\n",
        "results = train(bert_both_train_loader, bert_both_val_loader, model, epochs, loss_fn, optimizer)\r\n",
        "bert_both_test(model)"
      ],
      "execution_count": 30,
      "outputs": [
        {
          "output_type": "stream",
          "text": [
            "Model initialised.\n",
            "Training model.\n",
            "| Epoch: 01 | Train Loss: 0.3367 | Train RMSE: 0.5803 | Val. Loss: 0.2899 | Val. RMSE: 0.5384 |\n",
            "| Epoch: 02 | Train Loss: 0.2594 | Train RMSE: 0.5093 | Val. Loss: 0.2797 | Val. RMSE: 0.5289 |\n",
            "RMSE = 0.535\n"
          ],
          "name": "stdout"
        }
      ]
    },
    {
      "cell_type": "markdown",
      "metadata": {
        "id": "GG2j9SZYD0rc"
      },
      "source": [
        "#### Bert Training with Single Sentence"
      ]
    },
    {
      "cell_type": "code",
      "metadata": {
        "colab": {
          "base_uri": "https://localhost:8080/"
        },
        "id": "defpiqYCxvNN",
        "outputId": "bbbdaedf-db1a-4734-ec45-bc70234b336f"
      },
      "source": [
        "## Bert Training with Single Sentence\r\n",
        "#=====================================#\r\n",
        "# Define run specific hyperparameters #\r\n",
        "#=====================================#\r\n",
        "lr = 15e-6\r\n",
        "epochs = 2\r\n",
        "#=====================================#\r\n",
        "# Initialise full model\r\n",
        "model = BERT(e_dim, h_dim, batch_size, device).to(device)\r\n",
        "\r\n",
        "# Optimizer and Scheduler setup\r\n",
        "optimizer = AdamW(model.parameters(), lr=lr)\r\n",
        "scheduler = get_linear_schedule_with_warmup(\r\n",
        "    optimizer, \r\n",
        "    num_warmup_steps=0, \r\n",
        "    num_training_steps=(epochs * len(bert_single_train_loader))\r\n",
        ")\r\n",
        "print(\"Model initialised.\")\r\n",
        "\r\n",
        "# Define the loss function\r\n",
        "loss_fn = nn.MSELoss()\r\n",
        "loss_fn = loss_fn.to(device)\r\n",
        "\r\n",
        "results = train(bert_single_train_loader, bert_single_val_loader, model, epochs, loss_fn, optimizer)\r\n",
        "bert_single_test(model)"
      ],
      "execution_count": 28,
      "outputs": [
        {
          "output_type": "stream",
          "text": [
            "Model initialised.\n",
            "Training model.\n",
            "| Epoch: 01 | Train Loss: 0.3347 | Train RMSE: 0.5785 | Val. Loss: 0.3003 | Val. RMSE: 0.5480 |\n",
            "| Epoch: 02 | Train Loss: 0.2607 | Train RMSE: 0.5106 | Val. Loss: 0.2789 | Val. RMSE: 0.5281 |\n",
            "RMSE = 0.531\n"
          ],
          "name": "stdout"
        }
      ]
    },
    {
      "cell_type": "markdown",
      "metadata": {
        "id": "jpxNAmGrD3bE"
      },
      "source": [
        "#### Bert Training with Single Sentence and Freezing"
      ]
    },
    {
      "cell_type": "code",
      "metadata": {
        "colab": {
          "base_uri": "https://localhost:8080/"
        },
        "id": "So8OG9OVLW3h",
        "outputId": "07b837d7-4dbc-4ba6-e0d5-81bcca42042a"
      },
      "source": [
        "## Bert Training with Single Sentence and Freezing\r\n",
        "#=====================================#\r\n",
        "# Define run specific hyperparameters #\r\n",
        "#=====================================#\r\n",
        "lr = 2e-5\r\n",
        "epochs = 5\r\n",
        "#=====================================#\r\n",
        "# Initialise full model\r\n",
        "model = BERT(e_dim, h_dim, batch_size, device).to(device)\r\n",
        "\r\n",
        "# Optimizer and Scheduler setup\r\n",
        "optimizer = AdamW(model.parameters(), lr=lr)\r\n",
        "scheduler = get_linear_schedule_with_warmup(\r\n",
        "    optimizer, \r\n",
        "    num_warmup_steps=0, \r\n",
        "    num_training_steps=(epochs * len(bert_single_train_loader))\r\n",
        ")\r\n",
        "print(\"Model initialised.\")\r\n",
        "\r\n",
        "# Define the loss function\r\n",
        "loss_fn = nn.MSELoss()\r\n",
        "loss_fn = loss_fn.to(device)\r\n",
        "\r\n",
        "results = train(bert_single_train_loader, bert_single_val_loader, model, epochs, loss_fn, optimizer, freeze=3)\r\n",
        "bert_single_test(model)"
      ],
      "execution_count": null,
      "outputs": [
        {
          "output_type": "stream",
          "text": [
            "Model initialised.\n",
            "Training model.\n",
            "| Epoch: 01 | Train Loss: 0.7074 | Train RMSE: 0.8411 | Val. Loss: 0.3605 | Val. RMSE: 0.6004 |\n",
            "| Epoch: 02 | Train Loss: 0.3517 | Train RMSE: 0.5930 | Val. Loss: 0.3455 | Val. RMSE: 0.5878 |\n",
            "| Epoch: 03 | Train Loss: 0.3451 | Train RMSE: 0.5874 | Val. Loss: 0.3384 | Val. RMSE: 0.5817 |\n",
            "| Epoch: 04 | Train Loss: 0.3150 | Train RMSE: 0.5612 | Val. Loss: 0.2835 | Val. RMSE: 0.5324 |\n",
            "| Epoch: 05 | Train Loss: 0.2366 | Train RMSE: 0.4864 | Val. Loss: 0.2843 | Val. RMSE: 0.5332 |\n"
          ],
          "name": "stdout"
        }
      ]
    },
    {
      "cell_type": "markdown",
      "metadata": {
        "id": "jDrk18mNT3YE"
      },
      "source": [
        "#### RoBERTa Single"
      ]
    },
    {
      "cell_type": "code",
      "metadata": {
        "colab": {
          "base_uri": "https://localhost:8080/",
          "height": 200,
          "referenced_widgets": [
            "aadfb751523748d7a69b19fa5064d1e6",
            "918221bb80d24a4b8a676baa22ad83a6",
            "fe7b42baede0437d8559d53d9544d354",
            "fbb5745245de4178854a0e0ed227603b",
            "e2d445db538e4013b8e699f608d23315",
            "a6e7469b0dba4f49bd5becbd530c3fa8",
            "5553c6513b7e44a0938673de57f10e42",
            "43057c320f31478c884c4ef3beb88fd2",
            "e59e87581aaa43cea3fae89cfbd0bdd6",
            "6dff85f849e64a7c9a16ad5af717edf3",
            "18d17e97132c426ea3a2f112fde7695f",
            "5af7239138ec4701a2a4bdd479af07f6",
            "65bb17d000e14cfc9fc2e5afb0ea79b0",
            "a1c2272fcdfc48e2959a321ca2cfccc3",
            "fbec9a81efa44b6ebf33147737140f0b",
            "67b53d6aff6a4ca5bf196fe1491a7220"
          ]
        },
        "id": "OB0zCYH11jJp",
        "outputId": "ecb690bb-6a27-4ecc-f8ac-dc485a4186e8"
      },
      "source": [
        "## Roberta Single Training\r\n",
        "#=====================================#\r\n",
        "# Define run specific hyperparameters #\r\n",
        "#=====================================#\r\n",
        "lr = 2e-5\r\n",
        "epochs = 2\r\n",
        "#=====================================#\r\n",
        "# Initialise full model\r\n",
        "model = RoBERTa(e_dim, h_dim, batch_size, device).to(device)\r\n",
        "\r\n",
        "# Optimizer and Scheduler setup\r\n",
        "optimizer = AdamW(model.parameters(), lr=lr)\r\n",
        "scheduler = get_linear_schedule_with_warmup(\r\n",
        "    optimizer, \r\n",
        "    num_warmup_steps=0, \r\n",
        "    num_training_steps=(epochs * len(bert_single_train_loader))\r\n",
        ")\r\n",
        "\r\n",
        "print(\"Model initialised.\")\r\n",
        "\r\n",
        "# Define the loss function\r\n",
        "loss_fn = nn.MSELoss()\r\n",
        "loss_fn = loss_fn.to(device)\r\n",
        "\r\n",
        "results = train(robert_single_train_loader, robert_single_val_loader, model, epochs, loss_fn, optimizer)\r\n",
        "roberta_single_test(model)"
      ],
      "execution_count": 28,
      "outputs": [
        {
          "output_type": "display_data",
          "data": {
            "application/vnd.jupyter.widget-view+json": {
              "model_id": "aadfb751523748d7a69b19fa5064d1e6",
              "version_minor": 0,
              "version_major": 2
            },
            "text/plain": [
              "HBox(children=(FloatProgress(value=0.0, description='Downloading', max=481.0, style=ProgressStyle(description_…"
            ]
          },
          "metadata": {
            "tags": []
          }
        },
        {
          "output_type": "stream",
          "text": [
            "\n"
          ],
          "name": "stdout"
        },
        {
          "output_type": "display_data",
          "data": {
            "application/vnd.jupyter.widget-view+json": {
              "model_id": "e59e87581aaa43cea3fae89cfbd0bdd6",
              "version_minor": 0,
              "version_major": 2
            },
            "text/plain": [
              "HBox(children=(FloatProgress(value=0.0, description='Downloading', max=501200538.0, style=ProgressStyle(descri…"
            ]
          },
          "metadata": {
            "tags": []
          }
        },
        {
          "output_type": "stream",
          "text": [
            "\n",
            "Model initialised.\n",
            "Training model.\n",
            "| Epoch: 01 | Train Loss: 0.3495 | Train RMSE: 0.5912 | Val. Loss: 0.3169 | Val. RMSE: 0.5630 |\n",
            "| Epoch: 02 | Train Loss: 0.3100 | Train RMSE: 0.5568 | Val. Loss: 0.2833 | Val. RMSE: 0.5323 |\n",
            "RMSE = 0.535\n"
          ],
          "name": "stdout"
        }
      ]
    },
    {
      "cell_type": "markdown",
      "metadata": {
        "id": "lTGSSVzHGVZU"
      },
      "source": [
        "#### RoBERTa Double"
      ]
    },
    {
      "cell_type": "code",
      "metadata": {
        "colab": {
          "base_uri": "https://localhost:8080/"
        },
        "id": "be1giuvD2MyE",
        "outputId": "b9f773ab-8a6e-4cbd-adc8-f1475157f438"
      },
      "source": [
        "## Roberta Both Training\r\n",
        "#=====================================#\r\n",
        "# Define run specific hyperparameters #\r\n",
        "#=====================================#\r\n",
        "lr = 2e-5\r\n",
        "epochs = 4\r\n",
        "#=====================================#\r\n",
        "# Initialise full model\r\n",
        "model = RoBERTa(e_dim, h_dim, batch_size, device).to(device)\r\n",
        "\r\n",
        "# Optimizer and Scheduler setup\r\n",
        "optimizer = AdamW(model.parameters(), lr=lr)\r\n",
        "scheduler = get_linear_schedule_with_warmup(\r\n",
        "    optimizer, \r\n",
        "    num_warmup_steps=0, \r\n",
        "    num_training_steps=(epochs * len(bert_both_train_loader))\r\n",
        ")\r\n",
        "\r\n",
        "print(\"Model initialised.\")\r\n",
        "\r\n",
        "# Define the loss function\r\n",
        "loss_fn = nn.MSELoss()\r\n",
        "loss_fn = loss_fn.to(device)\r\n",
        "\r\n",
        "results = train(robert_both_train_loader, robert_both_val_loader, model, epochs, loss_fn, optimizer)\r\n",
        "roberta_both_test(model)"
      ],
      "execution_count": null,
      "outputs": [
        {
          "output_type": "stream",
          "text": [
            "Model initialised.\n",
            "Training model.\n",
            "| Epoch: 01 | Train Loss: 0.3466 | Train RMSE: 0.5887 | Val. Loss: 0.3223 | Val. RMSE: 0.5677 |\n",
            "| Epoch: 02 | Train Loss: 0.3210 | Train RMSE: 0.5665 | Val. Loss: 0.3085 | Val. RMSE: 0.5554 |\n",
            "| Epoch: 03 | Train Loss: 0.2792 | Train RMSE: 0.5284 | Val. Loss: 0.3047 | Val. RMSE: 0.5520 |\n",
            "| Epoch: 04 | Train Loss: 0.2359 | Train RMSE: 0.4857 | Val. Loss: 0.3016 | Val. RMSE: 0.5492 |\n"
          ],
          "name": "stdout"
        }
      ]
    },
    {
      "cell_type": "markdown",
      "metadata": {
        "id": "pjdNo5yt8NqW"
      },
      "source": [
        "#### Multi-Modal Models"
      ]
    },
    {
      "cell_type": "code",
      "metadata": {
        "colab": {
          "base_uri": "https://localhost:8080/"
        },
        "id": "rkWEEb92mypJ",
        "outputId": "0cdcf8d3-967a-4187-9900-50e9a1931202"
      },
      "source": [
        "## Multi-Model Training\r\n",
        "#=====================================#\r\n",
        "# Define run specific hyperparameters #\r\n",
        "#=====================================#\r\n",
        "lr = 1e-5\r\n",
        "epochs = 20\r\n",
        "#=====================================#\r\n",
        "\r\n",
        "# Create a simple sentence loader\r\n",
        "simple_dataset = Task1Dataset(x_new, x_grades)\r\n",
        "num_train = round(len(simple_dataset) * train_proportion)\r\n",
        "num_val = len(simple_dataset) - num_train\r\n",
        "train_dataset, val_dataset = random_split(simple_dataset, (num_train, num_val))\r\n",
        "\r\n",
        "# Create dataloaders from the edited sentence\r\n",
        "simple_train_loader = DataLoader(train_dataset, shuffle=True, batch_size=batch_size, collate_fn=collate_fn_padd_labels)\r\n",
        "simple_val_loader = DataLoader(val_dataset, batch_size=batch_size, collate_fn=collate_fn_padd_labels)\r\n",
        "\r\n",
        "# Setup the multiple models\r\n",
        "output_dims = 0\r\n",
        "model_r = RoBERTa(e_dim, h_dim, batch_size, device, output_hidden=True).to(device)\r\n",
        "model_r.init_preprocess(RobertaTokenizer.from_pretrained(rob_type, do_lower_case=True))\r\n",
        "output_dims += model_r.output_len\r\n",
        "\r\n",
        "model_b = BERT(e_dim, h_dim, batch_size, device, output_hidden=True).to(device)\r\n",
        "model_b.init_preprocess(BertTokenizer.from_pretrained(bert_type, do_lower_case=True))\r\n",
        "output_dims += model_b.output_len\r\n",
        "\r\n",
        "mod_dict = {'roberta': model_r, 'bert': model_b}\r\n",
        "preprocess = ['roberta', 'bert']\r\n",
        "\r\n",
        "model = MultiModel(mod_dict, preprocess, batch_size, output_dims).to(device)\r\n",
        "optimizer = torch.optim.Adam(model.parameters(), lr=lr)\r\n",
        "\r\n",
        "# Define the loss function\r\n",
        "loss_fn = nn.MSELoss()\r\n",
        "loss_fn = loss_fn.to(device)\r\n",
        "\r\n",
        "print(\"Model initialised.\")\r\n",
        "results = train(simple_train_loader, simple_val_loader, model, epochs, loss_fn, optimizer)\r\n",
        "multi_model_testing(model)"
      ],
      "execution_count": 56,
      "outputs": [
        {
          "output_type": "stream",
          "text": [
            "Model initialised.\n",
            "Training model.\n",
            "| Epoch: 01 | Train Loss: 1.2181 | Train RMSE: 1.1037 | Val. Loss: 1.1243 | Val. RMSE: 1.0604 |\n",
            "| Epoch: 02 | Train Loss: 1.0890 | Train RMSE: 1.0436 | Val. Loss: 1.0037 | Val. RMSE: 1.0018 |\n",
            "| Epoch: 03 | Train Loss: 0.9744 | Train RMSE: 0.9871 | Val. Loss: 0.8970 | Val. RMSE: 0.9471 |\n",
            "| Epoch: 04 | Train Loss: 0.8734 | Train RMSE: 0.9346 | Val. Loss: 0.8031 | Val. RMSE: 0.8961 |\n",
            "| Epoch: 05 | Train Loss: 0.7847 | Train RMSE: 0.8858 | Val. Loss: 0.7211 | Val. RMSE: 0.8492 |\n",
            "| Epoch: 06 | Train Loss: 0.7075 | Train RMSE: 0.8411 | Val. Loss: 0.6502 | Val. RMSE: 0.8063 |\n",
            "| Epoch: 07 | Train Loss: 0.6405 | Train RMSE: 0.8003 | Val. Loss: 0.5890 | Val. RMSE: 0.7674 |\n",
            "| Epoch: 08 | Train Loss: 0.5829 | Train RMSE: 0.7635 | Val. Loss: 0.5366 | Val. RMSE: 0.7325 |\n",
            "| Epoch: 09 | Train Loss: 0.5339 | Train RMSE: 0.7307 | Val. Loss: 0.4922 | Val. RMSE: 0.7016 |\n",
            "| Epoch: 10 | Train Loss: 0.4929 | Train RMSE: 0.7020 | Val. Loss: 0.4556 | Val. RMSE: 0.6750 |\n",
            "| Epoch: 11 | Train Loss: 0.4585 | Train RMSE: 0.6771 | Val. Loss: 0.4250 | Val. RMSE: 0.6519 |\n",
            "| Epoch: 12 | Train Loss: 0.4305 | Train RMSE: 0.6561 | Val. Loss: 0.4008 | Val. RMSE: 0.6331 |\n",
            "| Epoch: 13 | Train Loss: 0.4081 | Train RMSE: 0.6388 | Val. Loss: 0.3815 | Val. RMSE: 0.6176 |\n",
            "| Epoch: 14 | Train Loss: 0.3905 | Train RMSE: 0.6249 | Val. Loss: 0.3667 | Val. RMSE: 0.6055 |\n",
            "| Epoch: 15 | Train Loss: 0.3770 | Train RMSE: 0.6140 | Val. Loss: 0.3554 | Val. RMSE: 0.5962 |\n",
            "| Epoch: 16 | Train Loss: 0.3670 | Train RMSE: 0.6058 | Val. Loss: 0.3475 | Val. RMSE: 0.5895 |\n",
            "| Epoch: 17 | Train Loss: 0.3598 | Train RMSE: 0.5998 | Val. Loss: 0.3418 | Val. RMSE: 0.5846 |\n",
            "| Epoch: 18 | Train Loss: 0.3547 | Train RMSE: 0.5956 | Val. Loss: 0.3380 | Val. RMSE: 0.5814 |\n",
            "| Epoch: 19 | Train Loss: 0.3513 | Train RMSE: 0.5927 | Val. Loss: 0.3357 | Val. RMSE: 0.5794 |\n",
            "| Epoch: 20 | Train Loss: 0.3492 | Train RMSE: 0.5909 | Val. Loss: 0.3342 | Val. RMSE: 0.5781 |\n",
            "RMSE = 0.580\n"
          ],
          "name": "stdout"
        }
      ]
    },
    {
      "cell_type": "code",
      "metadata": {
        "id": "DJYjKQMPOq6W",
        "colab": {
          "base_uri": "https://localhost:8080/"
        },
        "outputId": "35bf9c7f-268f-4abd-aaed-e6ef655e31a6"
      },
      "source": [
        "## Multi-Model Training where we train each model individually first then train the final concatenation layer\r\n",
        "#=====================================#\r\n",
        "# Define run specific hyperparameters #\r\n",
        "#=====================================#\r\n",
        "lr_r = 2e-5\r\n",
        "epochs_r = 2\r\n",
        "lr_b = 15e-6\r\n",
        "epochs_b = 2\r\n",
        "#=====================================#\r\n",
        "\r\n",
        "# Create a simple sentence loader\r\n",
        "simple_dataset = Task1Dataset(x_new, x_grades)\r\n",
        "num_train = round(len(simple_dataset) * train_proportion)\r\n",
        "num_val = len(simple_dataset) - num_train\r\n",
        "train_dataset, val_dataset = random_split(simple_dataset, (num_train, num_val))\r\n",
        "\r\n",
        "# Create dataloaders from the edited sentence\r\n",
        "simple_train_loader = DataLoader(train_dataset, shuffle=True, batch_size=batch_size, collate_fn=collate_fn_padd_labels)\r\n",
        "simple_val_loader = DataLoader(val_dataset, batch_size=batch_size, collate_fn=collate_fn_padd_labels)\r\n",
        "\r\n",
        "# Setup the individual models\r\n",
        "output_dims = 0\r\n",
        "model_r = RoBERTa(e_dim, h_dim, batch_size, device).to(device)\r\n",
        "model_r.init_preprocess(RobertaTokenizer.from_pretrained(rob_type, do_lower_case=True))\r\n",
        "output_dims += model_r.output_len\r\n",
        "\r\n",
        "model_b = BERT(e_dim, h_dim, batch_size, device).to(device)\r\n",
        "model_b.init_preprocess(BertTokenizer.from_pretrained(bert_type, do_lower_case=True))\r\n",
        "output_dims += model_b.output_len\r\n",
        "\r\n",
        "loss_fn_r = nn.MSELoss()\r\n",
        "loss_fn_r = loss_fn_r.to(device)\r\n",
        "\r\n",
        "loss_fn_b = nn.MSELoss()\r\n",
        "loss_fn_b = loss_fn_b.to(device)\r\n",
        "\r\n",
        "optimizer_r = torch.optim.Adam(model_r.parameters(), lr=lr_r)\r\n",
        "optimizer_b = torch.optim.Adam(model_b.parameters(), lr=lr_b)\r\n",
        "\r\n",
        "# Train the individual models\r\n",
        "print(\"RoBERTa\")\r\n",
        "results_r = train(robert_single_train_loader, robert_single_train_loader, model_r, epochs_r, loss_fn_r, optimizer_r)\r\n",
        "print(\"BERT\")\r\n",
        "results_b = train(bert_single_train_loader, bert_single_val_loader, model_b, epochs_b, loss_fn_b, optimizer_b)"
      ],
      "execution_count": 28,
      "outputs": [
        {
          "output_type": "stream",
          "text": [
            "RoBERTa\n",
            "Training model.\n",
            "| Epoch: 01 | Train Loss: 0.3532 | Train RMSE: 0.5943 | Val. Loss: 0.3187 | Val. RMSE: 0.5646 |\n",
            "| Epoch: 02 | Train Loss: 0.3122 | Train RMSE: 0.5587 | Val. Loss: 0.2655 | Val. RMSE: 0.5153 |\n",
            "BERT\n",
            "Training model.\n",
            "| Epoch: 01 | Train Loss: 0.3395 | Train RMSE: 0.5826 | Val. Loss: 0.3039 | Val. RMSE: 0.5513 |\n",
            "| Epoch: 02 | Train Loss: 0.2567 | Train RMSE: 0.5066 | Val. Loss: 0.2856 | Val. RMSE: 0.5344 |\n"
          ],
          "name": "stdout"
        }
      ]
    },
    {
      "cell_type": "code",
      "metadata": {
        "colab": {
          "base_uri": "https://localhost:8080/"
        },
        "id": "5N7KbUfzcA8U",
        "outputId": "22f33d1e-430b-48a2-bea6-710c0c96bd82"
      },
      "source": [
        "#=====================================#\r\n",
        "# Define run specific hyperparameters #\r\n",
        "#=====================================#\r\n",
        "lr = 1e-3\r\n",
        "epochs = 5\r\n",
        "#=====================================#\r\n",
        "# Model Freeze\r\n",
        "model_r.train()\r\n",
        "model_r.freeze_embeddings()\r\n",
        "model_b.train()\r\n",
        "model_b.freeze_embeddings()\r\n",
        "\r\n",
        "mod_dict = {'roberta': model_r, 'bert': model_b}\r\n",
        "preprocess = ['roberta', 'bert']\r\n",
        "\r\n",
        "model = MultiModel(mod_dict, preprocess, batch_size, output_dims).to(device)\r\n",
        "optimizer = torch.optim.Adam(model.parameters(), lr=lr)\r\n",
        "\r\n",
        "# Define the loss function\r\n",
        "loss_fn = nn.MSELoss()\r\n",
        "loss_fn = loss_fn.to(device)\r\n",
        "\r\n",
        "print(\"Model initialised.\")\r\n",
        "results = train(simple_train_loader, simple_val_loader, model, epochs, loss_fn, optimizer)\r\n",
        "multi_model_testing(model)"
      ],
      "execution_count": 29,
      "outputs": [
        {
          "output_type": "stream",
          "text": [
            "Model initialised.\n",
            "Training model.\n",
            "| Epoch: 01 | Train Loss: 1.2374 | Train RMSE: 1.1124 | Val. Loss: 0.6971 | Val. RMSE: 0.8349 |\n",
            "| Epoch: 02 | Train Loss: 0.4462 | Train RMSE: 0.6680 | Val. Loss: 0.2929 | Val. RMSE: 0.5412 |\n",
            "| Epoch: 03 | Train Loss: 0.2373 | Train RMSE: 0.4871 | Val. Loss: 0.2083 | Val. RMSE: 0.4564 |\n",
            "| Epoch: 04 | Train Loss: 0.2042 | Train RMSE: 0.4519 | Val. Loss: 0.1998 | Val. RMSE: 0.4470 |\n",
            "| Epoch: 05 | Train Loss: 0.2008 | Train RMSE: 0.4481 | Val. Loss: 0.1966 | Val. RMSE: 0.4434 |\n",
            "RMSE = 0.536\n"
          ],
          "name": "stdout"
        }
      ]
    },
    {
      "cell_type": "markdown",
      "metadata": {
        "id": "xsFTU7vrT7B1"
      },
      "source": [
        "#### BiLSTM Models"
      ]
    },
    {
      "cell_type": "markdown",
      "metadata": {
        "id": "PRRz_Nhbs1kB"
      },
      "source": [
        "Simple BiLSTM on Glove Corpus"
      ]
    },
    {
      "cell_type": "code",
      "metadata": {
        "id": "4JKbLuqRswjG"
      },
      "source": [
        "## Using the Glove corpus on a simple BiLSTM layer\r\n",
        "#=====================================#\r\n",
        "# Define run specific hyperparameters #\r\n",
        "#=====================================#\r\n",
        "lr = 0.001\r\n",
        "epochs = 6\r\n",
        "#=====================================#\r\n",
        "\r\n",
        "model = BiLSTM(glove_e_dim, h_dim, glove_input_dim, batch_size, device).to(device)\r\n",
        "# We provide the model with our embeddings\r\n",
        "model.embedding.weight.data.copy_(torch.from_numpy(glove_wvecs))\r\n",
        "optimizer = torch.optim.Adam(model.parameters(), lr=lr)\r\n",
        "\r\n",
        "# Define the loss function\r\n",
        "loss_fn = nn.MSELoss()\r\n",
        "loss_fn = loss_fn.to(device)\r\n",
        "\r\n",
        "print(\"Model initialised.\")\r\n",
        "results = train(glove_train_loader, glove_test_loader, model, epochs, loss_fn, optimizer)"
      ],
      "execution_count": null,
      "outputs": []
    },
    {
      "cell_type": "markdown",
      "metadata": {
        "id": "VPUNRkCrF9UH"
      },
      "source": [
        "#### GLoVe Models"
      ]
    },
    {
      "cell_type": "markdown",
      "metadata": {
        "id": "4r7fBv9TGORJ"
      },
      "source": [
        "GLoVe-specific Training"
      ]
    },
    {
      "cell_type": "code",
      "metadata": {
        "id": "szwSEigDF9UW"
      },
      "source": [
        "## Using the Glove corpus on a simple BiLSTM layer\r\n",
        "#=====================================#\r\n",
        "# Define run specific hyperparameters #\r\n",
        "#=====================================### Approach 1 code, using functions defined above:\r\n",
        "\r\n",
        "# We set our training data and test data\r\n",
        "training_data = train_df['original']\r\n",
        "test_data = test_df['original']\r\n",
        "true_test_data = true_test_df['original']\r\n",
        "\r\n",
        "# Creating word vectors\r\n",
        "training_vocab, training_tokenized_corpus = create_vocab(training_data)\r\n",
        "test_vocab, test_tokenized_corpus = create_vocab(test_data)\r\n",
        "true_test_vocab, true_test_tokenized_corpus = create_vocab(true_test_data)\r\n",
        "\r\n",
        "# Creating joint vocab from test and train:\r\n",
        "joint_vocab, joint_tokenized_corpus = create_vocab(pd.concat([training_data, test_data, true_test_data]))\r\n",
        "\r\n",
        "print(\"Vocab created.\")\r\n",
        "\r\n",
        "# We create representations for our tokens\r\n",
        "wvecs = [] # word vectors\r\n",
        "word2idx = [] # word2index\r\n",
        "idx2word = []\r\n",
        "\r\n",
        "# This is a large file, it will take a while to load in the memory!\r\n",
        "with codecs.open('glove.6B.100d.txt', 'r','utf-8') as f:\r\n",
        "  index = 1\r\n",
        "  for line in f.readlines():\r\n",
        "    # Ignore the first line - first line typically contains vocab, dimensionality\r\n",
        "    if len(line.strip().split()) > 3:\r\n",
        "      word = line.strip().split()[0]\r\n",
        "      if word in joint_vocab:\r\n",
        "          (word, vec) = (word,\r\n",
        "                     list(map(float,line.strip().split()[1:])))\r\n",
        "          wvecs.append(vec)\r\n",
        "          word2idx.append((word, index))\r\n",
        "          idx2word.append((index, word))\r\n",
        "          index += 1\r\n",
        "\r\n",
        "wvecs = np.array(wvecs)\r\n",
        "word2idx = dict(word2idx)\r\n",
        "idx2word = dict(idx2word)\r\n",
        "\r\n",
        "vectorized_seqs = [[word2idx[tok] for tok in seq if tok in word2idx] for seq in training_tokenized_corpus]\r\n",
        "\r\n",
        "# To avoid any sentences being empty (if no words match to our word embeddings)\r\n",
        "vectorized_seqs = [x if len(x) > 0 else [0] for x in vectorized_seqs]\r\n",
        "\r\n",
        "INPUT_DIM = len(word2idx)\r\n",
        "EMBEDDING_DIM = 100\r\n",
        "BATCH_SIZE = 32\r\n",
        "\r\n",
        "model = BiLSTM(EMBEDDING_DIM, 50, INPUT_DIM, BATCH_SIZE, device)\r\n",
        "print(\"Model initialised.\")\r\n",
        "\r\n",
        "model.to(device)\r\n",
        "# We provide the model with our embeddings\r\n",
        "model.embedding.weight.data.copy_(torch.from_numpy(wvecs))\r\n",
        "\r\n",
        "feature = vectorized_seqs\r\n",
        "\r\n",
        "# 'feature' is a list of lists, each containing embedding IDs for word tokens\r\n",
        "train_and_dev = Task1Dataset(feature, train_df['meanGrade'])\r\n",
        "\r\n",
        "train_examples = round(len(train_and_dev)*train_proportion)\r\n",
        "dev_examples = len(train_and_dev) - train_examples\r\n",
        "\r\n",
        "train_dataset, dev_dataset = random_split(train_and_dev,\r\n",
        "                                           (train_examples,\r\n",
        "                                            dev_examples))\r\n",
        "\r\n",
        "train_loader = torch.utils.data.DataLoader(train_dataset, shuffle=True, batch_size=BATCH_SIZE, collate_fn=collate_fn_padd)\r\n",
        "dev_loader = torch.utils.data.DataLoader(dev_dataset, batch_size=BATCH_SIZE, collate_fn=collate_fn_padd)\r\n",
        "\r\n",
        "print(\"Dataloaders created.\")\r\n",
        "\r\n",
        "loss_fn = nn.MSELoss()\r\n",
        "loss_fn = loss_fn.to(device)\r\n",
        "\r\n",
        "optimizer = torch.optim.Adam(model.parameters())\r\n",
        "\r\n",
        "train(train_loader, dev_loader, model, epochs)\r\n",
        "lr = 0.001\r\n",
        "epochs = 6\r\n",
        "#=====================================#\r\n",
        "\r\n",
        "model = BiLSTM(glove_e_dim, h_dim, glove_input_dim, batch_size, device).to(device)\r\n",
        "# We provide the model with our embeddings\r\n",
        "model.embedding.weight.data.copy_(torch.from_numpy(glove_wvecs))\r\n",
        "optimizer = torch.optim.Adam(model.parameters(), lr=lr)\r\n",
        "\r\n",
        "# Define the loss function\r\n",
        "loss_fn = nn.MSELoss()\r\n",
        "loss_fn = loss_fn.to(device)\r\n",
        "\r\n",
        "print(\"Model initialised.\")\r\n",
        "results = train(glove_train_loader, glove_test_loader, model, epochs, loss_fn, optimizer)"
      ],
      "execution_count": null,
      "outputs": []
    },
    {
      "cell_type": "markdown",
      "metadata": {
        "id": "w6R7Tkm1GUDR"
      },
      "source": [
        "GloVe Testing"
      ]
    },
    {
      "cell_type": "code",
      "metadata": {
        "id": "IuutgufHGWIU"
      },
      "source": [
        "vectorized_seqs = [[word2idx[tok] for tok in seq if tok in word2idx] for seq in true_test_tokenized_corpus]\r\n",
        "\r\n",
        "# To avoid any sentences being empty (if no words match to our word embeddings)\r\n",
        "feature = [x if len(x) > 0 else [0] for x in vectorized_seqs]\r\n",
        "\r\n",
        "test_ids = true_test_df['id']\r\n",
        "test_dataset = Task1Dataset(feature, test_ids)\r\n",
        "test_dataloader = torch.utils.data.DataLoader(test_dataset, batch_size=BATCH_SIZE, collate_fn=collate_fn_padd)\r\n",
        "\r\n",
        "predictions, pred_ids = get_predictions(test_dataloader, model)\r\n",
        "pd.DataFrame({'id': pred_ids, 'pred': predictions}).to_csv(\"./predictions.csv\")\r\n",
        "score_task_1('./test.csv', './predictions.csv')"
      ],
      "execution_count": null,
      "outputs": []
    },
    {
      "cell_type": "markdown",
      "metadata": {
        "id": "R0lEX6XGT29m"
      },
      "source": [
        "#### Cross Validation (Not working anymore after refactor, but we stuck with the best parameters)"
      ]
    },
    {
      "cell_type": "code",
      "metadata": {
        "id": "e5J5HmT_T6tY"
      },
      "source": [
        "grid = {\r\n",
        "    'learning_rate': [1e-3, 1e-4, 1e-5, 1e-6],\r\n",
        "    'batch_size': [32, 64]\r\n",
        "}\r\n",
        "\r\n",
        "# scorer = make_scorer(make_custom_score, needs_proba=True)\r\n",
        "paramGrid = ParameterGrid(grid)\r\n",
        "cv = KFold(5)\r\n",
        "labels = train_df['meanGrade']\r\n",
        "\r\n",
        "train_and_dev = Task1Dataset(vectorized_seqs, train_df['meanGrade'])\r\n",
        "\r\n",
        "# Cross Validation\r\n",
        "\r\n",
        "for params in paramGrid:\r\n",
        "\r\n",
        "    print(\"Current parameters: \" + str(params))\r\n",
        "    fold = 0;\r\n",
        "\r\n",
        "    optimizer = torch.optim.Adam(model.parameters(), params[\"learning_rate\"])\r\n",
        "    for train_indices, dev_indices in cv.split(vectorized_seqs, labels):\r\n",
        "\r\n",
        "        fold += 1;\r\n",
        "        print(\"Current fold: \" + str(fold))\r\n",
        "\r\n",
        "        train_dataset = torch.utils.data.Subset(train_and_dev, train_indices)\r\n",
        "        dev_dataset = torch.utils.data.Subset(train_and_dev, dev_indices)\r\n",
        "\r\n",
        "        print(\"Dataloaders created.\")\r\n",
        "\r\n",
        "        train_loader = torch.utils.data.DataLoader(train_dataset, shuffle=True, batch_size=BATCH_SIZE, collate_fn=collate_fn_padd)\r\n",
        "        dev_loader = torch.utils.data.DataLoader(dev_dataset, batch_size=BATCH_SIZE, collate_fn=collate_fn_padd)\r\n",
        "\r\n",
        "        train(train_loader, dev_loader, model, epochs, loss_fn, optimizer)"
      ],
      "execution_count": null,
      "outputs": []
    },
    {
      "cell_type": "markdown",
      "metadata": {
        "id": "xMA3mumakDSZ"
      },
      "source": [
        "### Models (Approach 2)"
      ]
    },
    {
      "cell_type": "markdown",
      "metadata": {
        "id": "Db5Li_oAsskV"
      },
      "source": [
        "Simple BiLSTM on Brown Corpus"
      ]
    },
    {
      "cell_type": "code",
      "metadata": {
        "scrolled": true,
        "id": "0_4Benjk3BQg",
        "colab": {
          "base_uri": "https://localhost:8080/"
        },
        "outputId": "f4678667-ee7e-43bf-cf0e-2f4534f84c8d"
      },
      "source": [
        "## Using the our Brown corpus on a simple BiLSTM layer\n",
        "#=====================================#\n",
        "# Define run specific hyperparameters #\n",
        "#=====================================#\n",
        "lr = 0.001\n",
        "epochs = 6\n",
        "#=====================================#\n",
        "\n",
        "model = BiLSTM(brown_e_dim, h_dim, brown_input_dim, batch_size, device).to(device)\n",
        "# We provide the model with our embeddings\n",
        "model.embedding.weight.data.copy_(torch.from_numpy(brown_wvecs))\n",
        "optimizer = torch.optim.Adam(model.parameters(), lr=lr)\n",
        "\n",
        "# Define the loss function\n",
        "loss_fn = nn.MSELoss()\n",
        "loss_fn = loss_fn.to(device)\n",
        "\n",
        "print(\"Model initialised.\")\n",
        "results = train(brown_train_loader, brown_test_loader, model, epochs, loss_fn, optimizer)"
      ],
      "execution_count": null,
      "outputs": [
        {
          "output_type": "stream",
          "text": [
            "Model initialised.\n",
            "Training model.\n",
            "| Epoch: 01 | Train Loss: 0.3650 | Train RMSE: 0.6042 | Val. Loss: 0.3453 | Val. RMSE: 0.5876 |\n",
            "| Epoch: 02 | Train Loss: 0.3379 | Train RMSE: 0.5813 | Val. Loss: 0.3441 | Val. RMSE: 0.5866 |\n",
            "| Epoch: 03 | Train Loss: 0.3156 | Train RMSE: 0.5618 | Val. Loss: 0.3406 | Val. RMSE: 0.5836 |\n",
            "| Epoch: 04 | Train Loss: 0.2708 | Train RMSE: 0.5204 | Val. Loss: 0.3620 | Val. RMSE: 0.6017 |\n",
            "| Epoch: 05 | Train Loss: 0.2436 | Train RMSE: 0.4936 | Val. Loss: 0.3697 | Val. RMSE: 0.6080 |\n",
            "| Epoch: 06 | Train Loss: 0.2251 | Train RMSE: 0.4745 | Val. Loss: 0.3731 | Val. RMSE: 0.6108 |\n"
          ],
          "name": "stdout"
        }
      ]
    },
    {
      "cell_type": "markdown",
      "metadata": {
        "id": "XYYfOat7AJ8E"
      },
      "source": [
        "Simple regression model on extracted features"
      ]
    },
    {
      "cell_type": "code",
      "metadata": {
        "id": "ewkWUrP33BQj",
        "colab": {
          "base_uri": "https://localhost:8080/"
        },
        "outputId": "29956687-15c0-41fc-c1bc-b68f9559b660"
      },
      "source": [
        "# Using hand-crafted features on a LinearRegressor model.\n",
        "extracted_df = add_extracted_features(train_df)\n",
        "numeric_data = extracted_df.select_dtypes(['number']).drop(columns='id')\n",
        "\n",
        "x = numeric_data.drop(columns=['meanGrade', 'grades']).values\n",
        "y = numeric_data['meanGrade'].values\n",
        "\n",
        "training_data, dev_data, training_y, dev_y = train_test_split(x, y, test_size=(1-train_proportion),\n",
        "                                                                        random_state=42)\n",
        "\n",
        "regression_model = LinearRegression().fit(training_data, training_y)\n",
        "\n",
        "# Train predictions\n",
        "predicted_train = regression_model.predict(training_data)\n",
        "\n",
        "# Dev predictions\n",
        "predicted = regression_model.predict(dev_data)\n",
        "\n",
        "# We run the evaluation:\n",
        "print(\"\\nTrain performance:\")\n",
        "sse, mse = model_performance(predicted_train, training_y, True)\n",
        "\n",
        "print(\"\\nDev performance:\")\n",
        "sse, mse = model_performance(predicted, dev_y, True)"
      ],
      "execution_count": null,
      "outputs": [
        {
          "output_type": "stream",
          "text": [
            "\n",
            "Train performance:\n",
            "| MSE: 0.34 | RMSE: 0.58 |\n",
            "\n",
            "Dev performance:\n",
            "| MSE: 0.34 | RMSE: 0.58 |\n"
          ],
          "name": "stdout"
        }
      ]
    },
    {
      "cell_type": "markdown",
      "metadata": {
        "id": "OjVcd4pYAQH7"
      },
      "source": [
        "Simple FNN on extracted features + TF-IDF"
      ]
    },
    {
      "cell_type": "code",
      "metadata": {
        "id": "5O0Ajan7ASSM"
      },
      "source": [
        "# Define simple model architecture.\n",
        "class Net(nn.Module):\n",
        "    def __init__(self, input_size, hidden_size, output_size):\n",
        "        super(Net, self).__init__()                    \n",
        "        self.fc1 = nn.Linear(input_size, hidden_size)\n",
        "        self.relu = nn.ReLU()\n",
        "        self.dropout = nn.Dropout(0.2)                \n",
        "        self.fc2 = nn.Linear(hidden_size, output_size)\n",
        "    \n",
        "    def forward(self, x):                              \n",
        "        out = self.fc1(x)\n",
        "        out = self.relu(out)\n",
        "        out = self.dropout(out)\n",
        "        out = self.fc2(out)\n",
        "        return out"
      ],
      "execution_count": null,
      "outputs": []
    },
    {
      "cell_type": "code",
      "metadata": {
        "colab": {
          "base_uri": "https://localhost:8080/",
          "height": 1000
        },
        "id": "KGbTrzK9Bae5",
        "outputId": "9081a2f9-25ec-4e19-8887-4bcebcd6302b"
      },
      "source": [
        "extracted_df = add_extracted_features(train_df)\n",
        "preprocessed_df = get_processed_df(train_df)\n",
        "\n",
        "numeric_data = extracted_df.select_dtypes(['number']).drop(columns='id')\n",
        "tfidf_sentence = get_tfidf(preprocessed_df['editedSentence'])\n",
        "\n",
        "x = numeric_data.drop(columns=['meanGrade', 'grades']).values\n",
        "x = np.concatenate((tfidf_sentence.toarray(), x), axis=1)\n",
        "y = numeric_data['meanGrade'].values\n",
        "\n",
        "# Prepare data.\n",
        "training_data, dev_data, training_y, dev_y = train_test_split(x, y, test_size=(1-train_proportion),\n",
        "                                                                        random_state=42)\n",
        "x_train = torch.Tensor(training_data).cuda()\n",
        "y_train = torch.Tensor(training_y).cuda()\n",
        "x_test = torch.Tensor(dev_data).cuda()\n",
        "y_test = torch.Tensor(dev_y).cuda()\n",
        "\n",
        "# Initialise model.\n",
        "net = Net(input_size=x.shape[1], hidden_size=20, output_size=1)\n",
        "net.cuda()\n",
        "optimizer = torch.optim.SGD(net.parameters(), lr=0.2)\n",
        "loss_func = torch.nn.MSELoss()\n",
        "\n",
        "num_epochs = 40\n",
        "\n",
        "train_loss = []\n",
        "test_loss = []\n",
        "\n",
        "# Train the network\n",
        "for t in range(num_epochs):\n",
        "    tr_loss = 0\n",
        "    te_loss = 0\n",
        "    prediction = net(x_train)     \n",
        "\n",
        "    tr_loss = loss_func(prediction, y_train)\n",
        "    train_loss.append(tr_loss/len(x_train))\n",
        "\n",
        "    optimizer.zero_grad()   \n",
        "    tr_loss.backward()        \n",
        "    optimizer.step()       \n",
        "    \n",
        "    with torch.no_grad():\n",
        "      test_pred = net(x_test)\n",
        "      te_loss = loss_func(test_pred, y_test)\n",
        "      test_loss.append(te_loss/len(x_test))\n",
        "   \n",
        "    print(\"Epoch: {} | Train loss: {} | Test loss: {}\".format(t+1, tr_loss/len(x_train), te_loss/len(x_test)))\n",
        "\n",
        "\n",
        "fig, ax = plt.subplots(figsize=(12,7))\n",
        "ax.set_title('Loss Plots')\n",
        "ax.set_xlabel('Epochs')\n",
        "ax.set_ylabel('Loss')\n",
        "ax.set_yscale('log')\n",
        "ax.plot(list(range(t+1)), train_loss, label=\"Train Loss\")\n",
        "ax.plot(list(range(t+1)), test_loss, label=\"Test Loss\")\n",
        "fig.legend()\n",
        "\n",
        "# Test\n",
        "predicted_train = net(x_train).cpu().detach().numpy()\n",
        "predicted_test = net(x_test).cpu().detach().numpy()\n",
        "print(\"\\nTrain performance:\")\n",
        "sse, mse = model_performance(predicted_train, training_y, True)\n",
        "print(\"\\nDev performance:\")\n",
        "sse, mse = model_performance(predicted_test, dev_y, True)"
      ],
      "execution_count": null,
      "outputs": [
        {
          "output_type": "stream",
          "text": [
            "/usr/local/lib/python3.7/dist-packages/torch/nn/modules/loss.py:446: UserWarning: Using a target size (torch.Size([7721])) that is different to the input size (torch.Size([7721, 1])). This will likely lead to incorrect results due to broadcasting. Please ensure they have the same size.\n",
            "  return F.mse_loss(input, target, reduction=self.reduction)\n",
            "/usr/local/lib/python3.7/dist-packages/torch/nn/modules/loss.py:446: UserWarning: Using a target size (torch.Size([1931])) that is different to the input size (torch.Size([1931, 1])). This will likely lead to incorrect results due to broadcasting. Please ensure they have the same size.\n",
            "  return F.mse_loss(input, target, reduction=self.reduction)\n"
          ],
          "name": "stderr"
        },
        {
          "output_type": "stream",
          "text": [
            "Epoch: 1 | Train loss: 0.0002180482551921159 | Test loss: 18.506433486938477\n",
            "Epoch: 2 | Train loss: 4.55071496963501 | Test loss: 2.2326202392578125\n",
            "Epoch: 3 | Train loss: 0.5582336187362671 | Test loss: 0.8039882779121399\n",
            "Epoch: 4 | Train loss: 0.2009923756122589 | Test loss: 0.28962793946266174\n",
            "Epoch: 5 | Train loss: 0.0723855122923851 | Test loss: 0.10442624986171722\n",
            "Epoch: 6 | Train loss: 0.026087049394845963 | Test loss: 0.0377345085144043\n",
            "Epoch: 7 | Train loss: 0.009419599547982216 | Test loss: 0.013714012689888477\n",
            "Epoch: 8 | Train loss: 0.0034193212632089853 | Test loss: 0.0050597465597093105\n",
            "Epoch: 9 | Train loss: 0.001259221346117556 | Test loss: 0.0019400769378989935\n",
            "Epoch: 10 | Train loss: 0.00048158527351915836 | Test loss: 0.0008145159226842225\n",
            "Epoch: 11 | Train loss: 0.00020163645967841148 | Test loss: 0.00040782600990496576\n",
            "Epoch: 12 | Train loss: 0.00010085484245792031 | Test loss: 0.0002605248591862619\n",
            "Epoch: 13 | Train loss: 6.457346898969263e-05 | Test loss: 0.0002069607871817425\n",
            "Epoch: 14 | Train loss: 5.1512168283807114e-05 | Test loss: 0.00018735628691501915\n",
            "Epoch: 15 | Train loss: 4.681009886553511e-05 | Test loss: 0.00018010583880823106\n",
            "Epoch: 16 | Train loss: 4.511735824053176e-05 | Test loss: 0.0001773799885995686\n",
            "Epoch: 17 | Train loss: 4.450796768651344e-05 | Test loss: 0.00017632925300858915\n",
            "Epoch: 18 | Train loss: 4.4288575736572966e-05 | Test loss: 0.0001759093429427594\n",
            "Epoch: 19 | Train loss: 4.420960249262862e-05 | Test loss: 0.00017573317745700479\n",
            "Epoch: 20 | Train loss: 4.4181186240166426e-05 | Test loss: 0.00017565475718583912\n",
            "Epoch: 21 | Train loss: 4.417094532982446e-05 | Test loss: 0.0001756175042828545\n",
            "Epoch: 22 | Train loss: 4.416725641931407e-05 | Test loss: 0.00017559871776029468\n",
            "Epoch: 23 | Train loss: 4.41659358330071e-05 | Test loss: 0.00017558870604261756\n",
            "Epoch: 24 | Train loss: 4.4165451981825754e-05 | Test loss: 0.00017558316176291555\n",
            "Epoch: 25 | Train loss: 4.4165262806927785e-05 | Test loss: 0.000175580003997311\n",
            "Epoch: 26 | Train loss: 4.416522278916091e-05 | Test loss: 0.00017557817045599222\n",
            "Epoch: 27 | Train loss: 4.416519368533045e-05 | Test loss: 0.00017557709361426532\n",
            "Epoch: 28 | Train loss: 4.416520459926687e-05 | Test loss: 0.00017557643877808005\n",
            "Epoch: 29 | Train loss: 4.4165186409372836e-05 | Test loss: 0.00017557607498019934\n",
            "Epoch: 30 | Train loss: 4.416518277139403e-05 | Test loss: 0.00017557584214955568\n",
            "Epoch: 31 | Train loss: 4.4165186409372836e-05 | Test loss: 0.0001755756966304034\n",
            "Epoch: 32 | Train loss: 4.416517913341522e-05 | Test loss: 0.00017557562387082726\n",
            "Epoch: 33 | Train loss: 4.4165190047351643e-05 | Test loss: 0.00017557556566316634\n",
            "Epoch: 34 | Train loss: 4.4165186409372836e-05 | Test loss: 0.0001755755365593359\n",
            "Epoch: 35 | Train loss: 4.416517185745761e-05 | Test loss: 0.00017557550745550543\n",
            "Epoch: 36 | Train loss: 4.416518277139403e-05 | Test loss: 0.0001755755365593359\n",
            "Epoch: 37 | Train loss: 4.4165186409372836e-05 | Test loss: 0.00017557552200742066\n",
            "Epoch: 38 | Train loss: 4.416519368533045e-05 | Test loss: 0.00017557550745550543\n",
            "Epoch: 39 | Train loss: 4.4165186409372836e-05 | Test loss: 0.00017557550745550543\n",
            "Epoch: 40 | Train loss: 4.4165186409372836e-05 | Test loss: 0.00017557550745550543\n",
            "\n",
            "Train performance:\n",
            "| MSE: 0.34 | RMSE: 0.58 |\n",
            "\n",
            "Dev performance:\n",
            "| MSE: 0.34 | RMSE: 0.58 |\n"
          ],
          "name": "stdout"
        },
        {
          "output_type": "display_data",
          "data": {
            "image/png": "[encoded data removed]",
            "text/plain": [
              "<Figure size 864x504 with 1 Axes>"
            ]
          },
          "metadata": {
            "tags": [],
            "needs_background": "light"
          }
        }
      ]
    },
    {
      "cell_type": "markdown",
      "metadata": {
        "id": "Gb84ziTQFzvY"
      },
      "source": [
        "FNN on additional FunLines dataset"
      ]
    },
    {
      "cell_type": "code",
      "metadata": {
        "colab": {
          "base_uri": "https://localhost:8080/"
        },
        "id": "WvZ242XMF7-l",
        "outputId": "f71f8255-42a5-4253-b7f6-9fed06544c17"
      },
      "source": [
        "from google.colab import drive\n",
        "drive.mount('/content/gdrive')"
      ],
      "execution_count": null,
      "outputs": [
        {
          "output_type": "stream",
          "text": [
            "Mounted at /content/gdrive\n"
          ],
          "name": "stdout"
        }
      ]
    },
    {
      "cell_type": "code",
      "metadata": {
        "id": "YXXzQCLRGMYp"
      },
      "source": [
        "# download data\n",
        "funlines_train_df = pd.read_csv(\"/content/gdrive/MyDrive/YEAR4/NLP/data/train_funlines.csv\")"
      ],
      "execution_count": null,
      "outputs": []
    },
    {
      "cell_type": "code",
      "metadata": {
        "id": "0nKXuusmGecG"
      },
      "source": [
        "# Prepare FunLines dataset.\n",
        "x_og, x_new, x_og_word, x_new_word = get_sentences(funlines_train_df)\n",
        "y_og, y_new, y_og_word, y_new_word = get_sentences(funlines_train_df)\n",
        "x_grades = funlines_train_df['meanGrade']\n",
        "\n",
        "# Insert these new sentences into the dataframe\n",
        "funlines_train_df['editedSentence'] = x_new\n",
        "funlines_train_df['replaceWord'] = x_og_word"
      ],
      "execution_count": null,
      "outputs": []
    },
    {
      "cell_type": "code",
      "metadata": {
        "colab": {
          "base_uri": "https://localhost:8080/",
          "height": 1000
        },
        "id": "GFLheaNQFyFB",
        "outputId": "a9616cd0-17d5-4822-d8ed-9c9014cb3fb2"
      },
      "source": [
        "orig_extracted_df = add_extracted_features(train_df)\n",
        "funlines_extracted_df = add_extracted_features(funlines_train_df)\n",
        "\n",
        "numeric_data = orig_extracted_df.select_dtypes(['number']).drop(columns='id')\n",
        "funlines_numeric_data = funlines_extracted_df.select_dtypes(['number']).drop(columns='id')\n",
        "\n",
        "x = numeric_data.drop(columns=['meanGrade', 'grades']).values\n",
        "y = numeric_data['meanGrade'].values\n",
        "\n",
        "# Prepare data.\n",
        "training_data, dev_data, training_y, dev_y = train_test_split(x, y, test_size=(1-train_proportion),\n",
        "                                                                        random_state=42)\n",
        "\n",
        "# Append additional training data.\n",
        "funlines_x = funlines_numeric_data.drop(columns=['meanGrade', 'grades']).values\n",
        "funlines_y = funlines_numeric_data['meanGrade'].values\n",
        "training_data = np.concatenate((training_data, funlines_x), axis=0)\n",
        "training_y = np.concatenate((training_y, funlines_y), axis=0)\n",
        "\n",
        "x_train = torch.Tensor(training_data).cuda()\n",
        "y_train = torch.Tensor(training_y).cuda()\n",
        "x_test = torch.Tensor(dev_data).cuda()\n",
        "y_test = torch.Tensor(dev_y).cuda()\n",
        "\n",
        "# Initialise model.\n",
        "net = Net(input_size=x.shape[1], hidden_size=20, output_size=1)\n",
        "net.cuda()\n",
        "optimizer = torch.optim.SGD(net.parameters(), lr=0.2)\n",
        "loss_func = torch.nn.MSELoss()\n",
        "\n",
        "num_epochs = 40\n",
        "\n",
        "train_loss = []\n",
        "test_loss = []\n",
        "\n",
        "# Train the network\n",
        "for t in range(num_epochs):\n",
        "    tr_loss = 0\n",
        "    te_loss = 0\n",
        "    prediction = net(x_train)     \n",
        "\n",
        "    tr_loss = loss_func(prediction, y_train)\n",
        "    train_loss.append(tr_loss/len(x_train))\n",
        "\n",
        "    optimizer.zero_grad()   \n",
        "    tr_loss.backward()        \n",
        "    optimizer.step()       \n",
        "    \n",
        "    with torch.no_grad():\n",
        "      test_pred = net(x_test)\n",
        "      te_loss = loss_func(test_pred, y_test)\n",
        "      test_loss.append(te_loss/len(x_test))\n",
        "   \n",
        "    print(\"Epoch: {} | Train loss: {} | Test loss: {}\".format(t+1, tr_loss/len(x_train), te_loss/len(x_test)))\n",
        "\n",
        "\n",
        "fig, ax = plt.subplots(figsize=(12,7))\n",
        "ax.set_title('Loss Plots')\n",
        "ax.set_xlabel('Epochs')\n",
        "ax.set_ylabel('Loss')\n",
        "ax.set_yscale('log')\n",
        "ax.plot(list(range(t+1)), train_loss, label=\"Train Loss\")\n",
        "ax.plot(list(range(t+1)), test_loss, label=\"Test Loss\")\n",
        "fig.legend()\n",
        "\n",
        "# Test\n",
        "predicted_train = net(x_train).cpu().detach().numpy()\n",
        "predicted_test = net(x_test).cpu().detach().numpy()\n",
        "print(\"\\nTrain performance:\")\n",
        "sse, mse = model_performance(predicted_train, training_y, True)\n",
        "print(\"\\nDev performance:\")\n",
        "sse, mse = model_performance(predicted_test, dev_y, True)"
      ],
      "execution_count": null,
      "outputs": [
        {
          "output_type": "stream",
          "text": [
            "/usr/local/lib/python3.7/dist-packages/torch/nn/modules/loss.py:446: UserWarning: Using a target size (torch.Size([15969])) that is different to the input size (torch.Size([15969, 1])). This will likely lead to incorrect results due to broadcasting. Please ensure they have the same size.\n",
            "  return F.mse_loss(input, target, reduction=self.reduction)\n",
            "/usr/local/lib/python3.7/dist-packages/torch/nn/modules/loss.py:446: UserWarning: Using a target size (torch.Size([1931])) that is different to the input size (torch.Size([1931, 1])). This will likely lead to incorrect results due to broadcasting. Please ensure they have the same size.\n",
            "  return F.mse_loss(input, target, reduction=self.reduction)\n"
          ],
          "name": "stderr"
        },
        {
          "output_type": "stream",
          "text": [
            "Epoch: 1 | Train loss: 0.01633569970726967 | Test loss: 392794976.0\n",
            "Epoch: 2 | Train loss: 47671104.0 | Test loss: 48524284.0\n",
            "Epoch: 3 | Train loss: 5867649.0 | Test loss: 17468726.0\n",
            "Epoch: 4 | Train loss: 2112353.75 | Test loss: 6288733.0\n",
            "Epoch: 5 | Train loss: 760447.1875 | Test loss: 2263939.0\n",
            "Epoch: 6 | Train loss: 273760.90625 | Test loss: 815015.375\n",
            "Epoch: 7 | Train loss: 98553.9140625 | Test loss: 293403.84375\n",
            "Epoch: 8 | Train loss: 35479.4140625 | Test loss: 105624.3984375\n",
            "Epoch: 9 | Train loss: 12772.587890625 | Test loss: 38024.19921875\n",
            "Epoch: 10 | Train loss: 4598.1328125 | Test loss: 13688.3544921875\n",
            "Epoch: 11 | Train loss: 1655.3271484375 | Test loss: 4927.59521484375\n",
            "Epoch: 12 | Train loss: 595.9178466796875 | Test loss: 1773.806640625\n",
            "Epoch: 13 | Train loss: 214.5304412841797 | Test loss: 638.4938354492188\n",
            "Epoch: 14 | Train loss: 77.23097229003906 | Test loss: 229.81192016601562\n",
            "Epoch: 15 | Train loss: 27.803157806396484 | Test loss: 82.70486450195312\n",
            "Epoch: 16 | Train loss: 10.00915241241455 | Test loss: 29.75732421875\n",
            "Epoch: 17 | Train loss: 3.603309154510498 | Test loss: 10.702832221984863\n",
            "Epoch: 18 | Train loss: 1.2972054481506348 | Test loss: 3.8471851348876953\n",
            "Epoch: 19 | Train loss: 0.46700814366340637 | Test loss: 1.3815348148345947\n",
            "Epoch: 20 | Train loss: 0.16813717782497406 | Test loss: 0.49533000588417053\n",
            "Epoch: 21 | Train loss: 0.060543570667505264 | Test loss: 0.17715388536453247\n",
            "Epoch: 22 | Train loss: 0.02180989272892475 | Test loss: 0.06312503665685654\n",
            "Epoch: 23 | Train loss: 0.007865755818784237 | Test loss: 0.02238341048359871\n",
            "Epoch: 24 | Train loss: 0.0028458693996071815 | Test loss: 0.007901681587100029\n",
            "Epoch: 25 | Train loss: 0.0010387097718194127 | Test loss: 0.002799410605803132\n",
            "Epoch: 26 | Train loss: 0.000388132844818756 | Test loss: 0.0010292837396264076\n",
            "Epoch: 27 | Train loss: 0.0001539249933557585 | Test loss: 0.00043205206748098135\n",
            "Epoch: 28 | Train loss: 6.961013423278928e-05 | Test loss: 0.00024105746706482023\n",
            "Epoch: 29 | Train loss: 3.9256792661035433e-05 | Test loss: 0.0001867045502876863\n",
            "Epoch: 30 | Train loss: 2.8329586712061428e-05 | Test loss: 0.0001757806312525645\n",
            "Epoch: 31 | Train loss: 2.4395792934228666e-05 | Test loss: 0.00017703385674394667\n",
            "Epoch: 32 | Train loss: 2.2979622372076847e-05 | Test loss: 0.00018059655849356204\n",
            "Epoch: 33 | Train loss: 2.2469805116998032e-05 | Test loss: 0.00018374602950643748\n",
            "Epoch: 34 | Train loss: 2.228626726719085e-05 | Test loss: 0.00018600000475998968\n",
            "Epoch: 35 | Train loss: 2.2220205210032873e-05 | Test loss: 0.00018748351430986077\n",
            "Epoch: 36 | Train loss: 2.219641100964509e-05 | Test loss: 0.00018842084682546556\n",
            "Epoch: 37 | Train loss: 2.218785448349081e-05 | Test loss: 0.00018900021677836776\n",
            "Epoch: 38 | Train loss: 2.2184769477462396e-05 | Test loss: 0.00018935397383756936\n",
            "Epoch: 39 | Train loss: 2.2183661712915637e-05 | Test loss: 0.00018956843996420503\n",
            "Epoch: 40 | Train loss: 2.2183259716257453e-05 | Test loss: 0.0001896979083539918\n",
            "\n",
            "Train performance:\n",
            "| MSE: 0.35 | RMSE: 0.60 |\n",
            "\n",
            "Dev performance:\n",
            "| MSE: 0.37 | RMSE: 0.61 |\n"
          ],
          "name": "stdout"
        },
        {
          "output_type": "display_data",
          "data": {
            "image/png": "[encoded data removed]",
            "text/plain": [
              "<Figure size 864x504 with 1 Axes>"
            ]
          },
          "metadata": {
            "tags": [],
            "needs_background": "light"
          }
        }
      ]
    },
    {
      "cell_type": "markdown",
      "metadata": {
        "id": "WA5bYyuG3BQj"
      },
      "source": [
        "### Baseline"
      ]
    },
    {
      "cell_type": "code",
      "metadata": {
        "id": "72fIC0-I3BQk",
        "colab": {
          "base_uri": "https://localhost:8080/",
          "height": 548
        },
        "outputId": "73d9925d-d3c7-424a-dd33-bcb5e0cb7ad0"
      },
      "source": [
        "# Baseline for the task\n",
        "pred_baseline = torch.zeros(len(dev_y)) + np.mean(training_y)\n",
        "print(\"\\nBaseline performance:\")\n",
        "sse, mse = model_performance(pred_baseline, dev_y, True)"
      ],
      "execution_count": null,
      "outputs": [
        {
          "output_type": "stream",
          "text": [
            "\n",
            "Baseline performance:\n"
          ],
          "name": "stdout"
        },
        {
          "output_type": "error",
          "ename": "TypeError",
          "evalue": "ignored",
          "traceback": [
            "\u001b[0;31m---------------------------------------------------------------------------\u001b[0m",
            "\u001b[0;31mTypeError\u001b[0m                                 Traceback (most recent call last)",
            "\u001b[0;32m<ipython-input-58-3c7b5eafe872>\u001b[0m in \u001b[0;36m<module>\u001b[0;34m()\u001b[0m\n\u001b[1;32m      2\u001b[0m \u001b[0mpred_baseline\u001b[0m \u001b[0;34m=\u001b[0m \u001b[0mtorch\u001b[0m\u001b[0;34m.\u001b[0m\u001b[0mzeros\u001b[0m\u001b[0;34m(\u001b[0m\u001b[0mlen\u001b[0m\u001b[0;34m(\u001b[0m\u001b[0mdev_y\u001b[0m\u001b[0;34m)\u001b[0m\u001b[0;34m)\u001b[0m \u001b[0;34m+\u001b[0m \u001b[0mnp\u001b[0m\u001b[0;34m.\u001b[0m\u001b[0mmean\u001b[0m\u001b[0;34m(\u001b[0m\u001b[0mtraining_y\u001b[0m\u001b[0;34m)\u001b[0m\u001b[0;34m\u001b[0m\u001b[0;34m\u001b[0m\u001b[0m\n\u001b[1;32m      3\u001b[0m \u001b[0mprint\u001b[0m\u001b[0;34m(\u001b[0m\u001b[0;34m\"\\nBaseline performance:\"\u001b[0m\u001b[0;34m)\u001b[0m\u001b[0;34m\u001b[0m\u001b[0;34m\u001b[0m\u001b[0m\n\u001b[0;32m----> 4\u001b[0;31m \u001b[0msse\u001b[0m\u001b[0;34m,\u001b[0m \u001b[0mmse\u001b[0m \u001b[0;34m=\u001b[0m \u001b[0mmodel_performance\u001b[0m\u001b[0;34m(\u001b[0m\u001b[0mpred_baseline\u001b[0m\u001b[0;34m,\u001b[0m \u001b[0mdev_y\u001b[0m\u001b[0;34m,\u001b[0m \u001b[0;32mTrue\u001b[0m\u001b[0;34m)\u001b[0m\u001b[0;34m\u001b[0m\u001b[0;34m\u001b[0m\u001b[0m\n\u001b[0m",
            "\u001b[0;32m<ipython-input-54-94966066193b>\u001b[0m in \u001b[0;36mmodel_performance\u001b[0;34m(output, target, print_output)\u001b[0m\n\u001b[1;32m      5\u001b[0m   \"\"\"\n\u001b[1;32m      6\u001b[0m   \u001b[0msq_error\u001b[0m \u001b[0;34m=\u001b[0m \u001b[0;34m(\u001b[0m\u001b[0moutput\u001b[0m \u001b[0;34m-\u001b[0m \u001b[0mtarget\u001b[0m\u001b[0;34m)\u001b[0m\u001b[0;34m**\u001b[0m\u001b[0;36m2\u001b[0m\u001b[0;34m\u001b[0m\u001b[0;34m\u001b[0m\u001b[0m\n\u001b[0;32m----> 7\u001b[0;31m   \u001b[0msse\u001b[0m \u001b[0;34m=\u001b[0m \u001b[0mnp\u001b[0m\u001b[0;34m.\u001b[0m\u001b[0msum\u001b[0m\u001b[0;34m(\u001b[0m\u001b[0msq_error\u001b[0m\u001b[0;34m)\u001b[0m\u001b[0;34m\u001b[0m\u001b[0;34m\u001b[0m\u001b[0m\n\u001b[0m\u001b[1;32m      8\u001b[0m   \u001b[0mmse\u001b[0m \u001b[0;34m=\u001b[0m \u001b[0mnp\u001b[0m\u001b[0;34m.\u001b[0m\u001b[0mmean\u001b[0m\u001b[0;34m(\u001b[0m\u001b[0msq_error\u001b[0m\u001b[0;34m)\u001b[0m\u001b[0;34m\u001b[0m\u001b[0;34m\u001b[0m\u001b[0m\n\u001b[1;32m      9\u001b[0m   \u001b[0mrmse\u001b[0m \u001b[0;34m=\u001b[0m \u001b[0mnp\u001b[0m\u001b[0;34m.\u001b[0m\u001b[0msqrt\u001b[0m\u001b[0;34m(\u001b[0m\u001b[0mmse\u001b[0m\u001b[0;34m)\u001b[0m\u001b[0;34m\u001b[0m\u001b[0;34m\u001b[0m\u001b[0m\n",
            "\u001b[0;32m<__array_function__ internals>\u001b[0m in \u001b[0;36msum\u001b[0;34m(*args, **kwargs)\u001b[0m\n",
            "\u001b[0;32m/usr/local/lib/python3.7/dist-packages/numpy/core/fromnumeric.py\u001b[0m in \u001b[0;36msum\u001b[0;34m(a, axis, dtype, out, keepdims, initial, where)\u001b[0m\n\u001b[1;32m   2240\u001b[0m \u001b[0;34m\u001b[0m\u001b[0m\n\u001b[1;32m   2241\u001b[0m     return _wrapreduction(a, np.add, 'sum', axis, dtype, out, keepdims=keepdims,\n\u001b[0;32m-> 2242\u001b[0;31m                           initial=initial, where=where)\n\u001b[0m\u001b[1;32m   2243\u001b[0m \u001b[0;34m\u001b[0m\u001b[0m\n\u001b[1;32m   2244\u001b[0m \u001b[0;34m\u001b[0m\u001b[0m\n",
            "\u001b[0;32m/usr/local/lib/python3.7/dist-packages/numpy/core/fromnumeric.py\u001b[0m in \u001b[0;36m_wrapreduction\u001b[0;34m(obj, ufunc, method, axis, dtype, out, **kwargs)\u001b[0m\n\u001b[1;32m     83\u001b[0m                 \u001b[0;32mreturn\u001b[0m \u001b[0mreduction\u001b[0m\u001b[0;34m(\u001b[0m\u001b[0maxis\u001b[0m\u001b[0;34m=\u001b[0m\u001b[0maxis\u001b[0m\u001b[0;34m,\u001b[0m \u001b[0mdtype\u001b[0m\u001b[0;34m=\u001b[0m\u001b[0mdtype\u001b[0m\u001b[0;34m,\u001b[0m \u001b[0mout\u001b[0m\u001b[0;34m=\u001b[0m\u001b[0mout\u001b[0m\u001b[0;34m,\u001b[0m \u001b[0;34m**\u001b[0m\u001b[0mpasskwargs\u001b[0m\u001b[0;34m)\u001b[0m\u001b[0;34m\u001b[0m\u001b[0;34m\u001b[0m\u001b[0m\n\u001b[1;32m     84\u001b[0m             \u001b[0;32melse\u001b[0m\u001b[0;34m:\u001b[0m\u001b[0;34m\u001b[0m\u001b[0;34m\u001b[0m\u001b[0m\n\u001b[0;32m---> 85\u001b[0;31m                 \u001b[0;32mreturn\u001b[0m \u001b[0mreduction\u001b[0m\u001b[0;34m(\u001b[0m\u001b[0maxis\u001b[0m\u001b[0;34m=\u001b[0m\u001b[0maxis\u001b[0m\u001b[0;34m,\u001b[0m \u001b[0mout\u001b[0m\u001b[0;34m=\u001b[0m\u001b[0mout\u001b[0m\u001b[0;34m,\u001b[0m \u001b[0;34m**\u001b[0m\u001b[0mpasskwargs\u001b[0m\u001b[0;34m)\u001b[0m\u001b[0;34m\u001b[0m\u001b[0;34m\u001b[0m\u001b[0m\n\u001b[0m\u001b[1;32m     86\u001b[0m \u001b[0;34m\u001b[0m\u001b[0m\n\u001b[1;32m     87\u001b[0m     \u001b[0;32mreturn\u001b[0m \u001b[0mufunc\u001b[0m\u001b[0;34m.\u001b[0m\u001b[0mreduce\u001b[0m\u001b[0;34m(\u001b[0m\u001b[0mobj\u001b[0m\u001b[0;34m,\u001b[0m \u001b[0maxis\u001b[0m\u001b[0;34m,\u001b[0m \u001b[0mdtype\u001b[0m\u001b[0;34m,\u001b[0m \u001b[0mout\u001b[0m\u001b[0;34m,\u001b[0m \u001b[0;34m**\u001b[0m\u001b[0mpasskwargs\u001b[0m\u001b[0;34m)\u001b[0m\u001b[0;34m\u001b[0m\u001b[0;34m\u001b[0m\u001b[0m\n",
            "\u001b[0;31mTypeError\u001b[0m: sum() received an invalid combination of arguments - got (out=NoneType, axis=NoneType, ), but expected one of:\n * (*, torch.dtype dtype)\n      didn't match because some of the keywords were incorrect: out, axis\n * (tuple of names dim, bool keepdim, *, torch.dtype dtype)\n * (tuple of ints dim, bool keepdim, *, torch.dtype dtype)\n"
          ]
        }
      ]
    },
    {
      "cell_type": "markdown",
      "metadata": {
        "id": "jtEePKZ5Nb-S"
      },
      "source": [
        "# Analysis\r\n",
        "Here we perform some analysis on the data distribution to see if there is any significant features that can be handcrafted and added to the training of the model."
      ]
    },
    {
      "cell_type": "markdown",
      "metadata": {
        "id": "9QoJp85EOYtw"
      },
      "source": [
        "## Sentence Statistics"
      ]
    },
    {
      "cell_type": "markdown",
      "metadata": {
        "id": "GqdY513cOgtl"
      },
      "source": [
        "### Grade distribution"
      ]
    },
    {
      "cell_type": "code",
      "metadata": {
        "id": "aY14ISU1NozJ"
      },
      "source": [
        "grades = train_df['meanGrade']\r\n",
        "print(\"Mean grade: {}\".format(grades.mean()))\r\n",
        "bins = np.arange(-0.1, 3.1, 0.1)\r\n",
        "print(\"bins: {}\".format(bins))\r\n",
        "\r\n",
        "grade_counts = grades.value_counts(bins=bins, sort=False)\r\n",
        "grade_counts.plot(figsize=(10,8), title=\"Grade Counts\", kind=\"bar\", xlabel=\"Grade\", ylabel=\"Counts\")"
      ],
      "execution_count": null,
      "outputs": []
    },
    {
      "cell_type": "markdown",
      "metadata": {
        "id": "gphEqSiVOiij"
      },
      "source": [
        "### Word/Character Count/Length Distribution"
      ]
    },
    {
      "cell_type": "code",
      "metadata": {
        "id": "TLaaREEiPlch"
      },
      "source": [
        "# Create new grade bins.\r\n",
        "category_bins = np.arange(-0.1, 3.5, 0.5)\r\n",
        "train_df['gradeCategory'] = pd.cut(train_df['meanGrade'], bins=category_bins, labels=[\"<0.5\", \"<1.0\", \"<1.5\", \"<2.0\", \"<2.5\", \"<3.0\", \"3.0\"])\r\n",
        "\r\n",
        "fig, axes = plt.subplots(nrows=1, ncols=2, figsize=(15,6))\r\n",
        "train_df.groupby(['meanGrade']).mean()['avgWordLength'].plot(title=\"Average Sentence Word Length by Grade\", ylabel=\"avgWordLength\", ax=axes[0])\r\n",
        "train_df.groupby(['gradeCategory']).mean()['avgWordLength'].plot(title=\"Average Sentence Word Length by Grade\", ylabel=\"avgWordLength\", ax=axes[1])"
      ],
      "execution_count": null,
      "outputs": []
    },
    {
      "cell_type": "markdown",
      "metadata": {
        "id": "u7sPX8chROrH"
      },
      "source": [
        "### Stop word Analysis"
      ]
    },
    {
      "cell_type": "code",
      "metadata": {
        "id": "4M1DvFI_QILa"
      },
      "source": [
        "train_df.groupby(['meanGrade']).mean()['numStopWords'].plot(title=\"Average numStopWords by Grade\", ylabel=\"numStopWords\", ax=axes[0])\r\n",
        "train_df.groupby(['gradeCategory']).mean()['numStopWords'].plot(title=\"Average numStopWords by Grade\", ylabel=\"numStopWords\", ax=axes[1])"
      ],
      "execution_count": null,
      "outputs": []
    },
    {
      "cell_type": "markdown",
      "metadata": {
        "id": "_JpB_aAbRewo"
      },
      "source": [
        "### Word type analysis"
      ]
    },
    {
      "cell_type": "code",
      "metadata": {
        "id": "tjZGCwIvRind"
      },
      "source": [
        "fig, axes = plt.subplots(nrows=1, ncols=2, figsize=(15,6))\r\n",
        "train_df.groupby(['meanGrade']).mean()['numHashtags'].plot(title=\"Average numHashtags by Grade\", ylabel=\"numHashtags\", ax=axes[0])\r\n",
        "train_df.groupby(['gradeCategory']).mean()['numHashtags'].plot(title=\"Average numHashtags by Grade\", ylabel=\"numHashtags\", ax=axes[1])"
      ],
      "execution_count": null,
      "outputs": []
    },
    {
      "cell_type": "code",
      "metadata": {
        "id": "5soMnTe2Rmnw"
      },
      "source": [
        "fig, axes = plt.subplots(nrows=1, ncols=2, figsize=(15,6))\r\n",
        "train_df.groupby(['meanGrade']).mean()['numDigits'].plot(title=\"Average numDigits by Grade\", ylabel=\"numDigits\", ax=axes[0])\r\n",
        "train_df.groupby(['gradeCategory']).mean()['numDigits'].plot(title=\"Average numDigits by Grade\", ylabel=\"numDigits\", ax=axes[1])"
      ],
      "execution_count": null,
      "outputs": []
    },
    {
      "cell_type": "code",
      "metadata": {
        "id": "Pz4zo3q3R37R"
      },
      "source": [
        "fig, axes = plt.subplots(nrows=1, ncols=2, figsize=(15,6))\r\n",
        "train_df.groupby(['meanGrade']).mean()['numUpperCase'].plot(title=\"Average numUpperCase by Grade\", ylabel=\"numUpperCase\", ax=axes[0])\r\n",
        "train_df.groupby(['gradeCategory']).mean()['numUpperCase'].plot(title=\"Average numUpperCase by Grade\", ylabel=\"numUpperCase\", ax=axes[1])"
      ],
      "execution_count": null,
      "outputs": []
    },
    {
      "cell_type": "markdown",
      "metadata": {
        "id": "nq3ZjcofRhhr"
      },
      "source": [
        "## Text Analysis"
      ]
    },
    {
      "cell_type": "code",
      "metadata": {
        "id": "Ub9ZBXuSSfYQ"
      },
      "source": [
        "# Get set of replacement words.\r\n",
        "replacement_words = train_df['edit']\r\n",
        "print(replacement_words.value_counts())\r\n",
        "print(\"Num replaced words == 'trump': {}\".format(len(train_df[train_df['edit'] == 'trump'])))\r\n",
        "print(\"Mean grade of replaced words == 'party': {}\".format(train_df[train_df['edit'] == 'party'].mean()['meanGrade']))\r\n",
        "print(\"Mean grade of replaced words == 'hair': {}\".format(train_df[train_df['edit'] == 'hair'].mean()['meanGrade']))\r\n",
        "print(\"Mean grade of replaced words == 'dance': {}\".format(train_df[train_df['edit'] == 'dance'].mean()['meanGrade']))\r\n",
        "print(\"Mean grade of replaced words == 'dancing': {}\".format(train_df[train_df['edit'] == 'dancing'].mean()['meanGrade']))\r\n",
        "print(\"Mean grade of replaced words == 'circus': {}\".format(train_df[train_df['edit'] == 'circus'].mean()['meanGrade']))"
      ],
      "execution_count": null,
      "outputs": []
    },
    {
      "cell_type": "code",
      "metadata": {
        "id": "ytTzvgDaSgtO"
      },
      "source": [
        "# Funniest sentence.\r\n",
        "train_df.loc[train_df['meanGrade'].idxmax()]"
      ],
      "execution_count": null,
      "outputs": []
    },
    {
      "cell_type": "code",
      "metadata": {
        "id": "oj3R2MbmSku2"
      },
      "source": [
        "# Find common words.\r\n",
        "freq = pd.Series(' '.join(processed['editedSentence']).split()).value_counts()\r\n",
        "top_freq = freq[:10]\r\n",
        "top_freq"
      ],
      "execution_count": null,
      "outputs": []
    },
    {
      "cell_type": "code",
      "metadata": {
        "id": "bhR_xF2nSl4r"
      },
      "source": [
        "# Find rare words.\r\n",
        "bottom_freq = freq[-10:]\r\n",
        "bottom_freq"
      ],
      "execution_count": null,
      "outputs": []
    },
    {
      "cell_type": "code",
      "metadata": {
        "id": "LnnIpvjWSrV5"
      },
      "source": [
        "# We cannot delete the most/least common words because they are the edited words.\r\n",
        "print(\"Least common words that are replacement words: {}\".format(set.intersection(set(bottom_freq.index.tolist()), set(replacement_words.values.tolist()))))\r\n",
        "print(\"Most common words that are replacement words: {}\".format(set.intersection(set(top_freq.index.tolist()), set(replacement_words.values.tolist()))))"
      ],
      "execution_count": null,
      "outputs": []
    },
    {
      "cell_type": "code",
      "metadata": {
        "id": "dCR6a2SeZHIh"
      },
      "source": [
        "# Plot the feature correlation\r\n",
        "import seaborn as sns\r\n",
        "corr = numeric_data.corr()\r\n",
        "f, ax = plt.subplots(figsize=(11, 9))\r\n",
        "cmap = sns.diverging_palette(230, 20, as_cmap=True)\r\n",
        "sns.heatmap(corr, cmap=cmap, vmax=.3, center=0, square=True, linewidths=.5, cbar_kws={\"shrink\": .5})"
      ],
      "execution_count": null,
      "outputs": []
    }
  ]
}